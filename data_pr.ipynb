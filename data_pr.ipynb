{
  "nbformat": 4,
  "nbformat_minor": 0,
  "metadata": {
    "colab": {
      "provenance": [],
      "machine_shape": "hm",
      "gpuType": "L4",
      "collapsed_sections": [
        "xbyTU5N9_gX_",
        "dJA7WlA2FQbb",
        "IIiUM_uF2Wuj",
        "ysBeTjhGxf9H",
        "JwudZKE7H64j"
      ]
    },
    "kernelspec": {
      "name": "python3",
      "display_name": "Python 3"
    },
    "language_info": {
      "name": "python"
    },
    "accelerator": "GPU",
    "widgets": {
      "application/vnd.jupyter.widget-state+json": {
        "e24597884b3945edaefbfbd45f734202": {
          "model_module": "@jupyter-widgets/controls",
          "model_name": "HBoxModel",
          "model_module_version": "1.5.0",
          "state": {
            "_dom_classes": [],
            "_model_module": "@jupyter-widgets/controls",
            "_model_module_version": "1.5.0",
            "_model_name": "HBoxModel",
            "_view_count": null,
            "_view_module": "@jupyter-widgets/controls",
            "_view_module_version": "1.5.0",
            "_view_name": "HBoxView",
            "box_style": "",
            "children": [
              "IPY_MODEL_75a50867658b4c0a9ea900f3474be00b",
              "IPY_MODEL_e443738d2d8c473ab3408dad967b74a2",
              "IPY_MODEL_f0db71d2eccf40d8bae50e3556534976"
            ],
            "layout": "IPY_MODEL_5b2e406327c745008638b4f03a656228"
          }
        },
        "75a50867658b4c0a9ea900f3474be00b": {
          "model_module": "@jupyter-widgets/controls",
          "model_name": "HTMLModel",
          "model_module_version": "1.5.0",
          "state": {
            "_dom_classes": [],
            "_model_module": "@jupyter-widgets/controls",
            "_model_module_version": "1.5.0",
            "_model_name": "HTMLModel",
            "_view_count": null,
            "_view_module": "@jupyter-widgets/controls",
            "_view_module_version": "1.5.0",
            "_view_name": "HTMLView",
            "description": "",
            "description_tooltip": null,
            "layout": "IPY_MODEL_e78b93e3d5fa44b9a3160b88d4cfb80f",
            "placeholder": "​",
            "style": "IPY_MODEL_3a2c7a3cb8bc4558b45597be2ece48a3",
            "value": "100%"
          }
        },
        "e443738d2d8c473ab3408dad967b74a2": {
          "model_module": "@jupyter-widgets/controls",
          "model_name": "FloatProgressModel",
          "model_module_version": "1.5.0",
          "state": {
            "_dom_classes": [],
            "_model_module": "@jupyter-widgets/controls",
            "_model_module_version": "1.5.0",
            "_model_name": "FloatProgressModel",
            "_view_count": null,
            "_view_module": "@jupyter-widgets/controls",
            "_view_module_version": "1.5.0",
            "_view_name": "ProgressView",
            "bar_style": "success",
            "description": "",
            "description_tooltip": null,
            "layout": "IPY_MODEL_2a73a8a182924a2a8ebff43e9fe09f4e",
            "max": 50,
            "min": 0,
            "orientation": "horizontal",
            "style": "IPY_MODEL_2028b4364745480da436dc2e152a0c88",
            "value": 50
          }
        },
        "f0db71d2eccf40d8bae50e3556534976": {
          "model_module": "@jupyter-widgets/controls",
          "model_name": "HTMLModel",
          "model_module_version": "1.5.0",
          "state": {
            "_dom_classes": [],
            "_model_module": "@jupyter-widgets/controls",
            "_model_module_version": "1.5.0",
            "_model_name": "HTMLModel",
            "_view_count": null,
            "_view_module": "@jupyter-widgets/controls",
            "_view_module_version": "1.5.0",
            "_view_name": "HTMLView",
            "description": "",
            "description_tooltip": null,
            "layout": "IPY_MODEL_16cec2ce4eb14a18bc98a487d6c29151",
            "placeholder": "​",
            "style": "IPY_MODEL_125ef110a8434468b7c8750a3dc80e52",
            "value": " 50/50 [3:47:32&lt;00:00, 283.10s/it]"
          }
        },
        "5b2e406327c745008638b4f03a656228": {
          "model_module": "@jupyter-widgets/base",
          "model_name": "LayoutModel",
          "model_module_version": "1.2.0",
          "state": {
            "_model_module": "@jupyter-widgets/base",
            "_model_module_version": "1.2.0",
            "_model_name": "LayoutModel",
            "_view_count": null,
            "_view_module": "@jupyter-widgets/base",
            "_view_module_version": "1.2.0",
            "_view_name": "LayoutView",
            "align_content": null,
            "align_items": null,
            "align_self": null,
            "border": null,
            "bottom": null,
            "display": null,
            "flex": null,
            "flex_flow": null,
            "grid_area": null,
            "grid_auto_columns": null,
            "grid_auto_flow": null,
            "grid_auto_rows": null,
            "grid_column": null,
            "grid_gap": null,
            "grid_row": null,
            "grid_template_areas": null,
            "grid_template_columns": null,
            "grid_template_rows": null,
            "height": null,
            "justify_content": null,
            "justify_items": null,
            "left": null,
            "margin": null,
            "max_height": null,
            "max_width": null,
            "min_height": null,
            "min_width": null,
            "object_fit": null,
            "object_position": null,
            "order": null,
            "overflow": null,
            "overflow_x": null,
            "overflow_y": null,
            "padding": null,
            "right": null,
            "top": null,
            "visibility": null,
            "width": null
          }
        },
        "e78b93e3d5fa44b9a3160b88d4cfb80f": {
          "model_module": "@jupyter-widgets/base",
          "model_name": "LayoutModel",
          "model_module_version": "1.2.0",
          "state": {
            "_model_module": "@jupyter-widgets/base",
            "_model_module_version": "1.2.0",
            "_model_name": "LayoutModel",
            "_view_count": null,
            "_view_module": "@jupyter-widgets/base",
            "_view_module_version": "1.2.0",
            "_view_name": "LayoutView",
            "align_content": null,
            "align_items": null,
            "align_self": null,
            "border": null,
            "bottom": null,
            "display": null,
            "flex": null,
            "flex_flow": null,
            "grid_area": null,
            "grid_auto_columns": null,
            "grid_auto_flow": null,
            "grid_auto_rows": null,
            "grid_column": null,
            "grid_gap": null,
            "grid_row": null,
            "grid_template_areas": null,
            "grid_template_columns": null,
            "grid_template_rows": null,
            "height": null,
            "justify_content": null,
            "justify_items": null,
            "left": null,
            "margin": null,
            "max_height": null,
            "max_width": null,
            "min_height": null,
            "min_width": null,
            "object_fit": null,
            "object_position": null,
            "order": null,
            "overflow": null,
            "overflow_x": null,
            "overflow_y": null,
            "padding": null,
            "right": null,
            "top": null,
            "visibility": null,
            "width": null
          }
        },
        "3a2c7a3cb8bc4558b45597be2ece48a3": {
          "model_module": "@jupyter-widgets/controls",
          "model_name": "DescriptionStyleModel",
          "model_module_version": "1.5.0",
          "state": {
            "_model_module": "@jupyter-widgets/controls",
            "_model_module_version": "1.5.0",
            "_model_name": "DescriptionStyleModel",
            "_view_count": null,
            "_view_module": "@jupyter-widgets/base",
            "_view_module_version": "1.2.0",
            "_view_name": "StyleView",
            "description_width": ""
          }
        },
        "2a73a8a182924a2a8ebff43e9fe09f4e": {
          "model_module": "@jupyter-widgets/base",
          "model_name": "LayoutModel",
          "model_module_version": "1.2.0",
          "state": {
            "_model_module": "@jupyter-widgets/base",
            "_model_module_version": "1.2.0",
            "_model_name": "LayoutModel",
            "_view_count": null,
            "_view_module": "@jupyter-widgets/base",
            "_view_module_version": "1.2.0",
            "_view_name": "LayoutView",
            "align_content": null,
            "align_items": null,
            "align_self": null,
            "border": null,
            "bottom": null,
            "display": null,
            "flex": null,
            "flex_flow": null,
            "grid_area": null,
            "grid_auto_columns": null,
            "grid_auto_flow": null,
            "grid_auto_rows": null,
            "grid_column": null,
            "grid_gap": null,
            "grid_row": null,
            "grid_template_areas": null,
            "grid_template_columns": null,
            "grid_template_rows": null,
            "height": null,
            "justify_content": null,
            "justify_items": null,
            "left": null,
            "margin": null,
            "max_height": null,
            "max_width": null,
            "min_height": null,
            "min_width": null,
            "object_fit": null,
            "object_position": null,
            "order": null,
            "overflow": null,
            "overflow_x": null,
            "overflow_y": null,
            "padding": null,
            "right": null,
            "top": null,
            "visibility": null,
            "width": null
          }
        },
        "2028b4364745480da436dc2e152a0c88": {
          "model_module": "@jupyter-widgets/controls",
          "model_name": "ProgressStyleModel",
          "model_module_version": "1.5.0",
          "state": {
            "_model_module": "@jupyter-widgets/controls",
            "_model_module_version": "1.5.0",
            "_model_name": "ProgressStyleModel",
            "_view_count": null,
            "_view_module": "@jupyter-widgets/base",
            "_view_module_version": "1.2.0",
            "_view_name": "StyleView",
            "bar_color": null,
            "description_width": ""
          }
        },
        "16cec2ce4eb14a18bc98a487d6c29151": {
          "model_module": "@jupyter-widgets/base",
          "model_name": "LayoutModel",
          "model_module_version": "1.2.0",
          "state": {
            "_model_module": "@jupyter-widgets/base",
            "_model_module_version": "1.2.0",
            "_model_name": "LayoutModel",
            "_view_count": null,
            "_view_module": "@jupyter-widgets/base",
            "_view_module_version": "1.2.0",
            "_view_name": "LayoutView",
            "align_content": null,
            "align_items": null,
            "align_self": null,
            "border": null,
            "bottom": null,
            "display": null,
            "flex": null,
            "flex_flow": null,
            "grid_area": null,
            "grid_auto_columns": null,
            "grid_auto_flow": null,
            "grid_auto_rows": null,
            "grid_column": null,
            "grid_gap": null,
            "grid_row": null,
            "grid_template_areas": null,
            "grid_template_columns": null,
            "grid_template_rows": null,
            "height": null,
            "justify_content": null,
            "justify_items": null,
            "left": null,
            "margin": null,
            "max_height": null,
            "max_width": null,
            "min_height": null,
            "min_width": null,
            "object_fit": null,
            "object_position": null,
            "order": null,
            "overflow": null,
            "overflow_x": null,
            "overflow_y": null,
            "padding": null,
            "right": null,
            "top": null,
            "visibility": null,
            "width": null
          }
        },
        "125ef110a8434468b7c8750a3dc80e52": {
          "model_module": "@jupyter-widgets/controls",
          "model_name": "DescriptionStyleModel",
          "model_module_version": "1.5.0",
          "state": {
            "_model_module": "@jupyter-widgets/controls",
            "_model_module_version": "1.5.0",
            "_model_name": "DescriptionStyleModel",
            "_view_count": null,
            "_view_module": "@jupyter-widgets/base",
            "_view_module_version": "1.2.0",
            "_view_name": "StyleView",
            "description_width": ""
          }
        },
        "8b8728687d984b948c11fbafdc4fde2d": {
          "model_module": "@jupyter-widgets/controls",
          "model_name": "HBoxModel",
          "model_module_version": "1.5.0",
          "state": {
            "_dom_classes": [],
            "_model_module": "@jupyter-widgets/controls",
            "_model_module_version": "1.5.0",
            "_model_name": "HBoxModel",
            "_view_count": null,
            "_view_module": "@jupyter-widgets/controls",
            "_view_module_version": "1.5.0",
            "_view_name": "HBoxView",
            "box_style": "",
            "children": [
              "IPY_MODEL_256006915e0c48fa9077a0abc10a920b",
              "IPY_MODEL_399797c754f248bb91171b259f0e9a71",
              "IPY_MODEL_cbb7e960eeb541d3a54be4258e8a602e"
            ],
            "layout": "IPY_MODEL_a6d578b693b74cf091d1d989c5c60aa0"
          }
        },
        "256006915e0c48fa9077a0abc10a920b": {
          "model_module": "@jupyter-widgets/controls",
          "model_name": "HTMLModel",
          "model_module_version": "1.5.0",
          "state": {
            "_dom_classes": [],
            "_model_module": "@jupyter-widgets/controls",
            "_model_module_version": "1.5.0",
            "_model_name": "HTMLModel",
            "_view_count": null,
            "_view_module": "@jupyter-widgets/controls",
            "_view_module_version": "1.5.0",
            "_view_name": "HTMLView",
            "description": "",
            "description_tooltip": null,
            "layout": "IPY_MODEL_499b3388664140ebac480efa20567a54",
            "placeholder": "​",
            "style": "IPY_MODEL_d9348974fb6d44808131949dfe71b2bc",
            "value": "100%"
          }
        },
        "399797c754f248bb91171b259f0e9a71": {
          "model_module": "@jupyter-widgets/controls",
          "model_name": "FloatProgressModel",
          "model_module_version": "1.5.0",
          "state": {
            "_dom_classes": [],
            "_model_module": "@jupyter-widgets/controls",
            "_model_module_version": "1.5.0",
            "_model_name": "FloatProgressModel",
            "_view_count": null,
            "_view_module": "@jupyter-widgets/controls",
            "_view_module_version": "1.5.0",
            "_view_name": "ProgressView",
            "bar_style": "success",
            "description": "",
            "description_tooltip": null,
            "layout": "IPY_MODEL_7067f6d7d24e40868c7444b9763f87f7",
            "max": 50,
            "min": 0,
            "orientation": "horizontal",
            "style": "IPY_MODEL_749bc41f4ba546d295c46f6953324ca8",
            "value": 50
          }
        },
        "cbb7e960eeb541d3a54be4258e8a602e": {
          "model_module": "@jupyter-widgets/controls",
          "model_name": "HTMLModel",
          "model_module_version": "1.5.0",
          "state": {
            "_dom_classes": [],
            "_model_module": "@jupyter-widgets/controls",
            "_model_module_version": "1.5.0",
            "_model_name": "HTMLModel",
            "_view_count": null,
            "_view_module": "@jupyter-widgets/controls",
            "_view_module_version": "1.5.0",
            "_view_name": "HTMLView",
            "description": "",
            "description_tooltip": null,
            "layout": "IPY_MODEL_e23b88aa827c450195e6506ed2b12aa6",
            "placeholder": "​",
            "style": "IPY_MODEL_3bcf0e86420641779317d6e694963104",
            "value": " 50/50 [11:24&lt;00:00, 13.58s/it]"
          }
        },
        "a6d578b693b74cf091d1d989c5c60aa0": {
          "model_module": "@jupyter-widgets/base",
          "model_name": "LayoutModel",
          "model_module_version": "1.2.0",
          "state": {
            "_model_module": "@jupyter-widgets/base",
            "_model_module_version": "1.2.0",
            "_model_name": "LayoutModel",
            "_view_count": null,
            "_view_module": "@jupyter-widgets/base",
            "_view_module_version": "1.2.0",
            "_view_name": "LayoutView",
            "align_content": null,
            "align_items": null,
            "align_self": null,
            "border": null,
            "bottom": null,
            "display": null,
            "flex": null,
            "flex_flow": null,
            "grid_area": null,
            "grid_auto_columns": null,
            "grid_auto_flow": null,
            "grid_auto_rows": null,
            "grid_column": null,
            "grid_gap": null,
            "grid_row": null,
            "grid_template_areas": null,
            "grid_template_columns": null,
            "grid_template_rows": null,
            "height": null,
            "justify_content": null,
            "justify_items": null,
            "left": null,
            "margin": null,
            "max_height": null,
            "max_width": null,
            "min_height": null,
            "min_width": null,
            "object_fit": null,
            "object_position": null,
            "order": null,
            "overflow": null,
            "overflow_x": null,
            "overflow_y": null,
            "padding": null,
            "right": null,
            "top": null,
            "visibility": null,
            "width": null
          }
        },
        "499b3388664140ebac480efa20567a54": {
          "model_module": "@jupyter-widgets/base",
          "model_name": "LayoutModel",
          "model_module_version": "1.2.0",
          "state": {
            "_model_module": "@jupyter-widgets/base",
            "_model_module_version": "1.2.0",
            "_model_name": "LayoutModel",
            "_view_count": null,
            "_view_module": "@jupyter-widgets/base",
            "_view_module_version": "1.2.0",
            "_view_name": "LayoutView",
            "align_content": null,
            "align_items": null,
            "align_self": null,
            "border": null,
            "bottom": null,
            "display": null,
            "flex": null,
            "flex_flow": null,
            "grid_area": null,
            "grid_auto_columns": null,
            "grid_auto_flow": null,
            "grid_auto_rows": null,
            "grid_column": null,
            "grid_gap": null,
            "grid_row": null,
            "grid_template_areas": null,
            "grid_template_columns": null,
            "grid_template_rows": null,
            "height": null,
            "justify_content": null,
            "justify_items": null,
            "left": null,
            "margin": null,
            "max_height": null,
            "max_width": null,
            "min_height": null,
            "min_width": null,
            "object_fit": null,
            "object_position": null,
            "order": null,
            "overflow": null,
            "overflow_x": null,
            "overflow_y": null,
            "padding": null,
            "right": null,
            "top": null,
            "visibility": null,
            "width": null
          }
        },
        "d9348974fb6d44808131949dfe71b2bc": {
          "model_module": "@jupyter-widgets/controls",
          "model_name": "DescriptionStyleModel",
          "model_module_version": "1.5.0",
          "state": {
            "_model_module": "@jupyter-widgets/controls",
            "_model_module_version": "1.5.0",
            "_model_name": "DescriptionStyleModel",
            "_view_count": null,
            "_view_module": "@jupyter-widgets/base",
            "_view_module_version": "1.2.0",
            "_view_name": "StyleView",
            "description_width": ""
          }
        },
        "7067f6d7d24e40868c7444b9763f87f7": {
          "model_module": "@jupyter-widgets/base",
          "model_name": "LayoutModel",
          "model_module_version": "1.2.0",
          "state": {
            "_model_module": "@jupyter-widgets/base",
            "_model_module_version": "1.2.0",
            "_model_name": "LayoutModel",
            "_view_count": null,
            "_view_module": "@jupyter-widgets/base",
            "_view_module_version": "1.2.0",
            "_view_name": "LayoutView",
            "align_content": null,
            "align_items": null,
            "align_self": null,
            "border": null,
            "bottom": null,
            "display": null,
            "flex": null,
            "flex_flow": null,
            "grid_area": null,
            "grid_auto_columns": null,
            "grid_auto_flow": null,
            "grid_auto_rows": null,
            "grid_column": null,
            "grid_gap": null,
            "grid_row": null,
            "grid_template_areas": null,
            "grid_template_columns": null,
            "grid_template_rows": null,
            "height": null,
            "justify_content": null,
            "justify_items": null,
            "left": null,
            "margin": null,
            "max_height": null,
            "max_width": null,
            "min_height": null,
            "min_width": null,
            "object_fit": null,
            "object_position": null,
            "order": null,
            "overflow": null,
            "overflow_x": null,
            "overflow_y": null,
            "padding": null,
            "right": null,
            "top": null,
            "visibility": null,
            "width": null
          }
        },
        "749bc41f4ba546d295c46f6953324ca8": {
          "model_module": "@jupyter-widgets/controls",
          "model_name": "ProgressStyleModel",
          "model_module_version": "1.5.0",
          "state": {
            "_model_module": "@jupyter-widgets/controls",
            "_model_module_version": "1.5.0",
            "_model_name": "ProgressStyleModel",
            "_view_count": null,
            "_view_module": "@jupyter-widgets/base",
            "_view_module_version": "1.2.0",
            "_view_name": "StyleView",
            "bar_color": null,
            "description_width": ""
          }
        },
        "e23b88aa827c450195e6506ed2b12aa6": {
          "model_module": "@jupyter-widgets/base",
          "model_name": "LayoutModel",
          "model_module_version": "1.2.0",
          "state": {
            "_model_module": "@jupyter-widgets/base",
            "_model_module_version": "1.2.0",
            "_model_name": "LayoutModel",
            "_view_count": null,
            "_view_module": "@jupyter-widgets/base",
            "_view_module_version": "1.2.0",
            "_view_name": "LayoutView",
            "align_content": null,
            "align_items": null,
            "align_self": null,
            "border": null,
            "bottom": null,
            "display": null,
            "flex": null,
            "flex_flow": null,
            "grid_area": null,
            "grid_auto_columns": null,
            "grid_auto_flow": null,
            "grid_auto_rows": null,
            "grid_column": null,
            "grid_gap": null,
            "grid_row": null,
            "grid_template_areas": null,
            "grid_template_columns": null,
            "grid_template_rows": null,
            "height": null,
            "justify_content": null,
            "justify_items": null,
            "left": null,
            "margin": null,
            "max_height": null,
            "max_width": null,
            "min_height": null,
            "min_width": null,
            "object_fit": null,
            "object_position": null,
            "order": null,
            "overflow": null,
            "overflow_x": null,
            "overflow_y": null,
            "padding": null,
            "right": null,
            "top": null,
            "visibility": null,
            "width": null
          }
        },
        "3bcf0e86420641779317d6e694963104": {
          "model_module": "@jupyter-widgets/controls",
          "model_name": "DescriptionStyleModel",
          "model_module_version": "1.5.0",
          "state": {
            "_model_module": "@jupyter-widgets/controls",
            "_model_module_version": "1.5.0",
            "_model_name": "DescriptionStyleModel",
            "_view_count": null,
            "_view_module": "@jupyter-widgets/base",
            "_view_module_version": "1.2.0",
            "_view_name": "StyleView",
            "description_width": ""
          }
        }
      }
    }
  },
  "cells": [
    {
      "cell_type": "code",
      "execution_count": 1,
      "metadata": {
        "id": "g10l1ac6-dRl"
      },
      "outputs": [],
      "source": [
        "import pandas as pd\n",
        "import numpy as np"
      ]
    },
    {
      "cell_type": "code",
      "source": [
        "data = pd.read_csv('Reddit_depression_dataset.csv')"
      ],
      "metadata": {
        "id": "1UdhAvt_-kCz"
      },
      "execution_count": 2,
      "outputs": []
    },
    {
      "cell_type": "code",
      "source": [
        "data.head()"
      ],
      "metadata": {
        "colab": {
          "base_uri": "https://localhost:8080/",
          "height": 206
        },
        "id": "b9sYsHcO-raW",
        "outputId": "bfb0b7fa-f2b2-444e-c3b9-86fedc485398"
      },
      "execution_count": 3,
      "outputs": [
        {
          "output_type": "execute_result",
          "data": {
            "text/plain": [
              "                                                text     label\n",
              "0  He said he had not felt that way before, sugge...      mild\n",
              "1  Hey there r/assistance, Not sure if this is th...   minimum\n",
              "2  My mom then hit me with the newspaper and it s...   minimum\n",
              "3  until i met my new boyfriend, he is amazing, h...      mild\n",
              "4  October is Domestic Violence Awareness Month a...  moderate"
            ],
            "text/html": [
              "\n",
              "  <div id=\"df-7c99efe0-f54d-4f03-9ce0-2ba52c39813d\" class=\"colab-df-container\">\n",
              "    <div>\n",
              "<style scoped>\n",
              "    .dataframe tbody tr th:only-of-type {\n",
              "        vertical-align: middle;\n",
              "    }\n",
              "\n",
              "    .dataframe tbody tr th {\n",
              "        vertical-align: top;\n",
              "    }\n",
              "\n",
              "    .dataframe thead th {\n",
              "        text-align: right;\n",
              "    }\n",
              "</style>\n",
              "<table border=\"1\" class=\"dataframe\">\n",
              "  <thead>\n",
              "    <tr style=\"text-align: right;\">\n",
              "      <th></th>\n",
              "      <th>text</th>\n",
              "      <th>label</th>\n",
              "    </tr>\n",
              "  </thead>\n",
              "  <tbody>\n",
              "    <tr>\n",
              "      <th>0</th>\n",
              "      <td>He said he had not felt that way before, sugge...</td>\n",
              "      <td>mild</td>\n",
              "    </tr>\n",
              "    <tr>\n",
              "      <th>1</th>\n",
              "      <td>Hey there r/assistance, Not sure if this is th...</td>\n",
              "      <td>minimum</td>\n",
              "    </tr>\n",
              "    <tr>\n",
              "      <th>2</th>\n",
              "      <td>My mom then hit me with the newspaper and it s...</td>\n",
              "      <td>minimum</td>\n",
              "    </tr>\n",
              "    <tr>\n",
              "      <th>3</th>\n",
              "      <td>until i met my new boyfriend, he is amazing, h...</td>\n",
              "      <td>mild</td>\n",
              "    </tr>\n",
              "    <tr>\n",
              "      <th>4</th>\n",
              "      <td>October is Domestic Violence Awareness Month a...</td>\n",
              "      <td>moderate</td>\n",
              "    </tr>\n",
              "  </tbody>\n",
              "</table>\n",
              "</div>\n",
              "    <div class=\"colab-df-buttons\">\n",
              "\n",
              "  <div class=\"colab-df-container\">\n",
              "    <button class=\"colab-df-convert\" onclick=\"convertToInteractive('df-7c99efe0-f54d-4f03-9ce0-2ba52c39813d')\"\n",
              "            title=\"Convert this dataframe to an interactive table.\"\n",
              "            style=\"display:none;\">\n",
              "\n",
              "  <svg xmlns=\"http://www.w3.org/2000/svg\" height=\"24px\" viewBox=\"0 -960 960 960\">\n",
              "    <path d=\"M120-120v-720h720v720H120Zm60-500h600v-160H180v160Zm220 220h160v-160H400v160Zm0 220h160v-160H400v160ZM180-400h160v-160H180v160Zm440 0h160v-160H620v160ZM180-180h160v-160H180v160Zm440 0h160v-160H620v160Z\"/>\n",
              "  </svg>\n",
              "    </button>\n",
              "\n",
              "  <style>\n",
              "    .colab-df-container {\n",
              "      display:flex;\n",
              "      gap: 12px;\n",
              "    }\n",
              "\n",
              "    .colab-df-convert {\n",
              "      background-color: #E8F0FE;\n",
              "      border: none;\n",
              "      border-radius: 50%;\n",
              "      cursor: pointer;\n",
              "      display: none;\n",
              "      fill: #1967D2;\n",
              "      height: 32px;\n",
              "      padding: 0 0 0 0;\n",
              "      width: 32px;\n",
              "    }\n",
              "\n",
              "    .colab-df-convert:hover {\n",
              "      background-color: #E2EBFA;\n",
              "      box-shadow: 0px 1px 2px rgba(60, 64, 67, 0.3), 0px 1px 3px 1px rgba(60, 64, 67, 0.15);\n",
              "      fill: #174EA6;\n",
              "    }\n",
              "\n",
              "    .colab-df-buttons div {\n",
              "      margin-bottom: 4px;\n",
              "    }\n",
              "\n",
              "    [theme=dark] .colab-df-convert {\n",
              "      background-color: #3B4455;\n",
              "      fill: #D2E3FC;\n",
              "    }\n",
              "\n",
              "    [theme=dark] .colab-df-convert:hover {\n",
              "      background-color: #434B5C;\n",
              "      box-shadow: 0px 1px 3px 1px rgba(0, 0, 0, 0.15);\n",
              "      filter: drop-shadow(0px 1px 2px rgba(0, 0, 0, 0.3));\n",
              "      fill: #FFFFFF;\n",
              "    }\n",
              "  </style>\n",
              "\n",
              "    <script>\n",
              "      const buttonEl =\n",
              "        document.querySelector('#df-7c99efe0-f54d-4f03-9ce0-2ba52c39813d button.colab-df-convert');\n",
              "      buttonEl.style.display =\n",
              "        google.colab.kernel.accessAllowed ? 'block' : 'none';\n",
              "\n",
              "      async function convertToInteractive(key) {\n",
              "        const element = document.querySelector('#df-7c99efe0-f54d-4f03-9ce0-2ba52c39813d');\n",
              "        const dataTable =\n",
              "          await google.colab.kernel.invokeFunction('convertToInteractive',\n",
              "                                                    [key], {});\n",
              "        if (!dataTable) return;\n",
              "\n",
              "        const docLinkHtml = 'Like what you see? Visit the ' +\n",
              "          '<a target=\"_blank\" href=https://colab.research.google.com/notebooks/data_table.ipynb>data table notebook</a>'\n",
              "          + ' to learn more about interactive tables.';\n",
              "        element.innerHTML = '';\n",
              "        dataTable['output_type'] = 'display_data';\n",
              "        await google.colab.output.renderOutput(dataTable, element);\n",
              "        const docLink = document.createElement('div');\n",
              "        docLink.innerHTML = docLinkHtml;\n",
              "        element.appendChild(docLink);\n",
              "      }\n",
              "    </script>\n",
              "  </div>\n",
              "\n",
              "\n",
              "<div id=\"df-f0d3f42d-066a-4976-886a-beb69c700f27\">\n",
              "  <button class=\"colab-df-quickchart\" onclick=\"quickchart('df-f0d3f42d-066a-4976-886a-beb69c700f27')\"\n",
              "            title=\"Suggest charts\"\n",
              "            style=\"display:none;\">\n",
              "\n",
              "<svg xmlns=\"http://www.w3.org/2000/svg\" height=\"24px\"viewBox=\"0 0 24 24\"\n",
              "     width=\"24px\">\n",
              "    <g>\n",
              "        <path d=\"M19 3H5c-1.1 0-2 .9-2 2v14c0 1.1.9 2 2 2h14c1.1 0 2-.9 2-2V5c0-1.1-.9-2-2-2zM9 17H7v-7h2v7zm4 0h-2V7h2v10zm4 0h-2v-4h2v4z\"/>\n",
              "    </g>\n",
              "</svg>\n",
              "  </button>\n",
              "\n",
              "<style>\n",
              "  .colab-df-quickchart {\n",
              "      --bg-color: #E8F0FE;\n",
              "      --fill-color: #1967D2;\n",
              "      --hover-bg-color: #E2EBFA;\n",
              "      --hover-fill-color: #174EA6;\n",
              "      --disabled-fill-color: #AAA;\n",
              "      --disabled-bg-color: #DDD;\n",
              "  }\n",
              "\n",
              "  [theme=dark] .colab-df-quickchart {\n",
              "      --bg-color: #3B4455;\n",
              "      --fill-color: #D2E3FC;\n",
              "      --hover-bg-color: #434B5C;\n",
              "      --hover-fill-color: #FFFFFF;\n",
              "      --disabled-bg-color: #3B4455;\n",
              "      --disabled-fill-color: #666;\n",
              "  }\n",
              "\n",
              "  .colab-df-quickchart {\n",
              "    background-color: var(--bg-color);\n",
              "    border: none;\n",
              "    border-radius: 50%;\n",
              "    cursor: pointer;\n",
              "    display: none;\n",
              "    fill: var(--fill-color);\n",
              "    height: 32px;\n",
              "    padding: 0;\n",
              "    width: 32px;\n",
              "  }\n",
              "\n",
              "  .colab-df-quickchart:hover {\n",
              "    background-color: var(--hover-bg-color);\n",
              "    box-shadow: 0 1px 2px rgba(60, 64, 67, 0.3), 0 1px 3px 1px rgba(60, 64, 67, 0.15);\n",
              "    fill: var(--button-hover-fill-color);\n",
              "  }\n",
              "\n",
              "  .colab-df-quickchart-complete:disabled,\n",
              "  .colab-df-quickchart-complete:disabled:hover {\n",
              "    background-color: var(--disabled-bg-color);\n",
              "    fill: var(--disabled-fill-color);\n",
              "    box-shadow: none;\n",
              "  }\n",
              "\n",
              "  .colab-df-spinner {\n",
              "    border: 2px solid var(--fill-color);\n",
              "    border-color: transparent;\n",
              "    border-bottom-color: var(--fill-color);\n",
              "    animation:\n",
              "      spin 1s steps(1) infinite;\n",
              "  }\n",
              "\n",
              "  @keyframes spin {\n",
              "    0% {\n",
              "      border-color: transparent;\n",
              "      border-bottom-color: var(--fill-color);\n",
              "      border-left-color: var(--fill-color);\n",
              "    }\n",
              "    20% {\n",
              "      border-color: transparent;\n",
              "      border-left-color: var(--fill-color);\n",
              "      border-top-color: var(--fill-color);\n",
              "    }\n",
              "    30% {\n",
              "      border-color: transparent;\n",
              "      border-left-color: var(--fill-color);\n",
              "      border-top-color: var(--fill-color);\n",
              "      border-right-color: var(--fill-color);\n",
              "    }\n",
              "    40% {\n",
              "      border-color: transparent;\n",
              "      border-right-color: var(--fill-color);\n",
              "      border-top-color: var(--fill-color);\n",
              "    }\n",
              "    60% {\n",
              "      border-color: transparent;\n",
              "      border-right-color: var(--fill-color);\n",
              "    }\n",
              "    80% {\n",
              "      border-color: transparent;\n",
              "      border-right-color: var(--fill-color);\n",
              "      border-bottom-color: var(--fill-color);\n",
              "    }\n",
              "    90% {\n",
              "      border-color: transparent;\n",
              "      border-bottom-color: var(--fill-color);\n",
              "    }\n",
              "  }\n",
              "</style>\n",
              "\n",
              "  <script>\n",
              "    async function quickchart(key) {\n",
              "      const quickchartButtonEl =\n",
              "        document.querySelector('#' + key + ' button');\n",
              "      quickchartButtonEl.disabled = true;  // To prevent multiple clicks.\n",
              "      quickchartButtonEl.classList.add('colab-df-spinner');\n",
              "      try {\n",
              "        const charts = await google.colab.kernel.invokeFunction(\n",
              "            'suggestCharts', [key], {});\n",
              "      } catch (error) {\n",
              "        console.error('Error during call to suggestCharts:', error);\n",
              "      }\n",
              "      quickchartButtonEl.classList.remove('colab-df-spinner');\n",
              "      quickchartButtonEl.classList.add('colab-df-quickchart-complete');\n",
              "    }\n",
              "    (() => {\n",
              "      let quickchartButtonEl =\n",
              "        document.querySelector('#df-f0d3f42d-066a-4976-886a-beb69c700f27 button');\n",
              "      quickchartButtonEl.style.display =\n",
              "        google.colab.kernel.accessAllowed ? 'block' : 'none';\n",
              "    })();\n",
              "  </script>\n",
              "</div>\n",
              "\n",
              "    </div>\n",
              "  </div>\n"
            ],
            "application/vnd.google.colaboratory.intrinsic+json": {
              "type": "dataframe",
              "variable_name": "data",
              "summary": "{\n  \"name\": \"data\",\n  \"rows\": 3553,\n  \"fields\": [\n    {\n      \"column\": \"text\",\n      \"properties\": {\n        \"dtype\": \"string\",\n        \"num_unique_values\": 3532,\n        \"samples\": [\n          \"I am still passionate about world cuisines and good food in general, but I want it to feel like fuel, feeding a good fire, it cannot feel like stuffing for this turkey. Have you had the same kind of experience? Feel free to share! Or have you noticed no appetite increase whatsoever from Mirtazapine? Share that too!\",\n          \"I've been trying to get in contact with her because I'm scared and worried about her. She isn't answering my phone calls, and will only give a vague text response with an I'll call you later while she is at work. Or HE will text me back and say she is fine and can't talk right now. I spoke to 2 of our mutual friends today and she isn't speaking to them as well. I can feel it in my soul that he is going to seriously hurt her or those babies.\",\n          \"Am I mentally ill? I want to kill myself but I'm to scared to even do that. I'm supposed to be starting college in the fall but I don't think that'll work out well. This entire post is probably gibberish but I haven't slept in almost 2 days and I can't think straight. I don't know what to do but I can't keep doing this.\"\n        ],\n        \"semantic_type\": \"\",\n        \"description\": \"\"\n      }\n    },\n    {\n      \"column\": \"label\",\n      \"properties\": {\n        \"dtype\": \"category\",\n        \"num_unique_values\": 4,\n        \"samples\": [\n          \"minimum\",\n          \"severe\",\n          \"mild\"\n        ],\n        \"semantic_type\": \"\",\n        \"description\": \"\"\n      }\n    }\n  ]\n}"
            }
          },
          "metadata": {},
          "execution_count": 3
        }
      ]
    },
    {
      "cell_type": "code",
      "source": [
        "labels = np.asarray(data['label'])"
      ],
      "metadata": {
        "id": "gBZus8V50tYM"
      },
      "execution_count": 4,
      "outputs": []
    },
    {
      "cell_type": "code",
      "source": [
        "unique, counts = np.unique(labels, return_counts=True)\n",
        "print(unique)\n",
        "print(counts )"
      ],
      "metadata": {
        "colab": {
          "base_uri": "https://localhost:8080/"
        },
        "id": "L-dYSawg03Yn",
        "outputId": "3358735d-9c8b-4640-965b-6aa5963cd65d"
      },
      "execution_count": 6,
      "outputs": [
        {
          "output_type": "stream",
          "name": "stdout",
          "text": [
            "['mild' 'minimum' 'moderate' 'severe']\n",
            "[ 290 2587  394  282]\n"
          ]
        }
      ]
    },
    {
      "cell_type": "code",
      "source": [
        "i = [len(entry) for entry in data['text']]"
      ],
      "metadata": {
        "id": "ZMeHqP8f1M9f"
      },
      "execution_count": 7,
      "outputs": []
    },
    {
      "cell_type": "code",
      "source": [
        "i = np.asarray(i)\n",
        "\n",
        "print(np.mean(i))\n",
        "print(np.std(i))"
      ],
      "metadata": {
        "colab": {
          "base_uri": "https://localhost:8080/"
        },
        "id": "ozX1H54j1X7_",
        "outputId": "238fd7b7-67f7-48e6-b85a-b56e4fe277a1"
      },
      "execution_count": 8,
      "outputs": [
        {
          "output_type": "stream",
          "name": "stdout",
          "text": [
            "447.66985645933016\n",
            "167.92631516187853\n"
          ]
        }
      ]
    },
    {
      "cell_type": "markdown",
      "source": [
        "## Data Preprocessing:"
      ],
      "metadata": {
        "id": "xbyTU5N9_gX_"
      }
    },
    {
      "cell_type": "code",
      "source": [
        "!pip install nltk"
      ],
      "metadata": {
        "colab": {
          "base_uri": "https://localhost:8080/"
        },
        "id": "KRyZ_f-6AWmJ",
        "outputId": "5c9bb657-b47a-4726-c652-24ab75a87df5"
      },
      "execution_count": null,
      "outputs": [
        {
          "output_type": "stream",
          "name": "stdout",
          "text": [
            "Requirement already satisfied: nltk in /usr/local/lib/python3.10/dist-packages (3.8.1)\n",
            "Requirement already satisfied: click in /usr/local/lib/python3.10/dist-packages (from nltk) (8.1.7)\n",
            "Requirement already satisfied: joblib in /usr/local/lib/python3.10/dist-packages (from nltk) (1.4.2)\n",
            "Requirement already satisfied: regex>=2021.8.3 in /usr/local/lib/python3.10/dist-packages (from nltk) (2024.5.15)\n",
            "Requirement already satisfied: tqdm in /usr/local/lib/python3.10/dist-packages (from nltk) (4.66.4)\n"
          ]
        }
      ]
    },
    {
      "cell_type": "code",
      "source": [
        "from nltk import punkt\n",
        "import nltk\n",
        "nltk.download('punkt')"
      ],
      "metadata": {
        "colab": {
          "base_uri": "https://localhost:8080/"
        },
        "id": "bWpqVyx0Af-N",
        "outputId": "4632a37c-930f-47b1-e43a-81b81c299ff2"
      },
      "execution_count": null,
      "outputs": [
        {
          "output_type": "stream",
          "name": "stderr",
          "text": [
            "[nltk_data] Downloading package punkt to /root/nltk_data...\n",
            "[nltk_data]   Package punkt is already up-to-date!\n"
          ]
        },
        {
          "output_type": "execute_result",
          "data": {
            "text/plain": [
              "True"
            ]
          },
          "metadata": {},
          "execution_count": 5
        }
      ]
    },
    {
      "cell_type": "code",
      "source": [
        "import pandas as pd\n",
        "import numpy as np\n",
        "from nltk.tokenize import word_tokenize\n",
        "from nltk import pos_tag\n",
        "from nltk.corpus import stopwords\n",
        "from nltk.stem import WordNetLemmatizer\n",
        "from sklearn.preprocessing import LabelEncoder\n",
        "from collections import defaultdict\n",
        "from nltk.corpus import wordnet as wn\n",
        "from sklearn.feature_extraction.text import TfidfVectorizer\n",
        "from sklearn import model_selection, naive_bayes, svm\n",
        "from sklearn.metrics import accuracy_score"
      ],
      "metadata": {
        "id": "Q5pYKOyDABq4"
      },
      "execution_count": null,
      "outputs": []
    },
    {
      "cell_type": "code",
      "source": [
        "np.random.seed(501)\n",
        "\n"
      ],
      "metadata": {
        "id": "5GmL-lsS-sWT"
      },
      "execution_count": null,
      "outputs": []
    },
    {
      "cell_type": "code",
      "source": [
        "nltk.download('wordnet')\n",
        "nltk.download('averaged_perceptron_tagger')\n",
        "nltk.download('stopwords')"
      ],
      "metadata": {
        "colab": {
          "base_uri": "https://localhost:8080/"
        },
        "id": "oRDqmYNuBniY",
        "outputId": "cb530854-0814-4240-da8a-6706e4f3f5b5"
      },
      "execution_count": null,
      "outputs": [
        {
          "output_type": "stream",
          "name": "stderr",
          "text": [
            "[nltk_data] Downloading package wordnet to /root/nltk_data...\n",
            "[nltk_data]   Package wordnet is already up-to-date!\n",
            "[nltk_data] Downloading package averaged_perceptron_tagger to\n",
            "[nltk_data]     /root/nltk_data...\n",
            "[nltk_data]   Package averaged_perceptron_tagger is already up-to-\n",
            "[nltk_data]       date!\n",
            "[nltk_data] Downloading package stopwords to /root/nltk_data...\n",
            "[nltk_data]   Package stopwords is already up-to-date!\n"
          ]
        },
        {
          "output_type": "execute_result",
          "data": {
            "text/plain": [
              "True"
            ]
          },
          "metadata": {},
          "execution_count": 8
        }
      ]
    },
    {
      "cell_type": "code",
      "source": [
        "data['text'].dropna(inplace=True)\n",
        "data['text'] = [entry.lower() for entry in data['text']]\n",
        "\n",
        "data['text'] = [word_tokenize(entry) for entry in data['text']] #tokenize words\n",
        "\n"
      ],
      "metadata": {
        "id": "O_ZeAsXk_onX"
      },
      "execution_count": null,
      "outputs": []
    },
    {
      "cell_type": "code",
      "source": [
        "# lemmanization:\n",
        "\n",
        "tag_map = defaultdict(lambda : wn.NOUN)\n",
        "tag_map['J'] = wn.ADJ\n",
        "tag_map['V'] = wn.VERB\n",
        "tag_map['R'] = wn.ADV\n",
        "\n",
        "for index,entry in enumerate(data['text']):\n",
        "    # Declaring Empty List to store the words that follow the rules for this step\n",
        "    Final_words = []\n",
        "    # Initializing WordNetLemmatizer()\n",
        "    word_Lemmatized = WordNetLemmatizer()\n",
        "    # pos_tag function below will provide the 'tag' i.e if the word is Noun(N) or Verb(V) or something else.\n",
        "    for word, tag in pos_tag(entry):\n",
        "        # Below condition is to check for Stop words and consider only alphabets\n",
        "        if word not in stopwords.words('english') and word.isalpha():\n",
        "            word_Final = word_Lemmatized.lemmatize(word,tag_map[tag[0]])\n",
        "            Final_words.append(word_Final)\n",
        "    # The final processed set of words for each iteration will be stored in 'text_final'\n",
        "    data.loc[index,'text_final'] = str(Final_words)"
      ],
      "metadata": {
        "id": "Wlbhy4SPAq1h"
      },
      "execution_count": null,
      "outputs": []
    },
    {
      "cell_type": "code",
      "source": [
        "data.head()"
      ],
      "metadata": {
        "colab": {
          "base_uri": "https://localhost:8080/",
          "height": 206
        },
        "id": "q2o12iQrBkhn",
        "outputId": "10a8a2c5-e545-4fe7-b201-af085e693b36"
      },
      "execution_count": null,
      "outputs": [
        {
          "output_type": "execute_result",
          "data": {
            "text/plain": [
              "                                                text     label  \\\n",
              "0  [he, said, he, had, not, felt, that, way, befo...      mild   \n",
              "1  [hey, there, r/assistance, ,, not, sure, if, t...   minimum   \n",
              "2  [my, mom, then, hit, me, with, the, newspaper,...   minimum   \n",
              "3  [until, i, met, my, new, boyfriend, ,, he, is,...      mild   \n",
              "4  [october, is, domestic, violence, awareness, m...  moderate   \n",
              "\n",
              "                                          text_final  \n",
              "0  ['say', 'felt', 'way', 'suggeted', 'go', 'rest...  \n",
              "1  ['hey', 'sure', 'right', 'place', 'post', 'go'...  \n",
              "2  ['mom', 'hit', 'newspaper', 'shock', 'would', ...  \n",
              "3  ['meet', 'new', 'boyfriend', 'amazing', 'kind'...  \n",
              "4  ['october', 'domestic', 'violence', 'awareness...  "
            ],
            "text/html": [
              "\n",
              "  <div id=\"df-0ab72e71-a645-40db-8be1-d88408a5c0ae\" class=\"colab-df-container\">\n",
              "    <div>\n",
              "<style scoped>\n",
              "    .dataframe tbody tr th:only-of-type {\n",
              "        vertical-align: middle;\n",
              "    }\n",
              "\n",
              "    .dataframe tbody tr th {\n",
              "        vertical-align: top;\n",
              "    }\n",
              "\n",
              "    .dataframe thead th {\n",
              "        text-align: right;\n",
              "    }\n",
              "</style>\n",
              "<table border=\"1\" class=\"dataframe\">\n",
              "  <thead>\n",
              "    <tr style=\"text-align: right;\">\n",
              "      <th></th>\n",
              "      <th>text</th>\n",
              "      <th>label</th>\n",
              "      <th>text_final</th>\n",
              "    </tr>\n",
              "  </thead>\n",
              "  <tbody>\n",
              "    <tr>\n",
              "      <th>0</th>\n",
              "      <td>[he, said, he, had, not, felt, that, way, befo...</td>\n",
              "      <td>mild</td>\n",
              "      <td>['say', 'felt', 'way', 'suggeted', 'go', 'rest...</td>\n",
              "    </tr>\n",
              "    <tr>\n",
              "      <th>1</th>\n",
              "      <td>[hey, there, r/assistance, ,, not, sure, if, t...</td>\n",
              "      <td>minimum</td>\n",
              "      <td>['hey', 'sure', 'right', 'place', 'post', 'go'...</td>\n",
              "    </tr>\n",
              "    <tr>\n",
              "      <th>2</th>\n",
              "      <td>[my, mom, then, hit, me, with, the, newspaper,...</td>\n",
              "      <td>minimum</td>\n",
              "      <td>['mom', 'hit', 'newspaper', 'shock', 'would', ...</td>\n",
              "    </tr>\n",
              "    <tr>\n",
              "      <th>3</th>\n",
              "      <td>[until, i, met, my, new, boyfriend, ,, he, is,...</td>\n",
              "      <td>mild</td>\n",
              "      <td>['meet', 'new', 'boyfriend', 'amazing', 'kind'...</td>\n",
              "    </tr>\n",
              "    <tr>\n",
              "      <th>4</th>\n",
              "      <td>[october, is, domestic, violence, awareness, m...</td>\n",
              "      <td>moderate</td>\n",
              "      <td>['october', 'domestic', 'violence', 'awareness...</td>\n",
              "    </tr>\n",
              "  </tbody>\n",
              "</table>\n",
              "</div>\n",
              "    <div class=\"colab-df-buttons\">\n",
              "\n",
              "  <div class=\"colab-df-container\">\n",
              "    <button class=\"colab-df-convert\" onclick=\"convertToInteractive('df-0ab72e71-a645-40db-8be1-d88408a5c0ae')\"\n",
              "            title=\"Convert this dataframe to an interactive table.\"\n",
              "            style=\"display:none;\">\n",
              "\n",
              "  <svg xmlns=\"http://www.w3.org/2000/svg\" height=\"24px\" viewBox=\"0 -960 960 960\">\n",
              "    <path d=\"M120-120v-720h720v720H120Zm60-500h600v-160H180v160Zm220 220h160v-160H400v160Zm0 220h160v-160H400v160ZM180-400h160v-160H180v160Zm440 0h160v-160H620v160ZM180-180h160v-160H180v160Zm440 0h160v-160H620v160Z\"/>\n",
              "  </svg>\n",
              "    </button>\n",
              "\n",
              "  <style>\n",
              "    .colab-df-container {\n",
              "      display:flex;\n",
              "      gap: 12px;\n",
              "    }\n",
              "\n",
              "    .colab-df-convert {\n",
              "      background-color: #E8F0FE;\n",
              "      border: none;\n",
              "      border-radius: 50%;\n",
              "      cursor: pointer;\n",
              "      display: none;\n",
              "      fill: #1967D2;\n",
              "      height: 32px;\n",
              "      padding: 0 0 0 0;\n",
              "      width: 32px;\n",
              "    }\n",
              "\n",
              "    .colab-df-convert:hover {\n",
              "      background-color: #E2EBFA;\n",
              "      box-shadow: 0px 1px 2px rgba(60, 64, 67, 0.3), 0px 1px 3px 1px rgba(60, 64, 67, 0.15);\n",
              "      fill: #174EA6;\n",
              "    }\n",
              "\n",
              "    .colab-df-buttons div {\n",
              "      margin-bottom: 4px;\n",
              "    }\n",
              "\n",
              "    [theme=dark] .colab-df-convert {\n",
              "      background-color: #3B4455;\n",
              "      fill: #D2E3FC;\n",
              "    }\n",
              "\n",
              "    [theme=dark] .colab-df-convert:hover {\n",
              "      background-color: #434B5C;\n",
              "      box-shadow: 0px 1px 3px 1px rgba(0, 0, 0, 0.15);\n",
              "      filter: drop-shadow(0px 1px 2px rgba(0, 0, 0, 0.3));\n",
              "      fill: #FFFFFF;\n",
              "    }\n",
              "  </style>\n",
              "\n",
              "    <script>\n",
              "      const buttonEl =\n",
              "        document.querySelector('#df-0ab72e71-a645-40db-8be1-d88408a5c0ae button.colab-df-convert');\n",
              "      buttonEl.style.display =\n",
              "        google.colab.kernel.accessAllowed ? 'block' : 'none';\n",
              "\n",
              "      async function convertToInteractive(key) {\n",
              "        const element = document.querySelector('#df-0ab72e71-a645-40db-8be1-d88408a5c0ae');\n",
              "        const dataTable =\n",
              "          await google.colab.kernel.invokeFunction('convertToInteractive',\n",
              "                                                    [key], {});\n",
              "        if (!dataTable) return;\n",
              "\n",
              "        const docLinkHtml = 'Like what you see? Visit the ' +\n",
              "          '<a target=\"_blank\" href=https://colab.research.google.com/notebooks/data_table.ipynb>data table notebook</a>'\n",
              "          + ' to learn more about interactive tables.';\n",
              "        element.innerHTML = '';\n",
              "        dataTable['output_type'] = 'display_data';\n",
              "        await google.colab.output.renderOutput(dataTable, element);\n",
              "        const docLink = document.createElement('div');\n",
              "        docLink.innerHTML = docLinkHtml;\n",
              "        element.appendChild(docLink);\n",
              "      }\n",
              "    </script>\n",
              "  </div>\n",
              "\n",
              "\n",
              "<div id=\"df-2b3c4c00-71fe-4df7-8257-fe8510ca3236\">\n",
              "  <button class=\"colab-df-quickchart\" onclick=\"quickchart('df-2b3c4c00-71fe-4df7-8257-fe8510ca3236')\"\n",
              "            title=\"Suggest charts\"\n",
              "            style=\"display:none;\">\n",
              "\n",
              "<svg xmlns=\"http://www.w3.org/2000/svg\" height=\"24px\"viewBox=\"0 0 24 24\"\n",
              "     width=\"24px\">\n",
              "    <g>\n",
              "        <path d=\"M19 3H5c-1.1 0-2 .9-2 2v14c0 1.1.9 2 2 2h14c1.1 0 2-.9 2-2V5c0-1.1-.9-2-2-2zM9 17H7v-7h2v7zm4 0h-2V7h2v10zm4 0h-2v-4h2v4z\"/>\n",
              "    </g>\n",
              "</svg>\n",
              "  </button>\n",
              "\n",
              "<style>\n",
              "  .colab-df-quickchart {\n",
              "      --bg-color: #E8F0FE;\n",
              "      --fill-color: #1967D2;\n",
              "      --hover-bg-color: #E2EBFA;\n",
              "      --hover-fill-color: #174EA6;\n",
              "      --disabled-fill-color: #AAA;\n",
              "      --disabled-bg-color: #DDD;\n",
              "  }\n",
              "\n",
              "  [theme=dark] .colab-df-quickchart {\n",
              "      --bg-color: #3B4455;\n",
              "      --fill-color: #D2E3FC;\n",
              "      --hover-bg-color: #434B5C;\n",
              "      --hover-fill-color: #FFFFFF;\n",
              "      --disabled-bg-color: #3B4455;\n",
              "      --disabled-fill-color: #666;\n",
              "  }\n",
              "\n",
              "  .colab-df-quickchart {\n",
              "    background-color: var(--bg-color);\n",
              "    border: none;\n",
              "    border-radius: 50%;\n",
              "    cursor: pointer;\n",
              "    display: none;\n",
              "    fill: var(--fill-color);\n",
              "    height: 32px;\n",
              "    padding: 0;\n",
              "    width: 32px;\n",
              "  }\n",
              "\n",
              "  .colab-df-quickchart:hover {\n",
              "    background-color: var(--hover-bg-color);\n",
              "    box-shadow: 0 1px 2px rgba(60, 64, 67, 0.3), 0 1px 3px 1px rgba(60, 64, 67, 0.15);\n",
              "    fill: var(--button-hover-fill-color);\n",
              "  }\n",
              "\n",
              "  .colab-df-quickchart-complete:disabled,\n",
              "  .colab-df-quickchart-complete:disabled:hover {\n",
              "    background-color: var(--disabled-bg-color);\n",
              "    fill: var(--disabled-fill-color);\n",
              "    box-shadow: none;\n",
              "  }\n",
              "\n",
              "  .colab-df-spinner {\n",
              "    border: 2px solid var(--fill-color);\n",
              "    border-color: transparent;\n",
              "    border-bottom-color: var(--fill-color);\n",
              "    animation:\n",
              "      spin 1s steps(1) infinite;\n",
              "  }\n",
              "\n",
              "  @keyframes spin {\n",
              "    0% {\n",
              "      border-color: transparent;\n",
              "      border-bottom-color: var(--fill-color);\n",
              "      border-left-color: var(--fill-color);\n",
              "    }\n",
              "    20% {\n",
              "      border-color: transparent;\n",
              "      border-left-color: var(--fill-color);\n",
              "      border-top-color: var(--fill-color);\n",
              "    }\n",
              "    30% {\n",
              "      border-color: transparent;\n",
              "      border-left-color: var(--fill-color);\n",
              "      border-top-color: var(--fill-color);\n",
              "      border-right-color: var(--fill-color);\n",
              "    }\n",
              "    40% {\n",
              "      border-color: transparent;\n",
              "      border-right-color: var(--fill-color);\n",
              "      border-top-color: var(--fill-color);\n",
              "    }\n",
              "    60% {\n",
              "      border-color: transparent;\n",
              "      border-right-color: var(--fill-color);\n",
              "    }\n",
              "    80% {\n",
              "      border-color: transparent;\n",
              "      border-right-color: var(--fill-color);\n",
              "      border-bottom-color: var(--fill-color);\n",
              "    }\n",
              "    90% {\n",
              "      border-color: transparent;\n",
              "      border-bottom-color: var(--fill-color);\n",
              "    }\n",
              "  }\n",
              "</style>\n",
              "\n",
              "  <script>\n",
              "    async function quickchart(key) {\n",
              "      const quickchartButtonEl =\n",
              "        document.querySelector('#' + key + ' button');\n",
              "      quickchartButtonEl.disabled = true;  // To prevent multiple clicks.\n",
              "      quickchartButtonEl.classList.add('colab-df-spinner');\n",
              "      try {\n",
              "        const charts = await google.colab.kernel.invokeFunction(\n",
              "            'suggestCharts', [key], {});\n",
              "      } catch (error) {\n",
              "        console.error('Error during call to suggestCharts:', error);\n",
              "      }\n",
              "      quickchartButtonEl.classList.remove('colab-df-spinner');\n",
              "      quickchartButtonEl.classList.add('colab-df-quickchart-complete');\n",
              "    }\n",
              "    (() => {\n",
              "      let quickchartButtonEl =\n",
              "        document.querySelector('#df-2b3c4c00-71fe-4df7-8257-fe8510ca3236 button');\n",
              "      quickchartButtonEl.style.display =\n",
              "        google.colab.kernel.accessAllowed ? 'block' : 'none';\n",
              "    })();\n",
              "  </script>\n",
              "</div>\n",
              "\n",
              "    </div>\n",
              "  </div>\n"
            ],
            "application/vnd.google.colaboratory.intrinsic+json": {
              "type": "dataframe",
              "variable_name": "data",
              "summary": "{\n  \"name\": \"data\",\n  \"rows\": 3553,\n  \"fields\": [\n    {\n      \"column\": \"text\",\n      \"properties\": {\n        \"dtype\": \"object\",\n        \"semantic_type\": \"\",\n        \"description\": \"\"\n      }\n    },\n    {\n      \"column\": \"label\",\n      \"properties\": {\n        \"dtype\": \"category\",\n        \"num_unique_values\": 4,\n        \"samples\": [\n          \"minimum\",\n          \"severe\",\n          \"mild\"\n        ],\n        \"semantic_type\": \"\",\n        \"description\": \"\"\n      }\n    },\n    {\n      \"column\": \"text_final\",\n      \"properties\": {\n        \"dtype\": \"string\",\n        \"num_unique_values\": 3531,\n        \"samples\": [\n          \"['still', 'passionate', 'world', 'cuisine', 'good', 'food', 'general', 'want', 'feel', 'like', 'fuel', 'feed', 'good', 'fire', 'feel', 'like', 'stuff', 'turkey', 'kind', 'experience', 'feel', 'free', 'share', 'notice', 'appetite', 'increase', 'whatsoever', 'mirtazapine', 'share']\",\n          \"['try', 'get', 'contact', 'scared', 'worried', 'answer', 'phone', 'call', 'give', 'vague', 'text', 'response', 'call', 'later', 'work', 'text', 'back', 'say', 'fine', 'ca', 'talk', 'right', 'speak', 'mutual', 'friend', 'today', 'speak', 'well', 'feel', 'soul', 'go', 'seriously', 'hurt', 'baby']\",\n          \"['hi', 'live', 'apartment', 'block', 'door', 'entrance', 'within', 'meter', 'proximity', 'hear', 'neighbour', 'slightly', 'loud', 'live', 'next', 'asian', 'woman', 'never', 'see', 'know', 'live', 'alone']\"\n        ],\n        \"semantic_type\": \"\",\n        \"description\": \"\"\n      }\n    }\n  ]\n}"
            }
          },
          "metadata": {},
          "execution_count": 11
        }
      ]
    },
    {
      "cell_type": "code",
      "source": [
        "from sklearn.preprocessing import LabelEncoder\n",
        "le = LabelEncoder()\n",
        "data['label'] = le.fit_transform(data['label'])"
      ],
      "metadata": {
        "id": "fmjPN3X7CF4w"
      },
      "execution_count": null,
      "outputs": []
    },
    {
      "cell_type": "code",
      "source": [
        "import matplotlib.pyplot as plt\n",
        "data['label'].value_counts().plot(kind='bar')\n",
        "plt.show()"
      ],
      "metadata": {
        "colab": {
          "base_uri": "https://localhost:8080/",
          "height": 444
        },
        "id": "itfSiyGUzHhO",
        "outputId": "932b0181-3f2a-4102-a7c9-9b81eb5936f4"
      },
      "execution_count": 31,
      "outputs": [
        {
          "output_type": "display_data",
          "data": {
            "text/plain": [
              "<Figure size 640x480 with 1 Axes>"
            ],
            "image/png": "[encoded data removed]"
          },
          "metadata": {}
        }
      ]
    },
    {
      "cell_type": "code",
      "source": [
        "le.classes_"
      ],
      "metadata": {
        "colab": {
          "base_uri": "https://localhost:8080/"
        },
        "id": "4KrCecT1CvMF",
        "outputId": "8f6a33dc-a885-4a5a-85b3-3f676b33d0d7"
      },
      "execution_count": null,
      "outputs": [
        {
          "output_type": "execute_result",
          "data": {
            "text/plain": [
              "array(['mild', 'minimum', 'moderate', 'severe'], dtype=object)"
            ]
          },
          "metadata": {},
          "execution_count": 13
        }
      ]
    },
    {
      "cell_type": "code",
      "source": [
        "from sklearn.model_selection import train_test_split\n",
        "Train_X, Test_X, Train_Y, Test_Y = train_test_split(data['text'], data['label'], test_size=0.2, stratify=data['label'], random_state=42)\n",
        "\n",
        "# Further split the training set into training and validation sets\n",
        "Train_X, Val_X, Train_Y, Val_Y = train_test_split(Train_X, Train_Y, test_size=0.25, stratify=Train_Y, random_state=42)\n",
        "\n",
        "# Convert Series to strings if they are lists\n",
        "Train_X = Train_X.apply(lambda x: ' '.join(x) if isinstance(x, list) else x)\n",
        "Test_X = Test_X.apply(lambda x: ' '.join(x) if isinstance(x, list) else x)\n",
        "Val_X = Val_X.apply(lambda x: ' '.join(x) if isinstance(x, list) else x)\n",
        "\n",
        "Tfidf_vect = TfidfVectorizer(max_features=5000)\n",
        "Tfidf_vect.fit(data['text_final'])\n",
        "Train_X_Tfidf = Tfidf_vect.transform(Train_X)\n",
        "Test_X_Tfidf = Tfidf_vect.transform(Test_X)\n",
        "Val_X_Tfidf = Tfidf_vect.transform(Val_X)\n",
        "\n",
        "print(f\"Training set size: {Train_X.shape}\")\n",
        "print(f\"Validation set size: {Val_X.shape}\")\n",
        "print(f\"Test set size: {Test_X.shape}\")"
      ],
      "metadata": {
        "colab": {
          "base_uri": "https://localhost:8080/"
        },
        "id": "BfPka3C4B6bE",
        "outputId": "5875b014-eb7f-4915-e57e-fa8aa27d4954"
      },
      "execution_count": null,
      "outputs": [
        {
          "output_type": "stream",
          "name": "stdout",
          "text": [
            "Training set size: (2131,)\n",
            "Validation set size: (711,)\n",
            "Test set size: (711,)\n"
          ]
        }
      ]
    },
    {
      "cell_type": "code",
      "source": [
        "print(Tfidf_vect.vocabulary_)"
      ],
      "metadata": {
        "colab": {
          "base_uri": "https://localhost:8080/"
        },
        "id": "17SyMvDvFVcN",
        "outputId": "a8a87263-d8e9-4b83-f56c-2b265c2c60a6"
      },
      "execution_count": null,
      "outputs": [
        {
          "output_type": "stream",
          "name": "stdout",
          "text": [
            "{'say': 3814, 'felt': 1661, 'way': 4866, 'go': 1895, 'rest': 3707, 'trigger': 4599, 'ahead': 104, 'like': 2598, 'decide': 1091, 'look': 2638, 'feeling': 1657, 'doom': 1311, 'hope': 2111, 'maybe': 2720, 'get': 1874, 'suck': 4278, 'rabbit': 3515, 'hole': 2089, 'stupid': 4254, 'psychic': 3460, 'test': 4428, 'new': 2904, 'age': 94, 'something': 4083, 'could': 956, 'even': 1533, 'laugh': 2534, 'road': 3748, 'end': 1463, 'reading': 3562, 'sense': 3889, 'various': 4777, 'health': 2038, 'one': 3014, 'prone': 3429, 'top': 4531, 'worry': 4954, 'heart': 2043, 'happen': 2006, 'physical': 3226, 'hour': 2137, 'hey': 2070, 'sure': 4315, 'right': 3740, 'place': 3251, 'post': 3319, 'currently': 1030, 'student': 4245, 'intern': 2340, 'national': 2862, 'lab': 2507, 'work': 4944, 'survey': 4329, 'help': 2059, 'improve': 2218, 'marketing': 2703, 'effort': 1415, 'many': 2696, 'school': 3832, 'recruit': 3601, 'around': 215, 'country': 967, 'current': 1029, 'stem': 4190, 'know': 2501, 'would': 4961, 'greatly': 1949, 'appreciate': 200, 'take': 4370, 'pass': 3137, 'along': 126, 'short': 3964, 'thank': 4438, 'everyone': 1541, 'enter': 1485, 'drawing': 1344, 'chance': 660, 'win': 4916, 'three': 4473, 'amazon': 145, 'mom': 2813, 'hit': 2085, 'newspaper': 2908, 'shock': 3957, 'play': 3267, 'smack': 4035, 'strike': 4236, 'violence': 4810, 'sort': 4099, 'person': 3204, 'send': 3885, 'vibe': 4798, 'ask': 230, 'universe': 4704, 'yesterday': 4984, 'friend': 1780, 'another': 168, 'move': 2835, 'drive': 1355, 'shoulder': 3967, 'address': 57, 'immediately': 2201, 'time': 4501, 'tell': 4402, 'thing': 4458, 'nearly': 2875, 'car': 612, 'think': 4459, 'high': 2074, 'marijuana': 2698, 'backseat': 312, 'understand': 4675, 'try': 4614, 'attention': 262, 'year': 4980, 'old': 3012, 'people': 3185, 'guy': 1983, 'meet': 2738, 'boyfriend': 492, 'amazing': 143, 'kind': 2482, 'sweet': 4345, 'good': 1904, 'family': 1631, 'dont': 1310, 'feel': 1656, 'passion': 3139, 'rush': 3780, 'ex': 1550, 'truth': 4613, 'start': 4174, 'secretly': 3868, 'saw': 3813, 'see': 3873, 'really': 3570, 'didnt': 1192, 'nothing': 2939, 'disgust': 1252, 'want': 4852, 'touch': 4540, 'bad': 318, 'still': 4201, 'kinda': 2483, 'realize': 3569, 'love': 2653, 'relate': 3634, 'ok': 3009, 'hurt': 2161, 'date': 1064, 'boy': 491, 'beg': 373, 'stay': 4184, 'course': 971, 'problem': 3398, 'im': 2194, 'catch': 633, 'remember': 3653, 'crazy': 989, 'wont': 4941, 'mind': 2779, 'make': 2681, 'recently': 3582, 'find': 1679, 'girl': 1883, 'actually': 45, 'enjoy': 1478, 'experience': 1584, 'mad': 2672, 'betrayed': 403, 'gross': 1960, 'october': 2991, 'domestic': 1303, 'awareness': 296, 'month': 2820, 'survivor': 4332, 'struggle': 4242, 'four': 1757, 'lately': 2531, 'angry': 158, 'abusive': 13, 'receive': 3580, 'real': 3564, 'consequence': 887, 'action': 39, 'man': 2685, 'abuse': 10, 'manner': 2695, 'physically': 3227, 'sexually': 3924, 'emotionally': 1449, 'verbally': 4787, 'financially': 1678, 'etc': 1524, 'grant': 1939, 'restrain': 3711, 'order': 3033, 'renew': 3659, 'later': 2532, 'unable': 4655, 'press': 3368, 'criminal': 999, 'charge': 668, 'enough': 1480, 'evidence': 1547, 'case': 624, 'put': 3497, 'relationship': 3637, 'difficult': 1200, 'matter': 2716, 'ca': 577, 'without': 4934, 'either': 1422, 'afraid': 89, 'gon': 1903, 'na': 2849, 'always': 140, 'forgive': 1745, 'point': 3287, 'tl': 4511, 'dr': 1333, 'break': 505, 'together': 4516, 'devastate': 1174, 'keep': 2471, 'fight': 1669, 'big': 410, 'company': 818, 'luckily': 2663, 'act': 37, 'though': 4465, 'exist': 1575, 'talk': 4371, 'update': 4734, 'pregnancy': 3355, 'involve': 2376, 'child': 694, 'sake': 3789, 'literally': 2613, 'star': 4171, 'word': 4943, 'daughter': 1066, 'bear': 360, 'texted': 4434, 'miss': 2796, 'world': 4950, 'fair': 1623, 'surprise': 4321, 'write': 4970, 'back': 308, 'apologize': 187, 'change': 661, 'within': 4933, 'couple': 969, 'engage': 1471, 'clear': 733, 'okay': 3010, 'monday': 2815, 'human': 2150, 'brain': 499, 'trip': 4601, 'worried': 4953, 'lose': 2644, 'sleep': 4020, 'night': 2913, 'last': 2527, 'also': 132, 'wake': 4843, 'every': 1538, 'scared': 3821, 'fake': 1626, 'life': 2590, 'rationally': 3554, 'calm': 589, 'give': 1886, 'assistant': 245, 'half': 1992, 'emergency': 1446, 'fee': 1653, 'come': 795, 'sometimes': 4086, 'unsafe': 4722, 'driving': 1358, 'house': 2139, 'call': 587, 'middle': 2764, 'frequently': 1775, 'bring': 521, 'husband': 2164, 'tech': 4393, 'obviously': 2983, 'unfair': 4689, 'unhappy': 4695, 'miserable': 2794, 'minute': 2789, 'commute': 815, 'isolation': 2399, 'social': 4062, 'street': 4227, 'fuck': 1796, 'head': 2032, 'much': 2838, 'anymore': 177, 'hold': 2088, 'shit': 3954, 'chat': 675, 'bar': 334, 'ptsd': 3468, 'military': 2775, 'hard': 2015, 'alcoholic': 115, 'nowadays': 2948, 'kill': 2479, 'week': 4879, 'open': 3020, 'cool': 933, 'normal': 2930, 'next': 2909, 'fly': 1721, 'vacation': 4760, 'flight': 1704, 'long': 2635, 'las': 2525, 'lax': 2540, 'home': 2093, 'anxiety': 174, 'mostly': 2829, 'control': 922, 'surroundings': 4328, 'idea': 2176, 'metal': 2755, 'tube': 4615, 'foot': 1735, 'air': 107, 'ideal': 2177, 'lot': 2647, 'fear': 1647, 'shooting': 3961, 'movie': 2837, 'crowd': 1008, 'public': 3470, 'wonder': 4939, 'anyone': 178, 'tip': 4506, 'everything': 1542, 'set': 3910, 'almost': 124, 'panic': 3104, 'attack': 258, 'dad': 1045, 'soon': 4092, 'anxious': 175, 'mental': 2746, 'state': 4180, 'happy': 2012, 'anyway': 181, 'complain': 829, 'comfort': 796, 'never': 2901, 'raise': 3528, 'voice': 4829, 'frustrate': 1791, 'disagree': 1225, 'general': 1855, 'impatient': 2208, 'easily': 1396, 'vomiting': 4834, 'factor': 1616, 'mg': 2761, 'zoloft': 4997, 'yeah': 4979, 'super': 4302, 'small': 4036, 'dose': 1316, 'edge': 1407, 'stop': 4211, 'day': 1068, 'since': 3998, 'suddenly': 4280, 'shaky': 3932, 'flush': 1720, 'cheek': 684, 'burn': 561, 'reason': 3571, 'side': 3982, 'effect': 1410, 'freak': 1765, 'possible': 3317, 'fast': 1639, 'reaction': 3560, 'city': 720, 'shelter': 3946, 'space': 4107, 'wo': 4937, 'baby': 304, 'fine': 1681, 'program': 3416, 'homeless': 2094, 'mother': 2831, 'able': 3, 'greyhound': 1952, 'likely': 2599, 'money': 2817, 'past': 3144, 'become': 365, 'paranoid': 3117, 'well': 4887, 'little': 2614, 'therapist': 4448, 'third': 4461, 'cry': 1014, 'first': 1687, 'honestly': 2102, 'ignore': 2188, 'react': 3559, 'sensation': 3888, 'seem': 3875, 'er': 1505, 'doctor': 1294, 'run': 3779, 'leave': 2558, 'mark': 2700, 'lie': 2589, 'cough': 955, 'today': 4513, 'constrict': 898, 'lump': 2666, 'throat': 4478, 'google': 1906, 'realise': 3565, 'serious': 3901, 'terrify': 4424, 'scar': 3819, 'police': 3293, 'hospital': 2127, 'sensitive': 3890, 'kid': 2476, 'area': 209, 'ability': 2, 'practice': 3336, 'strong': 4239, 'group': 1963, 'please': 3274, 'dollar': 1302, 'amaze': 142, 'future': 1822, 'generation': 1859, 'read': 3561, 'donate': 1306, 'show': 3971, 'care': 614, 'link': 2607, 'team': 4391, 'website': 4874, 'url': 4746, 'actual': 44, 'information': 2272, 'campaign': 594, 'page': 3090, 'list': 2610, 'plan': 3254, 'fancy': 1633, 'contribute': 920, 'speak': 4113, 'marriage': 2704, 'stuff': 4249, 'owe': 3080, 'anything': 179, 'incredibly': 2244, 'period': 3195, 'intimate': 2353, 'contact': 905, 'less': 2576, 'outside': 3053, 'sex': 3921, 'initiate': 2280, 'reject': 3631, 'frustration': 1794, 'regard': 3620, 'romantic': 3755, 'need': 2880, 'gaslighting': 1844, 'use': 4748, 'fuel': 1799, 'comfortable': 797, 'yet': 4985, 'block': 451, 'medium': 2737, 'breakup': 509, 'psychiatrist': 3459, 'span': 4109, 'hookup': 2109, 'recent': 3581, 'ago': 100, 'lead': 2546, 'hook': 2108, 'ups': 4738, 'purely': 3486, 'spur': 4151, 'moment': 2814, 'drunk': 1366, 'reconnected': 3597, 'situation': 4006, 'abroad': 4, 'number': 2954, 'risk': 3745, 'defend': 1103, 'civilian': 721, 'basic': 343, 'weapon': 4869, 'training': 4562, 'security': 3872, 'contractor': 917, 'perform': 3192, 'aggressive': 98, 'role': 3752, 'approach': 202, 'switch': 4352, 'blade': 437, 'arm': 213, 'cover': 975, 'stain': 4161, 'innocence': 2287, 'face': 1611, 'dread': 1346, 'morning': 2827, 'taste': 4380, 'blood': 454, 'bleed': 445, 'accord': 27, 'study': 4247, 'subject': 4259, 'major': 2679, 'lack': 2511, 'confidence': 864, 'necessarily': 2876, 'easy': 1398, 'influence': 2268, 'worth': 4957, 'avenue': 286, 'focus': 1723, 'support': 4309, 'sexual': 3922, 'quality': 3501, 'solely': 4073, 'limit': 2601, 'medical': 2731, 'field': 1667, 'abuser': 12, 'accountable': 29, 'victim': 4801, 'might': 2768, 'forward': 1754, 'otherwise': 3044, 'wrong': 4973, 'cease': 640, 'sheer': 3942, 'soft': 4070, 'anger': 156, 'basically': 344, 'sound': 4103, 'abused': 11, 'symptom': 4357, 'traumatic': 4581, 'compound': 838, 'second': 3862, 'nature': 2866, 'therapy': 4449, 'offer': 2998, 'free': 1768, 'november': 2947, 'accident': 20, 'grandmother': 1936, 'die': 1194, 'attend': 260, 'funeral': 1813, 'airport': 109, 'spend': 4127, 'ton': 4523, 'gas': 1841, 'tight': 4496, 'eight': 1420, 'marry': 2706, 'halloween': 1995, 'headache': 2033, 'load': 2619, 'do': 1292, 'hate': 2028, 'constantly': 897, 'po': 3284, 'fun': 1805, 'blow': 456, 'away': 297, 'office': 2999, 'someone': 4082, 'convince': 929, 'illness': 2193, 'bottom': 485, 'line': 2604, 'research': 3686, 'doc': 1293, 'online': 3016, 'review': 3731, 'treat': 4588, 'deserve': 1152, 'promise': 3424, 'associate': 246, 'success': 4274, 'fail': 1619, 'navy': 2870, 'exaggerate': 1554, 'towards': 4545, 'mean': 2723, 'task': 4379, 'men': 2745, 'horrible': 2119, 'woman': 4938, 'rather': 3550, 'alone': 125, 'deal': 1078, 'else': 1435, 'ever': 1537, 'detail': 1170, 'project': 3421, 'fix': 1693, 'finish': 1683, 'degree': 1110, 'consider': 889, 'financial': 1677, 'aid': 105, 'via': 4796, 'gofundme': 1899, 'dire': 1215, 'turn': 4625, 'internet': 2344, 'mention': 2748, 'parent': 3118, 'religious': 3647, 'whenever': 4898, 'acting': 38, 'guess': 1973, 'different': 1198, 'live': 2615, 'creepy': 996, 'invite': 2373, 'participate': 3128, 'dissertation': 1270, 'texas': 4431, 'university': 4705, 'purpose': 3489, 'examine': 1557, 'severe': 3918, 'persistent': 3203, 'spmi': 4142, 'satisfaction': 3805, 'intend': 2326, 'supply': 4308, 'researcher': 3687, 'strategy': 4224, 'individual': 2253, 'diagnose': 1184, 'approximately': 205, 'participant': 3127, 'allow': 123, 'nice': 2910, 'thought': 4466, 'drink': 1352, 'cross': 1007, 'push': 3495, 'intoxicated': 2357, 'sip': 4002, 'alcohol': 114, 'uber': 4645, 'drop': 1359, 'ride': 3738, 'pull': 3474, 'apartment': 185, 'complex': 833, 'inside': 2299, 'hungry': 2157, 'pizza': 3250, 'eat': 1399, 'follow': 1729, 'christmas': 710, 'lonely': 2634, 'sad': 3783, 'part': 3124, 'sorry': 4098, 'title': 4510, 'constant': 896, 'affectionate': 84, 'scream': 3844, 'whore': 4909, 'disgusted': 1253, 'ashamed': 227, 'truly': 4609, 'seventeen': 3915, 'drug': 1364, 'rehab': 3627, 'technically': 4395, 'kidnap': 2477, 'across': 36, 'pregnant': 3356, 'law': 2538, 'wash': 4859, 'hand': 1999, 'dangerous': 1056, 'surgery': 4320, 'cause': 636, 'slip': 4029, 'ongoing': 3015, 'issue': 2400, 'town': 4547, 'dinner': 1213, 'obligate': 2968, 'sit': 4004, 'brother': 528, 'whole': 4908, 'damn': 1051, 'notice': 2940, 'embarrassment': 1442, 'awkward': 301, 'train': 4560, 'station': 4182, 'lady': 2513, 'food': 1733, 'wallet': 4847, 'walk': 4844, 'cash': 626, 'perfect': 3190, 'dog': 1301, 'diabetes': 1183, 'stabilize': 4157, 'sugar': 4289, 'unfortunately': 4692, 'bill': 414, 'large': 2523, 'especially': 1516, 'poor': 3301, 'evict': 1545, 'commom': 808, 'type': 4641, 'two': 4638, 'disorder': 1261, 'specific': 4119, 'stress': 4229, 'spring': 4150, 'except': 1561, 'excite': 1565, 'absolutely': 8, 'worse': 4955, 'seek': 3874, 'honest': 2101, 'story': 4215, 'foster': 1755, 'great': 1948, 'understanding': 4678, 'increase': 2240, 'empathy': 1450, 'may': 2719, 'hop': 2110, 'interested': 2337, 'interview': 2350, 'dm': 1291, 'ocd': 2990, 'assure': 248, 'topic': 4532, 'tact': 4366, 'note': 2937, 'anonymous': 166, 'full': 1802, 'name': 2854, 'publish': 3472, 'trust': 4611, 'judgement': 2451, 'judge': 2450, 'stand': 4167, 'grandfather': 1934, 'dental': 1128, 'network': 2898, 'service': 3908, 'provide': 3447, 'treatment': 4589, 'vulnerable': 4838, 'disability': 1222, 'elderly': 1424, 'fragile': 1760, 'afford': 87, 'necessary': 2877, 'operate': 3022, 'volunteer': 4832, 'dentist': 1129, 'united': 4703, 'qualify': 3500, 'must': 2846, 'adequate': 58, 'income': 2234, 'pay': 3159, 'permanent': 3198, 'pretty': 3373, 'healthy': 2039, 'key': 2473, 'water': 4864, 'survive': 4331, 'heat': 2047, 'beyond': 404, 'hydrate': 2165, 'salt': 3793, 'cramp': 982, 'dream': 1347, 'low': 2657, 'mid': 2763, 'sweat': 4340, 'flip': 1706, 'pillow': 3236, 'wet': 4891, 'repeat': 3665, 'interaction': 2334, 'strangle': 4222, 'toxic': 4548, 'vent': 4783, 'bf': 405, 'join': 2439, 'rent': 3660, 'cabin': 578, 'cheap': 678, 'ski': 4010, 'light': 2594, 'main': 2676, 'room': 3759, 'bedroom': 369, 'emotional': 1448, 'jumpy': 2458, 'everywhere': 1544, 'wave': 4865, 'birth': 425, 'learn': 2552, 'dysfunction': 1386, 'substantial': 4269, 'pain': 3092, 'crutch': 1013, 'include': 2232, 'alternate': 135, 'article': 221, 'resolve': 3697, 'quickly': 3508, 'spouse': 4147, 'pelvic': 3177, 'floor': 1713, 'finally': 1675, 'watch': 4863, 'chip': 700, 'bed': 367, 'crawl': 988, 'busy': 571, 'fall': 1627, 'asleep': 231, 'crack': 981, 'wall': 4846, 'extremely': 1608, 'continue': 912, 'silent': 3992, 'already': 130, 'smoke': 4043, 'weed': 4878, 'college': 785, 'stance': 4166, 'hang': 2004, 'genuinely': 1869, 'describe': 1150, 'gut': 1982, 'legitimately': 2569, 'bother': 483, 'distressed': 1281, 'tear': 4392, 'wish': 4926, 'explain': 1590, 'option': 3029, 'intensify': 2329, 'depression': 1143, 'manic': 2690, 'behavior': 379, 'outburst': 3045, 'somewhere': 4088, 'settle': 3912, 'relatively': 3639, 'effective': 1411, 'combination': 792, 'med': 2730, 'injury': 2283, 'discovery': 1247, 'debilitating': 1085, 'incurable': 2245, 'connective': 882, 'tissue': 4509, 'chunk': 713, 'discover': 1246, 'grip': 1956, 'reality': 3567, 'manage': 2686, 'overall': 3056, 'supportive': 4310, 'share': 3938, 'value': 4771, 'clot': 756, 'wear': 4870, 'wit': 4929, 'nose': 2935, 'deprive': 1145, 'ford': 1739, 'kavanaugh': 2468, 'father': 1642, 'news': 2907, 'agree': 102, 'nightmare': 2914, 'drain': 1336, 'energy': 1469, 'throughout': 4480, 'harder': 2017, 'counsel': 958, 'knowledge': 2503, 'condition': 856, 'diagnosis': 1186, 'rambling': 3531, 'bit': 428, 'mess': 2751, 'gay': 1850, 'humiliation': 2154, 'son': 4089, 'bout': 488, 'church': 714, 'possibly': 3318, 'encounter': 1459, 'demand': 1123, 'respect': 3700, 'polite': 3295, 'expect': 1580, 'reprimand': 3677, 'gown': 1915, 'least': 2557, 'cart': 623, 'remind': 3654, 'piss': 3244, 'ugh': 4647, 'drip': 1354, 'sneeze': 4051, 'eye': 1610, 'develop': 1175, 'allergy': 121, 'class': 726, 'cant': 606, 'scan': 3818, 'environment': 1495, 'nervous': 2893, 'peer': 3175, 'teacher': 4390, 'tutor': 4627, 'probably': 3396, 'visibly': 4820, 'uncomfortable': 4665, 'barely': 336, 'ha': 1985, 'ease': 1395, 'tomorrow': 4522, 'single': 4000, 'edit': 1408, 'message': 2752, 'scary': 3822, 'twin': 4633, 'sister': 4003, 'irrational': 2387, 'birthday': 426, 'huge': 2148, 'store': 4213, 'safe': 3786, 'manager': 2689, 'grow': 1965, 'employee': 1453, 'shift': 3949, 'minimal': 2784, 'slow': 4031, 'complete': 831, 'believe': 383, 'supervisor': 4305, 'yes': 4983, 'consume': 903, 'quite': 3512, 'caffeine': 582, 'per': 3186, 'summer': 4299, 'medicate': 2732, 'methylphenidate': 2758, 'adhd': 59, 'rarely': 3546, 'increased': 2241, 'rate': 3549, 'bp': 494, 'chest': 691, 'appointment': 199, 'trial': 4595, 'exam': 1556, 'hear': 2040, 'plate': 3263, 'suffer': 4282, 'thanks': 4441, 'massive': 2709, 'amount': 152, 'job': 2434, 'hunt': 2158, 'oh': 3006, 'hire': 2082, 'let': 2579, 'sign': 3985, 'unlikely': 4710, 'ruin': 3773, 'mentally': 2747, 'gory': 1910, 'prepared': 3360, 'fucking': 1798, 'jokey': 2442, 'item': 2402, 'trauma': 4580, 'guard': 1972, 'funny': 1815, 'thread': 4469, 'favorite': 1645, 'hobby': 2086, 'tired': 4508, 'reach': 3557, 'decline': 1093, 'socially': 4064, 'rant': 3540, 'buddy': 541, 'brilliant': 520, 'throw': 4481, 'brick': 515, 'recipe': 3586, 'tie': 4495, 'window': 4918, 'responsibility': 3705, 'gratification': 1945, 'thankful': 4439, 'occasion': 2984, 'grateful': 1944, 'starbucks': 4172, 'buy': 575, 'coffee': 772, 'lastly': 2528, 'rich': 3736, 'neighborhood': 2888, 'cost': 951, 'anyways': 182, 'prove': 3446, 'fact': 1615, 'regular': 3625, 'empower': 1456, 'north': 2934, 'eventually': 1536, 'arrive': 219, 'early': 1392, 'mistake': 2797, 'panhandle': 3103, 'spare': 4111, 'quarter': 3502, 'weird': 4884, 'hello': 2058, 'random': 3536, 'everyday': 1540, 'usually': 4755, 'body': 464, 'pound': 3327, 'completely': 832, 'cat': 631, 'bury': 565, 'garden': 1840, 'search': 3857, 'pet': 3211, 'penny': 3182, 'unemployed': 4684, 'ruminating': 3776, 'accept': 16, 'ignorant': 2187, 'generally': 1857, 'rude': 3771, 'assault': 235, 'affect': 82, 'ruminate': 3775, 'technique': 4396, 'suggest': 4290, 'distract': 1277, 'argue': 210, 'froze': 1788, 'wait': 4841, 'petition': 3213, 'visible': 4819, 'distress': 1280, 'suicide': 4294, 'exchange': 1564, 'letter': 2580, 'retrospect': 3725, 'chalk': 656, 'best': 399, 'persuade': 3209, 'view': 4804, 'similar': 3994, 'card': 613, 'piece': 3232, 'paper': 3110, 'attach': 256, 'example': 1558, 'close': 749, 'aim': 106, 'career': 615, 'totally': 4539, 'actively': 42, 'dating': 1065, 'pool': 3300, 'appeal': 192, 'club': 760, 'hopefully': 2113, 'pick': 3230, 'stick': 4197, 'casually': 630, 'mood': 2822, 'potential': 3325, 'stitch': 4205, 'unwanted': 4729, 'mainly': 2677, 'weight': 4883, 'hat': 2026, 'fat': 1640, 'generalize': 1856, 'young': 4989, 'bright': 519, 'assignment': 242, 'fairly': 1624, 'click': 737, 'simple': 3995, 'extreme': 1607, 'spiral': 4135, 'weekend': 4880, 'five': 1692, 'protect': 3440, 'level': 2581, 'insane': 2291, 'counsellor': 961, 'mine': 2782, 'seriously': 3902, 'remove': 3658, 'although': 138, 'burner': 562, 'electric': 1427, 'minimum': 2786, 'payment': 3163, 'schedule': 3826, 'disconnect': 1241, 'longer': 2636, 'shot': 3966, 'miracle': 2790, 'conversation': 927, 'weather': 4872, 'coincidentally': 776, 'initially': 2279, 'distance': 1274, 'zach': 4994, 'dislike': 1258, 'drunker': 1368, 'create': 991, 'ready': 3563, 'deeply': 1099, 'advice': 77, 'girlfriend': 1884, 'self': 3881, 'confident': 865, 'perceive': 3187, 'undermine': 4673, 'esteem': 1522, 'apply': 198, 'stressful': 4231, 'event': 1535, 'million': 2777, 'hi': 2071, 'thirty': 4462, 'appear': 193, 'entirely': 1489, 'appearance': 194, 'communication': 812, 'albeit': 113, 'quiet': 3509, 'ego': 1418, 'whatever': 4892, 'hot': 2134, 'destroyed': 1167, 'visit': 4822, 'fantastic': 1635, 'split': 4140, 'comparison': 820, 'check': 681, 'box': 490, 'insecure': 2295, 'tall': 4373, 'douchey': 1319, 'contrast': 919, 'threaten': 4471, 'clearly': 735, 'interest': 2336, 'attraction': 267, 'wan': 4850, 'lengthy': 2574, 'nowhere': 2949, 'truck': 4607, 'breathing': 513, 'simply': 3997, 'belly': 385, 'upper': 4737, 'breathe': 512, 'breath': 511, 'choose': 706, 'certain': 650, 'count': 963, 'rise': 3744, 'summary': 4298, 'factory': 1617, 'often': 3004, 'recover': 3599, 'bulge': 547, 'certificate': 653, 'employer': 1454, 'advise': 78, 'glass': 1891, 'medication': 2733, 'straight': 4217, 'playful': 3269, 'scare': 3820, 'prank': 3338, 'beat': 361, 'drag': 1335, 'swear': 4339, 'expand': 1579, 'dissociation': 1272, 'history': 2084, 'memory': 2744, 'dark': 1060, 'hair': 1990, 'bubbly': 539, 'personality': 3206, 'skinny': 4013, 'version': 4793, 'shake': 3930, 'remain': 3651, 'front': 1787, 'dress': 1349, 'vote': 4835, 'secure': 3871, 'spite': 4138, 'traumatize': 4582, 'shame': 3935, 'depend': 1134, 'deep': 1097, 'defective': 1102, 'abandon': 0, 'reminder': 3655, 'punishment': 3481, 'toy': 4549, 'plushie': 3282, 'rescue': 3685, 'slap': 4019, 'cut': 1037, 'bitch': 429, 'beaten': 362, 'snap': 4046, 'utterly': 4758, 'grab': 1919, 'collapse': 779, 'formally': 1747, 'logical': 2631, 'conclusion': 853, 'rape': 3542, 'endure': 1466, 'stable': 4158, 'blame': 439, 'behaviour': 380, 'display': 1265, 'rip': 3743, 'swirl': 4351, 'replay': 3670, 'horror': 2124, 'left': 2562, 'suggestion': 4292, 'carry': 622, 'bounce': 486, 'form': 1746, 'positive': 3314, 'computer': 843, 'video': 4803, 'youtube': 4992, 'depress': 1140, 'waste': 4862, 'depressed': 1141, 'reply': 3671, 'fire': 1684, 'chaotic': 665, 'danger': 1055, 'mike': 2770, 'silly': 3993, 'argument': 211, 'common': 809, 'theo': 4446, 'cute': 1038, 'clean': 731, 'smash': 4039, 'approve': 204, 'alcoholism': 116, 'entire': 1488, 'sudden': 4279, 'grieve': 1954, 'death': 1083, 'needle': 2881, 'rough': 3764, 'hood': 2107, 'cheat': 679, 'six': 4007, 'bender': 390, 'fell': 1658, 'depressive': 1144, 'suicidal': 4293, 'crisis': 1003, 'phone': 3223, 'ten': 4411, 'sub': 4257, 'worthy': 4960, 'destroy': 1166, 'useless': 4751, 'exactly': 1553, 'picture': 3231, 'motivation': 2832, 'freshman': 1777, 'listen': 2611, 'code': 770, 'awake': 293, 'clearer': 734, 'assistance': 244, 'lucky': 2664, 'alive': 120, 'injured': 2282, 'rob': 3749, 'engagement': 1472, 'process': 3403, 'dumb': 1374, 'god': 1897, 'rage': 3525, 'apart': 184, 'pray': 3339, 'stretch': 4232, 'jump': 2457, 'land': 2517, 'leg': 2563, 'position': 3313, 'add': 49, 'bunch': 555, 'scenario': 3824, 'reddit': 3605, 'monitor': 2818, 'guide': 1976, 'host': 2130, 'build': 545, 'partnership': 3134, 'sector': 3870, 'resource': 3699, 'audience': 271, 'serve': 3906, 'amanda': 141, 'senior': 3886, 'party': 3135, 'jeff': 2423, 'drama': 1338, 'admit': 63, 'cold': 777, 'turkey': 4623, 'employment': 1455, 'grandparent': 1938, 'male': 2684, 'strangely': 4220, 'meth': 2756, 'neglect': 2886, 'dear': 1081, 'double': 1317, 'trustworthy': 4612, 'oblivious': 2970, 'bubble': 538, 'faith': 1625, 'screw': 3850, 'episode': 1498, 'figure': 1670, 'despite': 1162, 'official': 3001, 'due': 1372, 'direction': 1217, 'thick': 4455, 'tree': 4590, 'bush': 567, 'theres': 4453, 'cam': 592, 'doubt': 1318, 'parking': 3122, 'cop': 936, 'he': 2031, 'wheel': 4896, 'friggin': 1784, 'couch': 954, 'blunt': 459, 'trained': 4561, 'thug': 4486, 'rid': 3737, 'till': 4499, 'bike': 411, 'library': 2586, 'laptop': 2522, 'sens': 3887, 'professional': 3410, 'system': 4360, 'remote': 3656, 'ear': 1390, 'cable': 579, 'stock': 4206, 'source': 4105, 'complicate': 834, 'bank': 333, 'account': 28, 'balance': 327, 'monthly': 2821, 'overdraw': 3061, 'transaction': 4566, 'range': 3538, 'concern': 849, 'knock': 2499, 'reveal': 3727, 'hopeless': 2114, 'excellent': 1560, 'smart': 4037, 'commit': 805, 'quit': 3511, 'application': 197, 'overwhelmed': 3077, 'ny': 2961, 'essay': 1518, 'supplemental': 4307, 'file': 1671, 'sooner': 4093, 'deadline': 1075, 'content': 909, 'replacement': 3669, 'happiness': 2011, 'january': 2414, 'blue': 458, 'swing': 4350, 'confused': 875, 'game': 1832, 'unwilling': 4731, 'petty': 3215, 'maintain': 2678, 'slowly': 4032, 'wife': 4912, 'hardly': 2018, 'lower': 2658, 'effexor': 1413, 'outweigh': 3055, 'depersonalization': 1137, 'uncontrollable': 4668, 'craving': 987, 'fred': 1767, 'penzel': 3184, 'expert': 1587, 'collection': 782, 'base': 340, 'successfully': 4276, 'patient': 3152, 'particularly': 3131, 'highlight': 2075, 'variant': 4774, 'overcome': 3057, 'starter': 4175, 'exposure': 1598, 'response': 3704, 'prevention': 3375, 'several': 3917, 'series': 3900, 'kick': 2475, 'introduce': 2358, 'fwb': 1823, 'refuse': 3619, 'stranger': 4221, 'badly': 319, 'wonderful': 4940, 'connection': 881, 'replace': 3668, 'cancel': 600, 'license': 2588, 'expense': 1582, 'government': 1914, 'willing': 4915, 'repay': 3663, 'repayment': 3664, 'priority': 3387, 'sock': 4067, 'pm': 3283, 'question': 3504, 'paypal': 3164, 'app': 189, 'transfer': 4567, 'unlock': 4712, 'local': 2622, 'location': 2624, 'report': 3673, 'verify': 4791, 'jail': 2407, 'thin': 4457, 'claim': 722, 'deny': 1131, 'education': 1409, 'thats': 4443, 'stare': 4173, 'instagram': 2308, 'convinced': 930, 'bump': 554, 'lock': 2625, 'kiss': 2489, 'holiday': 2090, 'tooth': 4528, 'gap': 1836, 'crush': 1012, 'instructor': 2318, 'behind': 381, 'forget': 1744, 'sorority': 4097, 'interact': 2333, 'teach': 4389, 'exhaust': 1572, 'toddler': 4514, 'yell': 4981, 'vein': 4782, 'neck': 2879, 'repeatedly': 3666, 'stab': 4155, 'lord': 2642, 'buck': 540, 'ultimately': 4652, 'accidentally': 22, 'elbow': 1423, 'practise': 3337, 'excuse': 1570, 'sibling': 3978, 'broken': 525, 'wrist': 4969, 'cast': 628, 'bone': 468, 'gad': 1826, 'vicious': 4800, 'circle': 716, 'normally': 2933, 'insomnia': 2304, 'subsequently': 4266, 'prescribe': 3362, 'xanax': 4975, 'resort': 3698, 'alprazolam': 129, 'mile': 2774, 'sleepy': 4023, 'lay': 2541, 'stomach': 4207, 'tighten': 4497, 'pippa': 3243, 'irresponsible': 2389, 'coma': 790, 'remotely': 3657, 'poodle': 3299, 'partner': 3133, 'insight': 2300, 'befriend': 372, 'colleague': 780, 'coworkers': 977, 'lunch': 2667, 'text': 4432, 'evening': 1534, 'pub': 3469, 'dive': 1286, 'confirm': 869, 'deeper': 1098, 'excited': 1566, 'consciousness': 885, 'biological': 421, 'aunt': 275, 'nc': 2872, 'finance': 1676, 'concussion': 855, 'dorm': 1313, 'living': 2618, 'chronic': 711, 'wedding': 4876, 'impact': 2207, 'fantasize': 1634, 'others': 3043, 'data': 1062, 'download': 1323, 'install': 2309, 'connect': 879, 'access': 19, 'site': 4005, 'far': 1637, 'tension': 4417, 'lockdown': 2626, 'drill': 1351, 'schoolers': 3833, 'atmosphere': 255, 'earlier': 1391, 'input': 2290, 'ill': 2190, 'definition': 1108, 'forever': 1743, 'secondary': 3863, 'supplement': 4306, 'increasingly': 2242, 'someday': 4080, 'pasta': 3145, 'sauce': 3809, 'redditor': 3606, 'selfish': 3882, 'apology': 188, 'package': 3087, 'observant': 2973, 'jewish': 2429, 'kosher': 2504, 'shabbat': 3926, 'important': 2211, 'voucher': 4836, 'welfare': 4886, 'bartender': 339, 'equally': 1500, 'odd': 2993, 'cook': 931, 'meal': 2722, 'gravitate': 1947, 'return': 3726, 'incredible': 2243, 'relax': 3640, 'insurance': 2322, 'definitely': 1107, 'scold': 3838, 'inevitably': 2258, 'step': 4191, 'std': 4185, 'power': 3330, 'specifically': 4120, 'horrendous': 2118, 'clonazepam': 746, 'ipad': 2379, 'member': 2742, 'fitness': 1691, 'center': 646, 'countless': 966, 'cope': 937, 'nah': 2850, 'frustrating': 1793, 'mature': 2718, 'instead': 2314, 'immature': 2198, 'validation': 4766, 'ldr': 2544, 'possibility': 3316, 'prozac': 3452, 'hopeful': 2112, 'heighten': 2056, 'occur': 2988, 'joint': 2440, 'painful': 3093, 'late': 2530, 'bathroom': 351, 'disrespectful': 1268, 'department': 1133, 'policy': 3294, 'working': 4947, 'personal': 3205, 'relation': 3636, 'direct': 1216, 'bos': 480, 'married': 2705, 'proceed': 3401, 'answer': 169, 'insist': 2302, 'joke': 2441, 'handle': 2001, 'logic': 2630, 'offensive': 2997, 'private': 3391, 'screening': 3847, 'questionnaire': 3506, 'vanderbilt': 4773, 'eligible': 1434, 'biologically': 422, 'niece': 2912, 'nephew': 2891, 'adopt': 67, 'murder': 2842, 'attempt': 259, 'transportation': 4577, 'stamp': 4165, 'grocery': 1957, 'helpful': 2060, 'worn': 4952, 'heating': 2050, 'gamble': 1830, 'severely': 3919, 'disappointed': 1230, 'damage': 1049, 'door': 1312, 'opiate': 3023, 'addict': 52, 'spot': 4146, 'spent': 4129, 'terrible': 4421, 'gang': 1835, 'mexican': 2759, 'molest': 2812, 'libido': 2585, 'lol': 2633, 'precede': 3345, 'freaking': 1766, 'pop': 3303, 'pill': 3235, 'embarrass': 1439, 'lifestyle': 2591, 'meditation': 2736, 'boundary': 487, 'storm': 4214, 'insistence': 2303, 'fault': 1644, 'chemistry': 689, 'meditate': 2735, 'basis': 345, 'handful': 2000, 'intense': 2327, 'compulsively': 842, 'draw': 1342, 'july': 2456, 'survival': 4330, 'mode': 2806, 'save': 3811, 'recognize': 3591, 'award': 294, 'wound': 4964, 'privacy': 3390, 'yr': 4993, 'bath': 349, 'encourage': 1460, 'bag': 321, 'rice': 3735, 'retired': 3720, 'marine': 2699, 'blog': 453, 'walking': 4845, 'dead': 1074, 'leader': 2547, 'zombie': 4998, 'twice': 4632, 'graduate': 1924, 'final': 1674, 'semester': 3884, 'understood': 4679, 'grad': 1921, 'hence': 2063, 'beginning': 376, 'typically': 4643, 'slight': 4027, 'loss': 2646, 'tldr': 4512, 'gf': 1875, 'jaw': 2418, 'wide': 4911, 'dilemma': 1209, 'skin': 4012, 'raw': 3556, 'nine': 2916, 'blocker': 452, 'collector': 784, 'begin': 374, 'difference': 1197, 'slew': 4025, 'incoming': 2235, 'unknown': 4706, 'invest': 2369, 'skill': 4011, 'gaming': 1834, 'community': 814, 'obsession': 2977, 'bullshit': 550, 'boot': 472, 'btw': 537, 'own': 3081, 'sadly': 3784, 'mirtazapine': 2792, 'cycle': 1042, 'creep': 995, 'benefit': 393, 'medicine': 2734, 'mild': 2772, 'cushion': 1033, 'suspect': 4333, 'constructive': 901, 'decision': 1092, 'throwaway': 4482, 'username': 4753, 'lesbian': 2575, 'near': 2873, 'tx': 4639, 'december': 1089, 'isnt': 2394, 'roof': 3758, 'daily': 1048, 'present': 3365, 'contemplate': 908, 'adress': 73, 'permission': 3200, 'meeting': 2739, 'peace': 3167, 'yelling': 4982, 'sick': 3979, 'deadly': 1076, 'disease': 1251, 'weak': 4867, 'mix': 2800, 'paige': 3091, 'vet': 4794, 'canine': 604, 'essentially': 1520, 'central': 647, 'louisiana': 2651, 'told': 4518, 'frequent': 1774, 'difficulty': 1201, 'concentrate': 845, 'attribute': 269, 'bipolar': 424, 'avoid': 289, 'determine': 1173, 'sober': 4061, 'seven': 3914, 'desire': 1156, 'grass': 1943, 'bot': 482, 'briefly': 518, 'besides': 398, 'cbt': 639, 'wallow': 4848, 'somebody': 4079, 'repair': 3662, 'vehicle': 4781, 'spending': 4128, 'unnecessary': 4714, 'acceptable': 17, 'advance': 75, 'trap': 4578, 'hell': 2057, 'twisted': 4635, 'vinyl': 4807, 'journey': 2448, 'destination': 1164, 'valium': 4768, 'bus': 566, 'tunnel': 4621, 'min': 2778, 'annoy': 163, 'restaurant': 3709, 'midnight': 2765, 'ground': 1961, 'entrance': 1491, 'sleeping': 4021, 'however': 2144, 'fourth': 1758, 'facebook': 1612, 'cringe': 1000, 'meant': 2726, 'loud': 2648, 'noise': 2920, 'require': 3682, 'reachable': 3558, 'staff': 4159, 'request': 3681, 'eviction': 1546, 'dependent': 1136, 'thyroid': 4489, 'hormone': 2117, 'measure': 2728, 'multiple': 2839, 'trouble': 4604, 'largely': 2524, 'stimulation': 4202, 'prior': 3385, 'intercourse': 2335, 'officially': 3002, 'advisor': 79, 'vaguely': 4764, 'procedure': 3400, 'sample': 3795, 'toward': 4544, 'fellow': 1659, 'burst': 564, 'porch': 3306, 'hyperventilate': 2168, 'dial': 1187, 'ambulance': 147, 'book': 470, 'status': 4183, 'scroll': 3853, 'absorb': 9, 'wherever': 4900, 'productive': 3409, 'rot': 3763, 'size': 4008, 'degenerate': 1109, 'cell': 644, 'yay': 4978, 'throne': 4479, 'rub': 3770, 'suffering': 4284, 'affection': 83, 'wrestle': 4968, 'tickle': 4492, 'torture': 4536, 'tackle': 4365, 'pin': 3238, 'routine': 3768, 'resent': 3688, 'fearful': 1648, 'overreact': 3070, 'animal': 159, 'unless': 4708, 'loving': 2656, 'heal': 2036, 'music': 2845, 'headphone': 2034, 'grade': 1922, 'zero': 4995, 'crime': 998, 'warm': 4855, 'farm': 1638, 'scholarship': 3831, 'sustainable': 4337, 'board': 461, 'discomfort': 1240, 'locker': 2627, 'gym': 1984, 'keyboard': 2474, 'guitar': 1979, 'teen': 4398, 'choice': 703, 'nobody': 2919, 'ache': 32, 'exercise': 1571, 'fully': 1803, 'accusation': 30, 'escape': 1514, 'proof': 3430, 'consent': 886, 'reliable': 3644, 'expensive': 1583, 'autistic': 280, 'hide': 2072, 'careful': 617, 'correct': 947, 'additional': 55, 'useful': 4750, 'drastically': 1341, 'boost': 471, 'frame': 1761, 'loan': 2621, 'consideration': 891, 'sean': 3856, 'crap': 983, 'non': 2922, 'psyche': 3456, 'tense': 4416, 'strain': 4218, 'untreated': 4726, 'object': 2965, 'force': 1738, 'minor': 2787, 'worker': 4946, 'responsible': 3706, 'perpetrator': 3201, 'ideation': 2178, 'pathetic': 3150, 'delete': 1116, 'alt': 133, 'hash': 2024, 'quiz': 3513, 'design': 1154, 'stump': 4252, 'randomly': 3537, 'pose': 3312, 'fumble': 1804, 'exasperated': 1559, 'anybody': 176, 'whatsoever': 4895, 'peanut': 3171, 'butter': 573, 'apparently': 191, 'sandwich': 3797, 'candy': 603, 'cup': 1021, 'pint': 3241, 'ice': 2174, 'cream': 990, 'artist': 222, 'doer': 1299, 'par': 3112, 'equal': 1499, 'reciprocate': 3587, 'avoidant': 291, 'broke': 524, 'psychological': 3461, 'hesitant': 2068, 'regimen': 3622, 'grandma': 1935, 'commercial': 803, 'clorox': 748, 'clothes': 757, 'quote': 3514, 'babysitter': 306, 'produce': 3407, 'gold': 1901, 'whichever': 4902, 'prefer': 3351, 'function': 1806, 'panicking': 3106, 'alongside': 127, 'paranoia': 3116, 'cannabis': 605, 'brian': 514, 'comment': 802, 'withhold': 4932, 'turning': 4626, 'pair': 3098, 'happening': 2008, 'fuse': 1820, 'substance': 4268, 'rock': 3751, 'pressure': 3370, 'hometown': 2098, 'waiting': 4842, 'winter': 4921, 'awful': 299, 'judgmental': 2454, 'perpetuate': 3202, 'additionally': 56, 'unavailable': 4658, 'previously': 3378, 'subreddit': 4262, 'demonstrate': 1126, 'beneficial': 392, 'natural': 2864, 'dos': 1314, 'diet': 1196, 'acquaintance': 35, 'solution': 4076, 'session': 3909, 'stone': 4209, 'perhaps': 3194, 'facial': 1613, 'despair': 1158, 'subconscious': 4258, 'psychosomatic': 3465, 'twenty': 4631, 'accomplish': 25, 'significance': 3987, 'heard': 2041, 'karma': 2466, 'relative': 3638, 'former': 1750, 'exception': 1562, 'ditch': 1285, 'dramatic': 1339, 'nurse': 2957, 'oxygen': 3083, 'understandably': 4677, 'suppose': 4311, 'invitation': 2372, 'transport': 4576, 'travel': 4583, 'aside': 229, 'hr': 2145, 'background': 309, 'golden': 1902, 'retriever': 3724, 'slightly': 4028, 'label': 2508, 'sweetheart': 4346, 'teenager': 4400, 'envy': 1496, 'sport': 4144, 'cheer': 685, 'rain': 3527, 'snow': 4054, 'lamp': 2516, 'motel': 2830, 'preschool': 3361, 'recommendation': 3594, 'gain': 1827, 'primary': 3382, 'citalopram': 718, 'celexa': 643, 'escitalopram': 1515, 'lexapro': 2582, 'sadness': 3785, 'apparent': 190, 'somehow': 4081, 'invisible': 2371, 'frozen': 1789, 'august': 274, 'conflict': 871, 'frighten': 1785, 'guilty': 1978, 'pursue': 3494, 'sentence': 3894, 'directly': 1218, 'register': 3623, 'curious': 1027, 'convenience': 925, 'business': 568, 'daddy': 1046, 'hug': 2147, 'patiently': 3153, 'fiancé': 1666, 'reception': 3583, 'confront': 872, 'temper': 4405, 'fiance': 1665, 'courage': 970, 'coat': 767, 'neither': 2890, 'plenty': 3277, 'regardless': 3621, 'shitty': 3956, 'dude': 1371, 'resentment': 3689, 'mouth': 2834, 'submit': 4261, 'heavily': 2052, 'heartbeat': 2044, 'furniture': 1818, 'desk': 1157, 'discount': 1244, 'equivalent': 1504, 'english': 1477, 'language': 2520, 'audio': 272, 'select': 3879, 'progress': 3418, 'meaning': 2724, 'user': 4752, 'paxil': 3158, 'lb': 2543, 'majority': 2680, 'energetic': 1468, 'shortly': 3965, 'alleviate': 122, 'mexico': 2760, 'county': 968, 'york': 4988, 'king': 2487, 'queen': 3503, 'container': 907, 'wipe': 4922, 'exacerbate': 1551, 'tv': 4628, 'varied': 4775, 'occassion': 2987, 'welcome': 4885, 'independence': 2247, 'adjust': 60, 'respond': 3702, 'wrap': 4966, 'flat': 1700, 'screen': 3846, 'steam': 4189, 'mesh': 2750, 'awhile': 300, 'messy': 2754, 'justify': 2463, 'bully': 551, 'gcse': 1851, 'result': 3715, 'ob': 2964, 'negative': 2883, 'beautiful': 363, 'dump': 1375, 'maker': 2682, 'nude': 2951, 'blind': 449, 'permanently': 3199, 'choking': 705, 'incident': 2230, 'labrador': 2510, 'lovely': 2655, 'march': 2697, 'quick': 3507, 'possession': 3315, 'pornography': 3308, 'plead': 3272, 'exploitation': 1595, 'federal': 1652, 'offender': 2996, 'stage': 4160, 'cancer': 601, 'humiliate': 2153, 'servant': 3905, 'butt': 572, 'cooler': 934, 'extension': 1603, 'academic': 15, 'counselor': 962, 'advocate': 80, 'restraining': 3712, 'unstable': 4723, 'studio': 4246, 'photo': 3224, 'shower': 3973, 'slide': 4026, 'smile': 4041, 'talked': 4372, 'park': 3121, 'shape': 3937, 'attitude': 264, 'breast': 510, 'sore': 4096, 'piv': 3249, 'organ': 3035, 'aware': 295, 'zone': 4999, 'relevant': 3643, 'overwhelming': 3078, 'strange': 4219, 'lean': 2551, 'explanation': 1591, 'prison': 3388, 'felony': 1660, 'probation': 3397, 'pretend': 3371, 'shes': 3948, 'involuntary': 2375, 'psychiatric': 3458, 'transpire': 4575, 'betrayal': 402, 'betray': 401, 'blackout': 435, 'genitals': 1864, 'scrotum': 3854, 'punch': 3477, 'bite': 431, 'scratch': 3843, 'retreat': 3722, 'realization': 3568, 'charger': 669, 'june': 2459, 'flashback': 1698, 'reluctant': 3649, 'anywhere': 183, 'homelessness': 2095, 'landlord': 2518, 'asshole': 240, 'ghost': 1876, 'subsequent': 4265, 'term': 4419, 'ambitious': 146, 'distant': 1275, 'adult': 74, 'naive': 2852, 'innocent': 2288, 'outcast': 3046, 'amongst': 151, 'true': 4608, 'island': 2393, 'tire': 4507, 'couldnt': 957, 'lorazepam': 2641, 'average': 287, 'wouldnt': 4962, 'ive': 2404, 'purchase': 3483, 'cigarette': 715, 'jokingly': 2443, 'insult': 2321, 'newness': 2906, 'housework': 2141, 'confrontation': 873, 'certainly': 651, 'uncle': 4664, 'empty': 1457, 'housing': 2142, 'til': 4498, 'bob': 463, 'property': 3434, 'debt': 1086, 'used': 4749, 'fund': 1808, 'immigrant': 2204, 'barrier': 338, 'bullet': 549, 'eleven': 1433, 'desperately': 1160, 'discourage': 1245, 'california': 586, 'record': 3598, 'somewhat': 4087, 'related': 3635, 'bojack': 465, 'horseman': 2126, 'tablet': 4364, 'ceiling': 641, 'distort': 1276, 'abruptly': 5, 'startle': 4177, 'closet': 753, 'assume': 247, 'subreddits': 4263, 'redirect': 3608, 'customer': 1036, 'whose': 4910, 'device': 1178, 'explode': 1594, 'apologise': 186, 'uni': 4698, 'separate': 3895, 'inform': 2271, 'mutual': 2848, 'successful': 4275, 'tonight': 4526, 'gentle': 1865, 'table': 4363, 'mil': 2771, 'laundry': 2537, 'fucked': 1797, 'sympathy': 4356, 'pawn': 3157, 'independent': 2248, 'goal': 1896, 'diploma': 1214, 'enforcement': 1470, 'tend': 4414, 'unfamiliar': 4690, 'heavy': 2053, 'defeat': 1101, 'bomb': 466, 'whether': 4901, 'breaking': 508, 'cage': 583, 'skip': 4014, 'downtown': 1326, 'freedom': 1769, 'pit': 3246, 'everytime': 1543, 'belittle': 384, 'deliberately': 1117, 'purposefully': 3490, 'bruise': 531, 'proper': 3432, 'legal': 2565, 'adoption': 68, 'residency': 3693, 'adoptive': 69, 'mum': 2841, 'destructive': 1168, 'spill': 4131, 'ward': 4854, 'potentially': 3326, 'lung': 2668, 'practically': 3335, 'gleeful': 1892, 'cosmic': 950, 'passionate': 3140, 'feed': 1654, 'appetite': 195, 'management': 2688, 'total': 4538, 'satisfied': 3806, 'pour': 3328, 'confuse': 874, 'glad': 1887, 'rope': 3762, 'plague': 3252, 'tendency': 4415, 'binge': 419, 'sink': 4001, 'avoidance': 290, 'openly': 3021, 'hostile': 2132, 'explicitly': 1593, 'punish': 3480, 'linehan': 2605, 'criticism': 1004, 'plus': 3281, 'grand': 1931, 'gesture': 1873, 'regularly': 3626, 'thoughtful': 4467, 'earn': 1393, 'unhealthy': 4696, 'commitment': 806, 'broach': 523, 'committed': 807, 'sickness': 3980, 'concept': 848, 'fit': 1690, 'evaluation': 1531, 'va': 4759, 'foxnews': 1759, 'combat': 791, 'shut': 3976, 'safety': 3788, 'bind': 418, 'groom': 1959, 'horse': 2125, 'emotion': 1447, 'restroom': 3714, 'shirt': 3953, 'advantage': 76, 'partially': 3126, 'soda': 4068, 'stall': 4164, 'avid': 288, 'stipend': 4204, 'paycheck': 3161, 'added': 50, 'net': 2895, 'extra': 1606, 'lender': 2572, 'available': 285, 'taper': 4377, 'timeline': 4502, 'mobility': 2803, 'fatigue': 1643, 'syndrome': 4359, 'calf': 585, 'injure': 2281, 'muscle': 2843, 'hip': 2081, 'kidney': 2478, 'liver': 2616, 'bladder': 436, 'phase': 3217, 'consult': 902, 'eighteen': 1421, 'grill': 1955, 'teeth': 4401, 'brunswick': 533, 'logically': 2632, 'seat': 3859, 'wire': 4923, 'speaker': 4114, 'wreck': 4967, 'pure': 3485, 'defensive': 1105, 'appropriate': 203, 'homework': 2099, 'standard': 4168, 'internal': 2341, 'hatred': 2029, 'toss': 4537, 'seemingly': 3876, 'snowball': 4055, 'glove': 1894, 'camp': 593, 'helpless': 2061, 'tax': 4384, 'insignificant': 2301, 'jerk': 2425, 'intelligent': 2325, 'facility': 1614, 'violate': 4808, 'bacteria': 317, 'serotonin': 3903, 'scene': 3825, 'headspace': 2035, 'surprisingly': 4324, 'authority': 278, 'terror': 4426, 'flash': 1697, 'screaming': 3845, 'sweating': 4341, 'instinct': 2315, 'mechanism': 2729, 'command': 801, 'opportunity': 3025, 'officer': 3000, 'stigma': 4200, 'black': 434, 'duty': 1379, 'attorney': 265, 'firm': 1686, 'idiot': 2181, 'evil': 1548, 'belief': 382, 'knife': 2497, 'paint': 3095, 'accuse': 31, 'chill': 698, 'tram': 4564, 'pot': 3323, 'concerned': 850, 'vision': 4821, 'pedo': 3172, 'grandpa': 1937, 'cousin': 973, 'sting': 4203, 'jay': 2419, 'personally': 3207, 'emdr': 1445, 'instance': 2311, 'mindset': 2781, 'shithole': 3955, 'childhood': 695, 'identify': 2179, 'narcissist': 2858, 'disown': 1263, 'sunday': 4301, 'rap': 3541, 'overly': 3067, 'occasional': 2985, 'hurtful': 2162, 'ridiculous': 3739, 'expectation': 1581, 'obvious': 2982, 'nipple': 2917, 'basement': 341, 'nearby': 2874, 'cptsd': 979, 'info': 2270, 'shout': 3969, 'onto': 3019, 'respectful': 3701, 'idk': 2182, 'celebrate': 642, 'co': 763, 'havent': 2030, 'platform': 3264, 'caring': 620, 'anytime': 180, 'scheduled': 3827, 'wage': 4839, 'utility': 4756, 'pack': 3086, 'incase': 2227, 'slept': 4024, 'battery': 352, 'pale': 3099, 'ball': 328, 'activity': 43, 'upset': 4739, 'bail': 323, 'court': 972, 'verdict': 4788, 'foremost': 1741, 'veteran': 4795, 'gear': 1852, 'awesome': 298, 'lease': 2554, 'guest': 1974, 'abandonment': 1, 'klonopin': 2494, 'communicative': 813, 'neighbor': 2887, 'bleach': 444, 'nasty': 2860, 'fever': 1664, 'dizziness': 1289, 'dry': 1369, 'relief': 3645, 'ii': 2189, 'agoraphobia': 101, 'iffy': 2185, 'wow': 4965, 'imagine': 2197, 'bliss': 450, 'closure': 755, 'fresh': 1776, 'discuss': 1249, 'delve': 1122, 'flee': 1703, 'acknowledge': 34, 'starting': 4176, 'delusional': 1121, 'film': 1673, 'carpet': 621, 'pee': 3174, 'urine': 4745, 'war': 4853, 'luck': 2662, 'straw': 4225, 'song': 4090, 'dance': 1052, 'isolating': 2398, 'surround': 4327, 'isolated': 2397, 'disappointing': 1231, 'grasp': 1942, 'fundamental': 1809, 'sufferer': 4283, 'unacceptable': 4656, 'gaping': 1837, 'lip': 2608, 'brutal': 535, 'honesty': 2103, 'error': 1512, 'blur': 460, 'email': 1438, 'nope': 2929, 'caller': 588, 'id': 2175, 'scam': 3817, 'overwhelmingly': 3079, 'odds': 2994, 'accidental': 21, 'borrow': 479, 'flirt': 1707, 'addiction': 53, 'suffers': 4285, 'international': 2343, 'profusely': 3415, 'unpaid': 4715, 'overlook': 3066, 'flood': 1712, 'stuck': 4244, 'compromise': 840, 'credit': 994, 'handout': 2002, 'observer': 2974, 'happily': 2010, 'native': 2863, 'grammar': 1929, 'harm': 2019, 'brief': 517, 'erection': 1507, 'science': 3834, 'destiny': 1165, 'horribly': 2120, 'rapist': 3544, 'circumstance': 717, 'ie': 2184, 'fog': 1726, 'jean': 2422, 'lash': 2526, 'cuz': 1039, 'pant': 3108, 'as': 223, 'overnight': 3068, 'yo': 4986, 'season': 3858, 'affair': 81, 'texts': 4436, 'noisy': 2921, 'feedback': 1655, 'dare': 1059, 'september': 3899, 'communicate': 811, 'prepaid': 3357, 'virgin': 4814, 'mobile': 2802, 'lawyer': 2539, 'comp': 816, 'sell': 3883, 'feb': 1650, 'differently': 1199, 'exclusive': 1569, 'format': 1748, 'swim': 4348, 'smoothly': 4044, 'temperature': 4406, 'finger': 1682, 'pierce': 3233, 'surface': 4317, 'scatter': 3823, 'surely': 4316, 'exit': 1578, 'greeting': 1951, 'gosh': 1911, 'model': 2807, 'platonic': 3266, 'rely': 3650, 'following': 1731, 'failure': 1621, 'ban': 329, 'length': 2573, 'mod': 2805, 'pleasure': 3275, 'decade': 1088, 'decent': 1090, 'extent': 1605, 'dis': 1221, 'compare': 819, 'fill': 1672, 'guilt': 1977, 'freeze': 1772, 'unfortunate': 4691, 'navigate': 2869, 'halfway': 1993, 'improvement': 2219, 'loyal': 2659, 'denver': 1130, 'colorado': 787, 'deserves': 1153, 'italian': 2401, 'style': 4256, 'loaded': 2620, 'gun': 1980, 'none': 2923, 'temporary': 4409, 'succeed': 4273, 'suspicion': 4335, 'warn': 4856, 'cake': 584, 'supermarket': 4303, 'uncontrollably': 4669, 'generous': 1862, 'considerate': 890, 'thanksgiving': 4442, 'pantry': 3109, 'prescription': 3364, 'bowl': 489, 'cereal': 649, 'milk': 2776, 'toilet': 4517, 'vague': 4763, 'entitle': 1490, 'immediate': 2200, 'rejection': 3632, 'propaganda': 3431, 'notable': 2936, 'political': 3296, 'disabled': 1224, 'speech': 4123, 'shoe': 3958, 'console': 895, 'revenge': 3729, 'ironic': 2384, 'radical': 3520, 'stepfather': 4193, 'imply': 2209, 'tiny': 4505, 'particular': 3130, 'campus': 596, 'roughly': 3765, 'protective': 3442, 'suspicious': 4336, 'strict': 4233, 'forest': 1742, 'automatically': 282, 'race': 3516, 'occasionally': 2986, 'roommate': 3760, 'hassle': 2025, 'standing': 4169, 'sight': 3984, 'blank': 441, 'spread': 4149, 'competition': 827, 'prize': 3394, 'twitter': 4637, 'insanely': 2292, 'perception': 3189, 'nov': 2945, 'previous': 3377, 'van': 4772, 'express': 1599, 'white': 4906, 'thinking': 4460, 'overweight': 3075, 'ugly': 4648, 'afterwards': 93, 'pattern': 3154, 'counseling': 959, 'arise': 212, 'ramble': 3530, 'violent': 4811, 'manipulation': 2693, 'india': 2250, 'engineer': 1474, 'stereotype': 4195, 'graduation': 1925, 'tough': 4542, 'revolve': 3733, 'asthma': 249, 'flare': 1696, 'trazodone': 4586, 'cure': 1024, 'meantime': 2727, 'path': 3149, 'fool': 1734, 'inspiration': 2305, 'listening': 2612, 'unexpectedly': 4688, 'dvd': 1381, 'kitchen': 2492, 'withdrawal': 4931, 'chart': 673, 'paroxetine': 3123, 'gp': 1916, 'wmu': 4936, 'psychology': 3463, 'assess': 237, 'preference': 3353, 'among': 150, 'variety': 4776, 'match': 2711, 'endangerment': 1464, 'server': 3907, 'necessity': 2878, 'socialize': 4063, 'nursing': 2958, 'steal': 4188, 'gist': 1885, 'playing': 3270, 'theft': 4444, 'auto': 281, 'robot': 3750, 'leadership': 2548, 'sheet': 3943, 'strangulation': 4223, 'protection': 3441, 'infuriated': 2275, 'cognitive': 774, 'scramble': 3842, 'illegal': 2191, 'so': 4056, 'hotline': 2136, 'solve': 4077, 'worthwhile': 4959, 'price': 3379, 'forth': 1751, 'concert': 851, 'curb': 1023, 'bumble': 553, 'laughing': 2536, 'spin': 4132, 'subscribe': 4264, 'disgustingly': 1255, 'proud': 3445, 'employ': 1452, 'minus': 2788, 'transit': 4570, 'pas': 3136, 'affordable': 88, 'fridge': 1779, 'witness': 4935, 'release': 3641, 'lame': 2515, 'trade': 4553, 'upon': 4736, 'gift': 1878, 'assist': 243, 'disclosure': 1239, 'active': 41, 'primarily': 3381, 'closer': 752, 'separately': 3896, 'owner': 3082, 'spoil': 4143, 'designer': 1155, 'makeup': 2683, 'membership': 2743, 'wasnt': 4861, 'alot': 128, 'folk': 1728, 'negativity': 2885, 'kindness': 2486, 'bond': 467, 'saving': 3812, 'reinforce': 3629, 'vividly': 4825, 'emphasize': 1451, 'strawberry': 4226, 'gauge': 1849, 'absolute': 7, 'confess': 862, 'female': 1662, 'print': 3384, 'donation': 1307, 'percentage': 3188, 'sale': 3791, 'nsfw': 2950, 'enthusiastic': 1487, 'roll': 3753, 'santa': 3800, 'orange': 3031, 'beach': 358, 'la': 2506, 'sd': 3855, 'san': 3796, 'special': 4116, 'theme': 4445, 'leaving': 2559, 'agitate': 99, 'hiding': 2073, 'wisdom': 4924, 'redditors': 3607, 'tuesday': 4617, 'od': 2992, 'combo': 794, 'efficient': 1414, 'discharge': 1236, 'chaos': 664, 'statement': 4181, 'formatting': 1749, 'incoherent': 2233, 'numb': 2953, 'unsure': 4724, 'weekly': 4881, 'urgency': 4742, 'anti': 170, 'pcp': 3166, 'regret': 3624, 'huh': 2149, 'wild': 4914, 'worm': 4951, 'pushover': 3496, 'reassure': 3575, 'dealer': 1079, 'gram': 1928, 'snapchat': 4047, 'brake': 500, 'jack': 2406, 'tool': 4527, 'touchy': 4541, 'documentary': 1297, 'amsterdam': 153, 'residence': 3692, 'rule': 3774, 'sertraline': 3904, 'friendship': 1783, 'awkwardness': 302, 'warning': 4857, 'recovery': 3600, 'storytelling': 4216, 'ultimate': 4651, 'curating': 1022, 'museum': 2844, 'exhibition': 1574, 'soul': 4101, 'unique': 4701, 'creative': 992, 'brave': 502, 'collective': 783, 'harmless': 2021, 'incest': 2228, 'repercussion': 3667, 'perfectly': 3191, 'incompatibility': 2236, 'passive': 3141, 'peg': 3176, 'salary': 3790, 'market': 2702, 'antidepressant': 173, 'bottle': 484, 'pocket': 3285, 'coworker': 976, 'red': 3603, 'meltdown': 2741, 'driver': 1356, 'kyle': 2505, 'christ': 708, 'jam': 2408, 'james': 2409, 'development': 1176, 'thankfully': 4440, 'optimistic': 3028, 'outlook': 3052, 'province': 3449, 'appreciated': 201, 'wishlist': 4928, 'fulfill': 1801, 'winner': 4920, 'announce': 162, 'verification': 4790, 'outline': 3051, 'original': 3041, 'separation': 3897, 'image': 2195, 'terrified': 4423, 'psych': 3455, 'typical': 4642, 'breakdown': 506, 'unleash': 4707, 'pent': 3183, 'detach': 1169, 'art': 220, 'funding': 1810, 'thrift': 4475, 'brand': 501, 'transmission': 4574, 'extensive': 1604, 'martial': 2707, 'adrenalized': 72, 'vulnerability': 4837, 'physiologically': 3228, 'hypervigilance': 2170, 'oppose': 3026, 'aspect': 232, 'growl': 1966, 'row': 3769, 'clone': 747, 'jane': 2412, 'minimize': 2785, 'threat': 4470, 'nauseous': 2868, 'nausea': 2867, 'burp': 563, 'crumble': 1011, 'shell': 3945, 'capable': 609, 'knew': 2496, 'claw': 729, 'skull': 4015, 'ungrateful': 4693, 'prick': 3380, 'dealt': 1080, 'method': 2757, 'organized': 3039, 'compatible': 823, 'cuddle': 1017, 'default': 1100, 'bare': 335, 'starve': 4178, 'cent': 645, 'casual': 629, 'ddlg': 1072, 'sneak': 4050, 'intimacy': 2352, 'interesting': 2338, 'uk': 4650, 'scheme': 3828, 'commonly': 810, 'guarantee': 1971, 'intimidation': 2356, 'voicemail': 4830, 'document': 1296, 'collect': 781, 'copy': 939, 'narcissistic': 2859, 'tenant': 4413, 'setup': 3913, 'netflix': 2896, 'lazy': 2542, 'silence': 3991, 'rummage': 3777, 'escalate': 1513, 'louder': 2649, 'nevermind': 2902, 'drown': 1361, 'asap': 224, 'gentleman': 1866, 'coddle': 769, 'pissed': 3245, 'fruit': 1790, 'cap': 608, 'dunno': 1377, 'explore': 1596, 'inadequacy': 2222, 'interpret': 2346, 'transference': 4568, 'addendum': 51, 'refusal': 3618, 'false': 1628, 'saturday': 3808, 'bay': 355, 'kim': 2480, 'festival': 1663, 'reward': 3734, 'score': 3839, 'donna': 1308, 'importantly': 2212, 'tap': 4375, 'alright': 131, 'babysit': 305, 'proceeds': 3402, 'wind': 4917, 'partial': 3125, 'hospitalization': 2128, 'judgemental': 2452, 'portion': 3310, 'ash': 226, 'harsh': 2023, 'specify': 4121, 'revise': 3732, 'denial': 1127, 'familiar': 1630, 'delicate': 1118, 'flower': 1717, 'frankly': 1762, 'reasonable': 3572, 'dig': 1203, 'climb': 739, 'costly': 952, 'loved': 2654, 'bc': 356, 'target': 4378, 'failed': 1620, 'strictly': 4234, 'unconscious': 4667, 'choke': 704, 'bang': 331, 'downstairs': 1325, 'neighbour': 2889, 'mock': 2804, 'inch': 2229, 'spam': 4108, 'sane': 3798, 'deplete': 1138, 'vega': 4780, 'pa': 3084, 'yoga': 4987, 'understandable': 4676, 'rational': 3552, 'coach': 764, 'behave': 378, 'creativity': 993, 'freelance': 1770, 'crash': 985, 'restart': 3708, 'draft': 1334, 'stupidly': 4255, 'phoenix': 3222, 'sue': 4281, 'john': 2438, 'clinic': 742, 'glance': 1889, 'flirting': 1709, 'strongly': 4240, 'eachother': 1389, 'patience': 3151, 'south': 4106, 'florida': 1715, 'ohio': 3007, 'decrease': 1094, 'unexpected': 4687, 'west': 4890, 'coast': 765, 'berate': 396, 'belonging': 387, 'arrange': 216, 'furnish': 1817, 'anonymously': 167, 'coping': 938, 'upcoming': 4733, 'turbulent': 4622, 'occurrence': 2989, 'bug': 544, 'flea': 1702, 'cripple': 1001, 'coming': 800, 'solo': 4075, 'da': 1044, 'plea': 3271, 'digress': 1208, 'hint': 2080, 'loop': 2639, 'gladly': 1888, 'society': 4065, 'nation': 2861, 'reflect': 3614, 'schizophrenia': 3830, 'atm': 254, 'afterlife': 90, 'existence': 1576, 'bizarre': 433, 'obsess': 2975, 'gratitude': 1946, 'wise': 4925, 'peaceful': 3168, 'bless': 447, 'planet': 3256, 'subway': 4272, 'daylight': 1069, 'ta': 4361, 'thrown': 4483, 'irritable': 2391, 'tape': 4376, 'liar': 2583, 'provoke': 3450, 'drinking': 1353, 'dreamt': 1348, 'wail': 4840, 'aisle': 110, 'plane': 3255, 'responder': 3703, 'tower': 4546, 'immense': 2202, 'writing': 4972, 'fist': 1689, 'arrest': 218, 'district': 1282, 'tremendously': 4593, 'divorce': 1288, 'alimony': 119, 'backpack': 311, 'passport': 3142, 'notebook': 2938, 'agreement': 103, 'diego': 1195, 'instant': 2312, 'teenage': 4399, 'shy': 3977, 'loudly': 2650, 'impress': 2216, 'curl': 1028, 'recognise': 3589, 'opinion': 3024, 'blessing': 448, 'flag': 1695, 'mate': 2712, 'beer': 370, 'prob': 3395, 'doe': 1298, 'phrase': 3225, 'naturally': 2865, 'infuriate': 2274, 'character': 667, 'painter': 3096, 'invasion': 2367, 'retrieve': 3723, 'surrender': 4326, 'peacefully': 3169, 'ransack': 3539, 'instantly': 2313, 'core': 941, 'principle': 3383, 'highly': 2076, 'accommodate': 23, 'disturb': 1283, 'disturbing': 1284, 'shadow': 3928, 'hallucination': 1997, 'burden': 558, 'tho': 4463, 'qualification': 3499, 'remark': 3652, 'happens': 2009, 'falsely': 1629, 'autopilot': 283, 'fade': 1618, 'desperate': 1159, 'suffocate': 4288, 'panicky': 3107, 'preserve': 3367, 'lesson': 2578, 'down': 1321, 'eating': 1400, 'habit': 1986, 'purge': 3487, 'manipulative': 2694, 'torment': 4533, 'bash': 342, 'wood': 4942, 'splinter': 4139, 'shed': 3941, 'petrify': 3214, 'shop': 3962, 'attendant': 261, 'army': 214, 'significant': 3988, 'friday': 1778, 'hurricane': 2160, 'florence': 1714, 'consist': 892, 'extend': 1601, 'displace': 1264, 'disaster': 1235, 'beloved': 388, 'april': 207, 'reinstate': 3630, 'addition': 54, 'mail': 2675, 'whatnot': 4893, 'speaking': 4115, 'incapable': 2226, 'thrive': 4477, 'engine': 1473, 'yard': 4977, 'calorie': 591, 'weigh': 4882, 'scale': 3816, 'budge': 542, 'doesnt': 1300, 'terribly': 4422, 'cps': 978, 'investigation': 2370, 'entertain': 1486, 'bland': 440, 'boring': 478, 'loser': 2645, 'magically': 2674, 'conscious': 883, 'loose': 2640, 'uncertainty': 4663, 'breakfast': 507, 'nbsp': 2871, 'novel': 2946, 'epic': 1497, 'segment': 3877, 'corrine': 949, 'suggested': 4291, 'foe': 1725, 'ticket': 4491, 'bpd': 495, 'clock': 745, 'tick': 4490, 'grace': 1920, 'nail': 2851, 'blown': 457, 'glimpse': 1893, 'sole': 4072, 'custody': 1035, 'unbeknownst': 4661, 'shopping': 3963, 'confusing': 876, 'lily': 2600, 'verge': 4789, 'negatively': 2884, 'symptomatic': 4358, 'protest': 3443, 'sham': 3934, 'organization': 3037, 'representative': 3675, 'director': 1219, 'retire': 3719, 'amazingly': 144, 'essential': 1519, 'exaggeration': 1555, 'inspire': 2307, 'legitimate': 2568, 'setting': 3911, 'grammer': 1930, 'soo': 4091, 'earth': 1394, 'sky': 4016, 'strive': 4237, 'hearing': 2042, 'log': 2628, 'understaffed': 4674, 'sclerosis': 3837, 'progressive': 3419, 'nerve': 2892, 'spinal': 4133, 'cord': 940, 'numbness': 2955, 'admire': 62, 'dirty': 1220, 'closed': 750, 'dignity': 1207, 'inhale': 2277, 'atlanta': 252, 'georgia': 1871, 'discussion': 1250, 'sob': 4059, 'normalcy': 2931, 'grandad': 1932, 'nan': 2856, 'verbalize': 4786, 'counselling': 960, 'gigantic': 1880, 'exclude': 1568, 'cruel': 1009, 'elementary': 1431, 'bullying': 552, 'cuss': 1034, 'traditional': 4554, 'whisper': 4905, 'continued': 913, 'fluctuate': 1719, 'relieve': 3646, 'gotten': 1913, 'tom': 4521, 'nap': 2857, 'shaking': 3931, 'gently': 1867, 'reckless': 3588, 'impulsive': 2220, 'extended': 1602, 'adolescent': 66, 'initial': 2278, 'dynamic': 1385, 'properly': 3433, 'solid': 4074, 'lightheaded': 2596, 'sweaty': 4342, 'vomit': 4833, 'highway': 2078, 'intubate': 2364, 'lift': 2592, 'assaulter': 236, 'fate': 1641, 'perspective': 3208, 'disappointment': 1232, 'fixed': 1694, 'heater': 2049, 'downhill': 1322, 'lessen': 2577, 'building': 546, 'elsewhere': 1436, 'unprepared': 4717, 'material': 2713, 'sociopath': 4066, 'whoever': 4907, 'color': 786, 'opposite': 3027, 'clingy': 741, 'exhibit': 1573, 'unpleasant': 4716, 'household': 2140, 'warrant': 4858, 'bust': 570, 'attract': 266, 'vice': 4799, 'versa': 4792, 'skype': 4017, 'nyc': 2962, 'jan': 2411, 'knee': 2495, 'swallow': 4338, 'chronically': 712, 'inseparable': 2297, 'drift': 1350, 'scientific': 3835, 'prevent': 3374, 'wtf': 4974, 'bonus': 469, 'compensation': 825, 'agency': 95, 'hysterical': 2172, 'therefore': 4452, 'jason': 2417, 'tongue': 4525, 'turmoil': 4624, 'bridge': 516, 'kindly': 2485, 'corner': 944, 'garbage': 1839, 'vocalize': 4827, 'pleasantly': 3273, 'recieved': 3585, 'verbal': 4785, 'backlash': 310, 'radio': 3522, 'utter': 4757, 'workbook': 4945, 'retirement': 3721, 'gather': 1848, 'phobia': 3221, 'inept': 2256, 'contribution': 921, 'compliment': 837, 'valentine': 4765, 'uh': 4649, 'smith': 4042, 'prioritize': 3386, 'plant': 3259, 'integrity': 2323, 'election': 1426, 'player': 3268, 'unaware': 4659, 'moody': 2823, 'river': 3746, 'rapid': 3543, 'pinpoint': 3240, 'secondly': 3864, 'consciously': 884, 'toothbrush': 4529, 'toothpaste': 4530, 'can': 597, 'trash': 4579, 'machine': 2671, 'beside': 397, 'vacuum': 4761, 'disappear': 1227, 'rebel': 3577, 'inconsistent': 2238, 'worthless': 4958, 'surprised': 4322, 'le': 2545, 'garage': 1838, 'sofa': 4069, 'fifteen': 1668, 'stepdad': 4192, 'massage': 2708, 'naked': 2853, 'usual': 4754, 'slump': 4033, 'uninterested': 4700, 'dizzy': 1290, 'desperation': 1161, 'pysch': 3498, 'clinical': 743, 'lyme': 2670, 'changing': 662, 'ssri': 4154, 'secret': 3865, 'expose': 1597, 'learning': 2553, 'module': 2811, 'fantasy': 1636, 'atleast': 253, 'attachment': 257, 'reconnect': 3596, 'isolate': 2396, 'alternative': 136, 'angrily': 157, 'blanket': 442, 'heated': 2048, 'inanimate': 2224, 'slam': 4018, 'toronto': 4535, 'identity': 2180, 'stalk': 4163, 'honour': 2106, 'surgeon': 4319, 'influx': 2269, 'shade': 3927, 'hollow': 2091, 'brush': 534, 'bygone': 576, 'objectively': 2967, 'mitigate': 2799, 'pre': 3341, 'diarrhea': 1188, 'erratic': 1511, 'psychologist': 3462, 'linda': 2603, 'unattractive': 4657, 'stiff': 4199, 'reputation': 3680, 'thru': 4484, 'texting': 4435, 'diary': 1189, 'candidate': 602, 'league': 2549, 'palpitation': 3101, 'involved': 2377, 'frightening': 1786, 'infant': 2261, 'anna': 160, 'ifs': 2186, 'inconvenience': 2239, 'becomes': 366, 'culture': 1020, 'compete': 826, 'endless': 1465, 'needless': 2882, 'nonsense': 2926, 'harass': 2013, 'weakness': 4868, 'elephant': 1432, 'whereas': 4899, 'sweep': 4344, 'rug': 3772, 'ginger': 1882, 'terrifying': 4425, 'aka': 111, 'lend': 2571, 'intuition': 2365, 'everybody': 1539, 'competitive': 828, 'swimming': 4349, 'overwhelm': 3076, 'traffic': 4555, 'secretary': 3866, 'confidential': 866, 'charity': 670, 'forum': 1753, 'dundee': 1376, 'scotland': 3840, 'centre': 648, 'spider': 4130, 'insect': 2294, 'moral': 2825, 'dv': 1380, 'hero': 2065, 'condom': 859, 'satisfy': 3807, 'penis': 3180, 'thrust': 4485, 'jealous': 2420, 'requirement': 3684, 'posting': 3321, 'interviewer': 2351, 'egg': 1417, 'melt': 2740, 'troubled': 4605, 'damaging': 1050, 'subtle': 4270, 'mistreat': 2798, 'admittedly': 64, 'intention': 2330, 'hangout': 2005, 'judgment': 2453, 'analyze': 154, 'corporate': 946, 'consistent': 893, 'whilst': 4903, 'limited': 2602, 'challenge': 657, 'hostility': 2133, 'resume': 3716, 'channel': 663, 'cult': 1019, 'recognition': 3590, 'behalf': 377, 'laney': 2519, 'deteriorate': 1172, 'stroke': 4238, 'compensate': 824, 'inadequate': 2223, 'terminal': 4420, 'mountain': 2833, 'onset': 3017, 'horrific': 2122, 'shove': 3970, 'broom': 526, 'shelf': 3944, 'paste': 3146, 'roller': 3754, 'coaster': 766, 'affinity': 86, 'chlordiazepoxide': 701, 'tetrazepam': 4430, 'moderate': 2808, 'tweet': 4630, 'popular': 3304, 'prohibit': 3420, 'torn': 4534, 'leash': 2555, 'database': 1063, 'realistically': 3566, 'lisa': 2609, 'inner': 2286, 'convey': 928, 'contract': 916, 'gig': 1879, 'cafe': 581, 'dispute': 1266, 'iso': 2395, 'unit': 4702, 'overseas': 3071, 'generosity': 1861, 'poster': 3320, 'establish': 1521, 'beauty': 364, 'sar': 3801, 'dave': 1067, 'newly': 2905, 'con': 844, 'etiquette': 1527, 'accomplishment': 26, 'receipt': 3579, 'psychotherapy': 3466, 'dbt': 1070, 'scientist': 3836, 'neurological': 2900, 'seizure': 3878, 'healing': 2037, 'equip': 1502, 'got': 1912, 'christian': 709, 'resident': 3694, 'oaxaca': 2963, 'taxi': 4385, 'humor': 2155, 'gorgeous': 1909, 'highschool': 2077, 'trump': 4610, 'soooo': 4094, 'american': 149, 'annoyed': 164, 'baffle': 320, 'tactic': 4367, 'reconcile': 3595, 'wine': 4919, 'furious': 1816, 'stressed': 4230, 'paralyze': 3114, 'incompetent': 2237, 'gtfo': 1970, 'patch': 3147, 'clip': 744, 'phd': 3218, 'bachelor': 307, 'professor': 3411, 'brace': 496, 'joy': 2449, 'charming': 672, 'shoot': 3959, 'graft': 1926, 'battle': 353, 'latter': 2533, 'granddaughter': 1933, 'downvotes': 1327, 'challenging': 659, 'ring': 3741, 'thrill': 4476, 'relive': 3648, 'compassionate': 822, 'normalize': 2932, 'conclude': 852, 'goofy': 1905, 'spark': 4112, 'tried': 4598, 'belt': 389, 'tbh': 4387, 'delivery': 1120, 'hysterically': 2173, 'mirror': 2791, 'reflection': 3615, 'certainty': 652, 'meaningful': 2725, 'chapter': 666, 'ontario': 3018, 'hesitate': 2069, 'digest': 1204, 'hallway': 1998, 'firefighter': 1685, 'outcome': 3047, 'excessively': 1563, 'outgrow': 3049, 'bait': 324, 'deodorant': 1132, 'unbearable': 4660, 'prosecutor': 3437, 'refer': 3612, 'dismiss': 1259, 'friendly': 1781, 'aswell': 250, 'asd': 225, 'aspergers': 233, 'wander': 4851, 'oil': 3008, 'pipe': 3242, 'electricity': 1428, 'unprofessional': 4718, 'convenient': 926, 'passing': 3138, 'heel': 2055, 'sulk': 4297, 'dozen': 1330, 'equate': 1501, 'grief': 1953, 'chile': 697, 'eternally': 1526, 'intrusive': 2363, 'infinite': 2265, 'unlike': 4709, 'context': 910, 'funk': 1814, 'sometime': 4085, 'retail': 3717, 'promising': 3425, 'combine': 793, 'indian': 2251, 'ad': 46, 'portray': 3311, 'dominate': 1304, 'manipulate': 2692, 'benzos': 395, 'obsessive': 2978, 'thus': 4488, 'monetary': 2816, 'immensely': 2203, 'define': 1106, 'heaven': 2051, 'align': 118, 'tremendous': 4592, 'bathe': 350, 'bible': 409, 'disregard': 1267, 'validity': 4767, 'seperate': 3898, 'violently': 4812, 'arrangement': 217, 'fb': 1646, 'discord': 1243, 'suitable': 4296, 'glare': 1890, 'imaginable': 2196, 'snack': 4045, 'basket': 346, 'frantically': 1763, 'groggy': 1958, 'autism': 279, 'borderline': 476, 'trait': 4563, 'purr': 3492, 'leasing': 2556, 'tuck': 4616, 'impression': 2217, 'beginner': 375, 'unguided': 4694, 'attentive': 263, 'overdrive': 3062, 'heck': 2054, 'devote': 1181, 'chase': 674, 'marker': 2701, 'pointless': 3289, 'sacrifice': 3782, 'comfortably': 798, 'importance': 2210, 'pseudo': 3454, 'workplace': 4949, 'wheelchair': 4897, 'stair': 4162, 'prolong': 3422, 'hyper': 2167, 'hypochondriac': 2171, 'haircut': 1991, 'darkness': 1061, 'institution': 2316, 'interrupt': 2347, 'obligation': 2969, 'performance': 3193, 'treadmill': 4587, 'fan': 1632, 'gasping': 1845, 'embarrassed': 1440, 'pitch': 3247, 'reduce': 3609, 'notify': 2943, 'strength': 4228, 'midterm': 2766, 'disappoint': 1229, 'vary': 4778, 'faint': 1622, 'closing': 754, 'master': 2710, 'textbook': 4433, 'sketchy': 4009, 'dp': 1331, 'ebt': 1401, 'penniless': 3181, 'prepare': 3359, 'temple': 4407, 'overthinking': 3073, 'prescribed': 3363, 'boat': 462, 'crappy': 984, 'clerk': 736, 'dept': 1146, 'organic': 3036, 'valuable': 4770, 'backyard': 316, 'disable': 1223, 'originally': 3042, 'belong': 386, 'economically': 1402, 'round': 3766, 'undertake': 4680, 'delay': 1114, 'restriction': 3713, 'repress': 3676, 'migraine': 2769, 'jnmil': 2433, 'spelling': 4126, 'plastic': 3261, 'construction': 900, 'technology': 4397, 'smell': 4040, 'entrepreneur': 1492, 'track': 4551, 'cbd': 638, 'alaska': 112, 'bunny': 557, 'stomp': 4208, 'sincerely': 3999, 'diminish': 1211, 'licence': 2587, 'suspend': 4334, 'unemployment': 4685, 'sheriff': 3947, 'storage': 4212, 'valley': 4769, 'los': 2643, 'intimidate': 2355, 'walmart': 4849, 'irl': 2382, 'gore': 1908, 'trivial': 4602, 'snore': 4053, 'dementia': 1124, 'dosage': 1315, 'sun': 4300, 'lake': 2514, 'virus': 4817, 'chinese': 699, 'tumor': 4620, 'canada': 598, 'green': 1950, 'border': 475, 'privilege': 3393, 'thesis': 4454, 'irritability': 2390, 'concentration': 847, 'inability': 2221, 'mixed': 2801, 'ehlers': 1419, 'danlos': 1058, 'assign': 241, 'graphic': 1941, 'worsen': 4956, 'movement': 2836, 'digestive': 1205, 'flu': 1718, 'iron': 2383, 'platitude': 3265, 'fraud': 1764, 'mute': 2847, 'sympathetic': 4354, 'cw': 1041, 'translate': 4572, 'anonymity': 165, 'charm': 671, 'vindictive': 4806, 'crippling': 1002, 'inappropriate': 2225, 'informed': 2273, 'village': 4805, 'purse': 3493, 'continually': 911, 'manifest': 2691, 'stability': 4156, 'politics': 3297, 'morbid': 2826, 'exact': 1552, 'jong': 2444, 'un': 4654, 'rare': 3545, 'donald': 1305, 'enrol': 1482, 'disagreement': 1226, 'temp': 4404, 'covenant': 974, 'recharge': 3584, 'electronics': 1429, 'noone': 2928, 'password': 3143, 'spectrum': 4122, 'hurting': 2163, 'logged': 2629, 'sufficient': 4287, 'indicate': 2252, 'jab': 2405, 'citizen': 719, 'harry': 2022, 'upbringing': 4732, 'bfs': 407, 'goddamn': 1898, 'sanity': 3799, 'heartbroken': 2046, 'prediction': 3349, 'hopping': 2116, 'hostel': 2131, 'holy': 2092, 'clue': 761, 'nonetheless': 2924, 'gps': 1918, 'okcupid': 3011, 'profile': 3412, 'obsessively': 2979, 'psychotic': 3467, 'instruction': 2317, 'mini': 2783, 'postpone': 3322, 'thief': 4456, 'tent': 4418, 'attractive': 268, 'boss': 481, 'reference': 3613, 'buspar': 569, 'temporarily': 4408, 'violation': 4809, 'inflict': 2267, 'effectively': 1412, 'dissociative': 1273, 'impossible': 2214, 'feasible': 1649, 'shatter': 3940, 'psychopath': 3464, 'younger': 4990, 'sigh': 3983, 'dweller': 1383, 'harassment': 2014, 'digital': 1206, 'hundred': 2156, 'presentation': 3366, 'trailer': 4559, 'banging': 332, 'kitten': 2493, 'soothe': 4095, 'industry': 2255, 'overlap': 3065, 'pry': 3453, 'poorly': 3302, 'sensual': 3892, 'chem': 687, 'weary': 4871, 'overdoses': 3059, 'safely': 3787, 'involuntarily': 2374, 'adolescence': 65, 'offend': 2995, 'tempt': 4410, 'timing': 4503, 'transgender': 4569, 'transition': 4571, 'din': 1212, 'hall': 1994, 'subside': 4267, 'breadwinner': 504, 'vivid': 4824, 'dessert': 1163, 'embrace': 1444, 'philosophy': 3220, 'booze': 474, 'cohort': 775, 'ran': 3535, 'rn': 3747, 'sympathize': 4355, 'counter': 965, 'dish': 1256, 'trich': 4596, 'apt': 208, 'frustrated': 1792, 'agenda': 96, 'inevitable': 2257, 'monster': 2819, 'infection': 2262, 'urinary': 4744, 'dedicate': 1095, 'inferior': 2263, 'pilot': 3237, 'numerous': 2956, 'soulmates': 4102, 'complicated': 835, 'condo': 858, 'devil': 1179, 'blah': 438, 'snatch': 4049, 'parental': 3119, 'nudge': 2952, 'foundation': 1756, 'fundraising': 1812, 'tuition': 4618, 'deaf': 1077, 'haha': 1988, 'chain': 654, 'reserve': 3690, 'participation': 3129, 'smartphone': 4038, 'detailed': 1171, 'description': 1151, 'deliver': 1119, 'journaling': 2447, 'pledge': 3276, 'drum': 1365, 'corp': 945, 'audition': 273, 'deactivate': 1073, 'sticky': 4198, 'rumor': 3778, 'ya': 4976, 'outlet': 3050, 'nametag': 2855, 'tolerate': 4519, 'livid': 2617, 'tag': 4368, 'toe': 4515, 'guidance': 1975, 'snip': 4052, 'chicago': 692, 'visa': 4818, 'twist': 4634, 'ppl': 3333, 'challenged': 658, 'philadelphia': 3219, 'fortunately': 1752, 'client': 738, 'replying': 3672, 'affiliation': 85, 'countdown': 964, 'disorganize': 1262, 'organize': 3038, 'sarcoma': 3803, 'pending': 3179, 'diffuse': 1202, 'microwave': 2762, 'painless': 3094, 'cheese': 686, 'splurge': 4141, 'locate': 2623, 'plot': 3279, 'insulin': 2320, 'indefinitely': 2246, 'distraction': 1278, 'ecstatic': 1404, 'cruise': 1010, 'wifi': 4913, 'ship': 3952, 'supposedly': 4312, 'browse': 529, 'dh': 1182, 'unreasonable': 4719, 'encouragement': 1461, 'chatter': 677, 'trick': 4597, 'criticize': 1005, 'plasma': 3260, 'carefree': 616, 'band': 330, 'journal': 2446, 'translation': 4573, 'february': 1651, 'clark': 725, 'redding': 3604, 'pace': 3085, 'asset': 239, 'depth': 1147, 'siddur': 3981, 'cooking': 932, 'chicken': 693, 'adapt': 48, 'cocaine': 768, 'usa': 4747, 'voluntary': 4831, 'infidelity': 2264, 'aspire': 234, 'resistant': 3696, 'washington': 4860, 'introvert': 2361, 'rash': 3547, 'clothing': 758, 'dissociate': 1271, 'benzo': 394, 'required': 3683, 'supervised': 4304, 'visitation': 4823, 'curve': 1032, 'tantrum': 4374, 'problematic': 3399, 'mdma': 2721, 'spray': 4148, 'product': 3408, 'hocd': 2087, 'beforehand': 371, 'genuineness': 1870, 'interfere': 2339, 'classroom': 728, 'classmate': 727, 'moderation': 2809, 'heartbreaking': 2045, 'wellness': 4889, 'consumer': 904, 'prospect': 3438, 'viable': 4797, 'trend': 4594, 'dice': 1190, 'tattoo': 4381, 'trek': 4591, 'insecurity': 2296, 'grape': 1940, 'juice': 2455, 'drowning': 1362, 'embarrassing': 1441, 'afternoon': 91, 'companion': 817, 'crave': 986, 'soak': 4057, 'accommodation': 24, 'reset': 3691, 'button': 574, 'stoop': 4210, 'recommend': 3593, 'biology': 423, 'math': 2714, 'overdraft': 3060, 'script': 3852, 'cautious': 637, 'labor': 2509, 'intentionally': 2332, 'knight': 2498, 'shin': 3950, 'promotion': 3427, 'telling': 4403, 'shameful': 3936, 'nuts': 2960, 'magazine': 2673, 'chair': 655, 'salvation': 3794, 'drove': 1360, 'population': 3305, 'apple': 196, 'evolve': 1549, 'sharp': 3939, 'ppd': 3332, 'hospitalize': 2129, 'orgasm': 3040, 'reduction': 3610, 'seattle': 3860, 'recall': 3578, 'errand': 1510, 'hurdle': 2159, 'overdue': 3063, 'assessment': 238, 'taunt': 4383, 'deposit': 1139, 'obtain': 2981, 'gpa': 1917, 'hill': 2079, 'beneath': 391, 'undergrad': 4672, 'budget': 543, 'sexuality': 3923, 'root': 3761, 'invasive': 2368, 'disclaimer': 1237, 'gaslighted': 1843, 'trazadone': 4585, 'pharma': 3216, 'kansa': 2465, 'columbus': 789, 'afterward': 92, 'testify': 4429, 'justine': 2464, 'bore': 477, 'heroin': 2066, 'overdose': 3058, 'overtly': 3074, 'purple': 3488, 'underwear': 4681, 'dying': 1384, 'equipment': 1503, 'forbid': 1737, 'clarify': 723, 'reasonably': 3573, 'calmly': 590, 'vocabulary': 4826, 'dissatisfaction': 1269, 'comprehend': 839, 'expression': 1600, 'conservative': 888, 'outsider': 3054, 'thursday': 4487, 'reassurance': 3574, 'existent': 1577, 'alter': 134, 'keen': 2470, 'insert': 2298, 'bootsy': 473, 'ultrasound': 4653, 'french': 1773, 'kayak': 2469, 'drs': 1363, 'bruising': 532, 'raid': 3526, 'porn': 3307, 'moon': 2824, 'spirit': 4136, 'fundraiser': 1811, 'legacy': 2564, 'joe': 2436, 'janet': 2413, 'prayer': 3340, 'pallbearer': 3100, 'inlaws': 2284, 'hack': 1987, 'trail': 4558, 'bastard': 347, 'em': 1437, 'unbelievable': 4662, 'await': 292, 'procrastinate': 3406, 'depressing': 1142, 'friends': 1782, 'stunt': 4253, 'paramedic': 3115, 'toll': 4520, 'anniversary': 161, 'misery': 2795, 'stash': 4179, 'kit': 2491, 'dick': 1191, 'connected': 880, 'beacause': 357, 'objective': 2966, 'preferably': 3352, 'sweden': 4343, 'mindfulness': 2780, 'acceptance': 18, 'jimmy': 2431, 'scottish': 3841, 'giant': 1877, 'steady': 4186, 'gamer': 1833, 'cognition': 773, 'pregabalin': 3354, 'portfolio': 3309, 'experienced': 1585, 'iphone': 2380, 'insanity': 2293, 'dime': 1210, 'unusually': 4728, 'practical': 3334, 'obsessed': 2976, 'dehydrate': 1111, 'pump': 3476, 'drawn': 1345, 'enormous': 1479, 'downplay': 1324, 'undiagnosed': 4682, 'structure': 4241, 'bundle': 556, 'propose': 3436, 'contradict': 918, 'whine': 4904, 'concrete': 854, 'poke': 3291, 'apps': 206, 'rehabilitation': 3628, 'sally': 3792, 'debate': 1084, 'inspirational': 2306, 'dedication': 1096, 'canadian': 599, 'fondle': 1732, 'captain': 611, 'pause': 3156, 'unhelpful': 4697, 'antibiotic': 171, 'confined': 868, 'prolonged': 3423, 'pretending': 3372, 'section': 3869, 'there': 4450, 'congrats': 878, 'immaturity': 2199, 'bff': 406, 'wed': 4875, 'instalment': 2310, 'gambling': 1831, 'continuously': 915, 'precise': 3348, 'purchasing': 3484, 'author': 277, 'dearly': 1082, 'adamant': 47, 'england': 1476, 'achieve': 33, 'somatic': 4078, 'clarity': 724, 'bread': 503, 'hourly': 2138, 'delegate': 1115, 'cashier': 627, 'bakery': 326, 'confusion': 877, 'drank': 1340, 'oftentimes': 3005, 'caregiver': 619, 'fold': 1727, 'daniel': 1057, 'hatchet': 2027, 'follower': 1730, 'plain': 3253, 'swell': 4347, 'notification': 2942, 'romantically': 3756, 'withdraw': 4930, 'polyamorous': 3298, 'bisexual': 427, 'jealousy': 2421, 'homosexual': 2100, 'leak': 2550, 'bin': 417, 'doctorate': 1295, 'capacity': 610, 'puncture': 3479, 'inmate': 2285, 'involvement': 2378, 'confidentiality': 867, 'intervention': 2349, 'curiosity': 1026, 'brag': 497, 'cling': 740, 'planning': 3258, 'trace': 4550, 'intentional': 2331, 'burdensome': 559, 'unintentionally': 4699, 'sarcastically': 3802, 'ssdi': 4153, 'dec': 1087, 'protocol': 3444, 'angel': 155, 'comforter': 799, 'programming': 3417, 'controversial': 924, 'chore': 707, 'backup': 314, 'eternal': 1525, 'shady': 3929, 'matt': 2715, 'thousand': 4468, 'painting': 3097, 'poverty': 3329, 'racing': 3517, 'infinitely': 2266, 'reverse': 3730, 'downward': 1328, 'shrug': 3975, 'ordeal': 3032, 'independently': 2249, 'absent': 6, 'promote': 3426, 'sil': 3990, 'lifting': 2593, 'pine': 3239, 'kissing': 2490, 'refuge': 3616, 'irrelevant': 2388, 'hotel': 2135, 'sent': 3893, 'tickling': 4493, 'route': 3767, 'recollection': 3592, 'knowing': 2502, 'alert': 117, 'nevertheless': 2903, 'submission': 4260, 'conference': 861, 'reputable': 3679, 'publication': 3471, 'simplify': 3996, 'diagnosed': 1185, 'eva': 1530, 'web': 4873, 'specially': 4118, 'dpdr': 1332, 'shiny': 3951, 'surreal': 4325, 'dandy': 1054, 'bedroll': 368, 'paperwork': 3111, 'rental': 3661, 'harmful': 2020, 'horrify': 2123, 'knot': 2500, 'pic': 3229, 'generate': 1858, 'theory': 4447, 'generic': 1860, 'eve': 1532, 'flow': 1716, 'refund': 3617, 'penalty': 3178, 'airbnb': 108, 'checking': 682, 'csf': 1016, 'pressing': 3369, 'downwards': 1329, 'specialist': 4117, 'goin': 1900, 'wellbutrin': 4888, 'nut': 2959, 'tyson': 4644, 'slot': 4030, 'bloody': 455, 'soup': 4104, 'bean': 359, 'corn': 943, 'chemo': 690, 'invalidate': 2366, 'gaslight': 1842, 'lecture': 2560, 'humanity': 2152, 'unlovable': 4713, 'immune': 2206, 'adjustment': 61, 'compulsion': 841, 'chatroom': 676, 'moderator': 2810, 'germany': 1872, 'ensure': 1484, 'erase': 1506, 'bitter': 432, 'rag': 3524, 'jog': 2437, 'snapchats': 4048, 'suit': 4295, 'football': 1736, 'cleaning': 732, 'az': 303, 'rinse': 3742, 'jesus': 2428, 'preach': 3342, 'curse': 1031, 'pity': 3248, 'surfing': 4318, 'catholic': 635, 'threatening': 4472, 'writer': 4971, 'puke': 3473, 'bet': 400, 'junk': 2461, 'intervene': 2348, 'proportion': 3435, 'surprising': 4323, 'reel': 3611, 'dysfunctional': 1387, 'relapse': 3633, 'conditioning': 857, 'ironically': 2385, 'hardcore': 2016, 'doug': 1320, 'excitement': 1567, 'activate': 40, 'inclined': 2231, 'houston': 2143, 'lightly': 2597, 'misdiagnosed': 2793, 'inpatient': 2289, 'fling': 1705, 'sensory': 3891, 'secretive': 3867, 'controlling': 923, 'internship': 2345, 'entry': 1493, 'undergo': 4671, 'embassy': 1443, 'functioning': 1807, 'tim': 4500, 'partly': 3132, 'pessimistic': 3210, 'technical': 4394, 'jessie': 2427, 'sassy': 3804, 'taught': 4382, 'experiment': 1586, 'backstory': 313, 'workout': 4948, 'pc': 3165, 'processor': 3405, 'upgrade': 4735, 'ram': 3529, 'avail': 284, 'overthink': 3072, 'unresolved': 4721, 'complaint': 830, 'flashlight': 1699, 'colder': 778, 'humane': 2151, 'coerce': 771, 'corridor': 948, 'bawl': 354, 'quietly': 3510, 'overflow': 3064, 'pulse': 3475, 'audacity': 270, 'loyalty': 2660, 'leech': 2561, 'disclose': 1238, 'whats': 4894, 'wednesday': 4877, 'provider': 3448, 'prompt': 3428, 'ordinary': 3034, 'dancer': 1053, 'dwell': 1382, 'multitude': 2840, 'severity': 3920, 'spit': 4137, 'hes': 2067, 'catastrophic': 632, 'bureaucracy': 560, 'trolling': 4603, 'sorta': 4100, 'baggage': 322, 'ensue': 1483, 'internalize': 2342, 'caseworker': 625, 'enemy': 1467, 'hyperventilation': 2169, 'shallow': 3933, 'tb': 4386, 'gastritis': 1846, 'recur': 3602, 'hiring': 2083, 'stumble': 4251, 'rv': 3781, 'intimately': 2354, 'colour': 788, 'backwards': 315, 'midwest': 2767, 'grumpy': 1969, 'laughable': 2535, 'plug': 3280, 'expired': 1589, 'olympia': 3013, 'underage': 4670, 'furthermore': 1819, 'csa': 1015, 'steak': 4187, 'upstairs': 4740, 'barge': 337, 'pamela': 3102, 'complication': 836, 'offline': 3003, 'preface': 3350, 'parenting': 3120, 'gender': 1854, 'dads': 1047, 'junior': 2460, 'precious': 3347, 'clay': 730, 'unethical': 4686, 'resist': 3695, 'stubborn': 4243, 'australia': 276, 'ged': 1853, 'planner': 3257, 'focused': 1724, 'rating': 3551, 'tour': 4543, 'irr': 2386, 'packet': 3088, 'dc': 1071, 'divide': 1287, 'jelly': 2424, 'speed': 4124, 'prevents': 3376, 'vast': 4779, 'alternator': 137, 'radiator': 3519, 'payday': 3162, 'venting': 4784, 'shouldnt': 3968, 'stuffy': 4250, 'enrage': 1481, 'pad': 3089, 'driveway': 1357, 'unload': 4711, 'prostitute': 3439, 'paul': 3155, 'element': 1430, 'kindle': 2484, 'revelation': 3728, 'cloud': 759, 'hail': 1989, 'braille': 498, 'stride': 4235, 'clueless': 762, 'suppress': 4313, 'grain': 1927, 'trough': 4606, 'introspection': 2360, 'raffle': 3523, 'squad': 4152, 'screwdriver': 3851, 'europe': 1529, 'dull': 1373, 'didnʻt': 1193, 'wouldnʻt': 4963, 'itʻs': 2403, 'noticeable': 2941, 'catchy': 634, 'ramp': 3533, 'immigrate': 2205, 'mere': 2749, 'sobbing': 4060, 'gallery': 1829, 'wishing': 4927, 'rampant': 3534, 'unusual': 4727, 'nicely': 2911, 'legally': 2567, 'envious': 1494, 'kate': 2467, 'jamie': 2410, 'punching': 3478, 'flirty': 1710, 'selective': 3880, 'gabapentin': 1825, 'drawback': 1343, 'hermit': 2064, 'iraq': 2381, 'periodically': 3196, 'disassociate': 1233, 'genuine': 1868, 'trans': 4565, 'blast': 443, 'spanish': 4110, 'rat': 3548, 'anticipatory': 172, 'economics': 1403, 'lsd': 2661, 'nilly': 2915, 'preparation': 3358, 'discus': 1248, 'gradually': 1923, 'kink': 2488, 'constriction': 899, 'powerful': 3331, 'impose': 2213, 'luggage': 2665, 'bulk': 548, 'tinder': 4504, 'confide': 863, 'saying': 3815, 'purposely': 3491, 'linger': 2606, 'grovel': 1964, 'derealization': 1148, 'giggle': 1881, 'liberal': 2584, 'sportsy': 4145, 'erode': 1509, 'mattress': 2717, 'lovable': 2652, 'gate': 1847, 'retaliate': 3718, 'defense': 1104, 'chemical': 688, 'tidy': 4494, 'helps': 2062, 'consistently': 894, 'disappearing': 1228, 'untill': 4725, 'jobless': 2435, 'chocolate': 702, 'jessica': 2426, 'broomhead': 527, 'messaging': 2753, 'expire': 1588, 'impound': 2215, 'vagina': 4762, 'bat': 348, 'soldier': 4071, 'tone': 4524, 'lapse': 2521, 'tragedy': 4556, 'fulfil': 1800, 'deja': 1113, 'schizoaffective': 3829, 'billing': 415, 'carefully': 618, 'effortlessly': 1416, 'grown': 1967, 'peak': 3170, 'disk': 1257, 'tulle': 4619, 'urgent': 4743, 'sexy': 3925, 'oral': 3030, 'intensely': 2328, 'vocational': 4828, 'lvn': 2669, 'tea': 4388, 'eddie': 1406, 'canʻt': 607, 'tyler': 4640, 'fish': 1688, 'overqualified': 3069, 'developmental': 1177, 'represent': 3674, 'polar': 3292, 'subtly': 4271, 'neti': 2897, 'conduct': 860, 'curfew': 1025, 'encouraging': 1462, 'fry': 1795, 'victimize': 4802, 'extroverted': 1609, 'introverted': 2362, 'closely': 751, 'enable': 1458, 'screenshot': 3848, 'spell': 4125, 'aggression': 97, 'rationalize': 3553, 'explicit': 1592, 'payback': 3160, 'precedent': 3346, 'float': 1711, 'disconnected': 1242, 'japan': 2415, 'pile': 3234, 'precarious': 3343, 'foreclose': 1740, 'mildly': 2773, 'ish': 2392, 'latch': 2529, 'legs': 2570, 'tenancy': 4412, 'estimate': 1523, 'america': 148, 'ac': 14, 'mortgage': 2828, 'seventh': 3916, 'trimester': 4600, 'screenshots': 3849, 'costume': 953, 'confirmation': 870, 'continuous': 914, 'concentrated': 846, 'japanese': 2416, 'youth': 4991, 'cricket': 997, 'inducing': 2254, 'processing': 3404, 'drunken': 1367, 'traveling': 4584, 'homestay': 2097, 'cork': 942, 'pointer': 3288, 'happend': 2007, 'asian': 228, 'ect': 1405, 'panick': 3105, 'potato': 3324, 'puppy': 3482, 'billion': 416, 'east': 1397, 'obstacle': 2980, 'tragic': 4557, 'campground': 595, 'ramen': 3532, 'hopelessness': 2115, 'kept': 2472, 'growth': 1968, 'horrid': 2121, 'succumb': 4277, 'intellectual': 2324, 'euro': 1528, 'hygiene': 2166, 'checkup': 683, 'shrink': 3974, 'sth': 4196, 'ucsf': 4646, 'honor': 2105, 'athlete': 251, 'du': 1370, 'caf': 580, 'finding': 1680, 'manageable': 2687, 'baker': 325, 'illinois': 2192, 'urge': 4741, 'tw': 4629, 'bleeding': 446, 'notion': 2944, 'kimber': 2481, 'flirtatious': 1708, 'infusion': 2276, 'bias': 408, 'relentless': 3642, 'adrenaline': 71, 'outdoors': 3048, 'grounded': 1962, 'staple': 4170, 'virtual': 4816, 'prisoner': 3389, 'terrorize': 4427, 'justice': 2462, 'crop': 1006, 'shooter': 3960, 'esports': 1517, 'signal': 3986, 'infancy': 2260, 'radically': 3521, 'unconditional': 4666, 'nonexistent': 2925, 'paradoxical': 3113, 'pedophile': 3173, 'disgusting': 1254, 'brutally': 536, 'engineering': 1475, 'unwelcome': 4730, 'crab': 980, 'thrice': 4474, 'bitcoin': 430, 'cyst': 1043, 'honey': 2104, 'slut': 4034, 'precaution': 3344, 'thereafter': 4451, 'boys': 493, 'http': 2146, 'rattle': 3555, 'altogether': 139, 'lighter': 2595, 'disassociation': 1234, 'significantly': 3989, 'handsome': 2003, 'dependency': 1135, 'fmla': 1722, 'spine': 4134, 'bio': 420, 'flaw': 1701, 'legalize': 2566, 'unrelated': 4720, 'longterm': 2637, 'tail': 4369, 'bro': 522, 'googling': 1907, 'virginity': 4815, 'fyi': 1824, 'browser': 530, 'tab': 4362, 'rebecca': 3576, 'nervousness': 2894, 'compassion': 821, 'poison': 3290, 'demon': 1125, 'somethings': 4084, 'cue': 1018, 'sleepover': 4022, 'cv': 1040, 'cheating': 680, 'futile': 1821, 'distraught': 1279, 'obscure': 2972, 'introduction': 2359, 'soap': 4058, 'peter': 3212, 'poet': 3286, 'uneasy': 4683, 'questioning': 3505, 'dismissive': 1260, 'dysmorphia': 1388, 'plat': 3262, 'duration': 1378, 'idol': 2183, 'jiggle': 2430, 'dehydration': 1112, 'psychedelics': 3457, 'joseph': 2445, 'restitution': 3710, 'paterno': 3148, 'contain': 906, 'plight': 3278, 'neuralgia': 2899, 'drained': 1337, 'perk': 3197, 'stephanie': 4194, 'ladder': 2512, 'inexpensive': 2259, 'erik': 1508, 'coop': 935, 'sausage': 3810, 'bikini': 412, 'nj': 2918, 'adrenal': 70, 'commission': 804, 'freepathshala': 1771, 'gurgaon': 1981, 'sec': 3861, 'homescreen': 2096, 'showcase': 3972, 'childish': 696, 'syllabus': 4353, 'proximity': 3451, 'noodle': 2927, 'racket': 3518, 'profoundly': 3414, 'sufficiency': 4286, 'insulate': 2319, 'profit': 3413, 'donor': 1309, 'privately': 3392, 'gal': 1828, 'eldest': 1425, 'th': 4437, 'devin': 1180, 'jittery': 2432, 'dermatologist': 1149, 'genital': 1863, 'thoroughly': 4464, 'bil': 413, 'hallucinate': 1996, 'twitch': 4636, 'obnoxious': 2971, 'tracking': 4552, 'studying': 4248, 'zofolt': 4996, 'ron': 3757, 'vip': 4813, 'surcharge': 4314, 'republican': 3678}\n"
          ]
        }
      ]
    },
    {
      "cell_type": "markdown",
      "source": [
        "## Model Training:"
      ],
      "metadata": {
        "id": "dJA7WlA2FQbb"
      }
    },
    {
      "cell_type": "code",
      "source": [
        "from sklearn.model_selection import GridSearchCV\n",
        "from sklearn import svm\n",
        "from sklearn.metrics import classification_report, confusion_matrix, accuracy_score\n",
        "\n",
        "# Define the parameter grid for Grid Search\n",
        "param_grid = {\n",
        "    'C': [0.1, 1, 10, 100, 1000],\n",
        "    'kernel': ['linear', 'rbf', 'poly', 'sigmoid'],\n",
        "    'degree': [2, 3, 4],\n",
        "    'gamma': ['scale', 'auto']\n",
        "}\n",
        "\n",
        "# Initialize the SVM classifier\n",
        "SVM = svm.SVC(class_weight='balanced')\n",
        "\n",
        "# Perform Grid Search with 5-fold cross-validation\n",
        "grid_search = GridSearchCV(SVM, param_grid, cv=5, scoring='accuracy')\n",
        "\n",
        "# Fit the grid search on the transformed training data\n",
        "grid_search.fit(Train_X_Tfidf, Train_Y) # Use the transformed data here\n",
        "\n",
        "# Get the best estimator from the grid search\n",
        "best_svm = grid_search.best_estimator_\n",
        "\n",
        "# Predict the labels on the validation set using the best estimator\n",
        "# Transform the validation data before prediction\n",
        "val_predictions_SVM = best_svm.predict(Val_X_Tfidf) # Use the transformed data here\n",
        "\n",
        "# Evaluate the model on the validation set\n",
        "print(f\"SVM Best Parameters: {grid_search.best_params_}\")\n",
        "print(f\"SVM Validation Accuracy Score -> {accuracy_score(val_predictions_SVM, Val_Y) * 100:.2f}%\")\n",
        "\n",
        "# Classification report and confusion matrix for validation set\n",
        "print(\"Validation Classification Report:\")\n",
        "print(classification_report(Val_Y, val_predictions_SVM))\n",
        "\n",
        "print(\"Validation Confusion Matrix:\")\n",
        "print(confusion_matrix(Val_Y, val_predictions_SVM))"
      ],
      "metadata": {
        "colab": {
          "base_uri": "https://localhost:8080/"
        },
        "id": "PPy--70TCDkt",
        "outputId": "8827a302-258a-43cd-eb02-82ad6e8b5ca9"
      },
      "execution_count": null,
      "outputs": [
        {
          "output_type": "stream",
          "name": "stdout",
          "text": [
            "SVM Best Parameters: {'C': 10, 'degree': 2, 'gamma': 'scale', 'kernel': 'rbf'}\n",
            "SVM Validation Accuracy Score -> 73.84%\n",
            "Validation Classification Report:\n",
            "              precision    recall  f1-score   support\n",
            "\n",
            "           0       0.20      0.02      0.03        58\n",
            "           1       0.75      0.99      0.85       518\n",
            "           2       0.47      0.11      0.18        79\n",
            "           3       0.75      0.05      0.10        56\n",
            "\n",
            "    accuracy                           0.74       711\n",
            "   macro avg       0.54      0.29      0.29       711\n",
            "weighted avg       0.67      0.74      0.65       711\n",
            "\n",
            "Validation Confusion Matrix:\n",
            "[[  1  53   4   0]\n",
            " [  1 512   5   0]\n",
            " [  2  67   9   1]\n",
            " [  1  51   1   3]]\n"
          ]
        }
      ]
    },
    {
      "cell_type": "code",
      "source": [
        "# Predict the labels on the test set using the best estimator\n",
        "test_predictions_SVM = best_svm.predict(Test_X_Tfidf)\n",
        "\n",
        "# Evaluate the model on the test set\n",
        "print(f\"SVM Test Accuracy Score -> {accuracy_score(test_predictions_SVM, Test_Y) * 100:.2f}%\")\n",
        "\n",
        "# Classification report and confusion matrix for test set\n",
        "print(\"Test Classification Report:\")\n",
        "print(classification_report(Test_Y, test_predictions_SVM))\n",
        "\n",
        "print(\"Test Confusion Matrix:\")\n",
        "print(confusion_matrix(Test_Y, test_predictions_SVM))\n"
      ],
      "metadata": {
        "colab": {
          "base_uri": "https://localhost:8080/"
        },
        "id": "RjfZbtrQD0Ju",
        "outputId": "4530beef-f68d-4309-a0c1-58924c5bba9e"
      },
      "execution_count": null,
      "outputs": [
        {
          "output_type": "stream",
          "name": "stdout",
          "text": [
            "SVM Test Accuracy Score -> 72.57%\n",
            "Test Classification Report:\n",
            "              precision    recall  f1-score   support\n",
            "\n",
            "           0       1.00      0.02      0.03        58\n",
            "           1       0.74      0.98      0.84       518\n",
            "           2       0.37      0.09      0.14        79\n",
            "           3       0.20      0.02      0.03        56\n",
            "\n",
            "    accuracy                           0.73       711\n",
            "   macro avg       0.58      0.28      0.26       711\n",
            "weighted avg       0.68      0.73      0.63       711\n",
            "\n",
            "Test Confusion Matrix:\n",
            "[[  1  55   1   1]\n",
            " [  0 507   8   3]\n",
            " [  0  72   7   0]\n",
            " [  0  52   3   1]]\n"
          ]
        }
      ]
    },
    {
      "cell_type": "code",
      "source": [
        "!pip install imblearn"
      ],
      "metadata": {
        "colab": {
          "base_uri": "https://localhost:8080/"
        },
        "id": "v7FOD5FvyUcq",
        "outputId": "ed96da0c-8ebf-4819-cf65-a05cca1deaf3"
      },
      "execution_count": 28,
      "outputs": [
        {
          "output_type": "stream",
          "name": "stdout",
          "text": [
            "Collecting imblearn\n",
            "  Downloading imblearn-0.0-py2.py3-none-any.whl (1.9 kB)\n",
            "Requirement already satisfied: imbalanced-learn in /usr/local/lib/python3.10/dist-packages (from imblearn) (0.10.1)\n",
            "Requirement already satisfied: numpy>=1.17.3 in /usr/local/lib/python3.10/dist-packages (from imbalanced-learn->imblearn) (1.25.2)\n",
            "Requirement already satisfied: scipy>=1.3.2 in /usr/local/lib/python3.10/dist-packages (from imbalanced-learn->imblearn) (1.11.4)\n",
            "Requirement already satisfied: scikit-learn>=1.0.2 in /usr/local/lib/python3.10/dist-packages (from imbalanced-learn->imblearn) (1.2.2)\n",
            "Requirement already satisfied: joblib>=1.1.1 in /usr/local/lib/python3.10/dist-packages (from imbalanced-learn->imblearn) (1.4.2)\n",
            "Requirement already satisfied: threadpoolctl>=2.0.0 in /usr/local/lib/python3.10/dist-packages (from imbalanced-learn->imblearn) (3.5.0)\n",
            "Installing collected packages: imblearn\n",
            "Successfully installed imblearn-0.0\n"
          ]
        }
      ]
    },
    {
      "cell_type": "code",
      "source": [
        "from imblearn.over_sampling import SMOTE\n",
        "from sklearn import svm\n",
        "from sklearn.linear_model import SGDClassifier\n",
        "from sklearn.model_selection import GridSearchCV\n",
        "from sklearn.metrics import accuracy_score, classification_report, confusion_matrix\n",
        "\n",
        "# Generate synthetic samples using SMOTE\n",
        "smote = SMOTE(random_state=42)\n",
        "Train_X_Tfidf_smote, Train_Y_smote = smote.fit_resample(Train_X_Tfidf, Train_Y)\n",
        "\n",
        "# Define parameter grids for Grid Search\n",
        "param_grid_svm = {\n",
        "    'C': [0.1, 1, 10, 100, 1000],\n",
        "    'kernel': ['linear', 'rbf', 'poly', 'sigmoid'],\n",
        "    'degree': [2, 3, 4],\n",
        "    'gamma': ['scale', 'auto']\n",
        "}\n",
        "\n",
        "param_grid_sgd = {\n",
        "    'loss': ['hinge',  'modified_huber'],\n",
        "    'penalty': ['l2', 'l1', 'elasticnet'],\n",
        "    'alpha': [0.0001, 0.001, 0.01, 0.1, 1],\n",
        "    'class_weight': [None, 'balanced']\n",
        "}\n",
        "\n",
        "# Initialize classifiers\n",
        "svm_classifier = svm.SVC()\n",
        "sgd_classifier = SGDClassifier(random_state=42)\n",
        "\n",
        "# Perform Grid Search with 5-fold cross-validation\n",
        "grid_search_svm = GridSearchCV(svm_classifier, param_grid_svm, cv=5, scoring='accuracy')\n",
        "grid_search_svm.fit(Train_X_Tfidf_smote, Train_Y_smote)\n",
        "\n",
        "grid_search_sgd = GridSearchCV(sgd_classifier, param_grid_sgd, cv=5, scoring='accuracy')\n",
        "grid_search_sgd.fit(Train_X_Tfidf_smote, Train_Y_smote)\n",
        "\n",
        "# Get the best estimators from the grid search\n",
        "best_svm_smote = grid_search_svm.best_estimator_\n",
        "best_sgd_smote = grid_search_sgd.best_estimator_\n",
        "\n",
        "# Predict the labels on the validation set using the best estimators\n",
        "val_predictions_svm_smote = best_svm_smote.predict(Val_X_Tfidf)\n",
        "val_predictions_sgd_smote = best_sgd_smote.predict(Val_X_Tfidf)\n",
        "\n",
        "# Evaluate the models on the validation set\n",
        "print(f\"SVM (SMOTE) Best Parameters: {grid_search_svm.best_params_}\")\n",
        "print(f\"SVM (SMOTE) Validation Accuracy Score -> {accuracy_score(val_predictions_svm_smote, Val_Y) * 100:.2f}%\")\n",
        "print(\"Validation Classification Report for SVM (SMOTE):\")\n",
        "print(classification_report(Val_Y, val_predictions_svm_smote))\n",
        "print(\"Validation Confusion Matrix for SVM (SMOTE):\")\n",
        "print(confusion_matrix(Val_Y, val_predictions_svm_smote))\n",
        "\n",
        "print(f\"SGD (SMOTE) Best Parameters: {grid_search_sgd.best_params_}\")\n",
        "print(f\"SGD (SMOTE) Validation Accuracy Score -> {accuracy_score(val_predictions_sgd_smote, Val_Y) * 100:.2f}%\")\n",
        "print(\"Validation Classification Report for SGD (SMOTE):\")\n",
        "print(classification_report(Val_Y, val_predictions_sgd_smote))\n",
        "print(\"Validation Confusion Matrix for SGD (SMOTE):\")\n",
        "print(confusion_matrix(Val_Y, val_predictions_sgd_smote))\n",
        "\n",
        "# Evaluate the models on the test set\n",
        "test_predictions_svm_smote = best_svm_smote.predict(Test_X_Tfidf)\n",
        "test_predictions_sgd_smote = best_sgd_smote.predict(Test_X_Tfidf)\n",
        "\n",
        "print(f\"SVM (SMOTE) Test Accuracy Score -> {accuracy_score(test_predictions_svm_smote, Test_Y) * 100:.2f}%\")\n",
        "print(\"Test Classification Report for SVM (SMOTE):\")\n",
        "print(classification_report(Test_Y, test_predictions_svm_smote))\n",
        "print(\"Test Confusion Matrix for SVM (SMOTE):\")\n",
        "print(confusion_matrix(Test_Y, test_predictions_svm_smote))\n",
        "\n",
        "print(f\"SGD (SMOTE) Test Accuracy Score -> {accuracy_score(test_predictions_sgd_smote, Test_Y) * 100:.2f}%\")\n",
        "print(\"Test Classification Report for SGD (SMOTE):\")\n",
        "print(classification_report(Test_Y, test_predictions_sgd_smote))\n",
        "print(\"Test Confusion Matrix for SGD (SMOTE):\")\n",
        "print(confusion_matrix(Test_Y, test_predictions_sgd_smote))\n"
      ],
      "metadata": {
        "colab": {
          "base_uri": "https://localhost:8080/"
        },
        "id": "wSmmbMTrwUNm",
        "outputId": "13ea8328-116a-4944-ed3d-f79ff8ef9a35"
      },
      "execution_count": 37,
      "outputs": [
        {
          "output_type": "stream",
          "name": "stdout",
          "text": [
            "SVM (SMOTE) Best Parameters: {'C': 1, 'degree': 2, 'gamma': 'scale', 'kernel': 'poly'}\n",
            "SVM (SMOTE) Validation Accuracy Score -> 73.14%\n",
            "Validation Classification Report for SVM (SMOTE):\n",
            "              precision    recall  f1-score   support\n",
            "\n",
            "           0       0.40      0.03      0.06        58\n",
            "           1       0.76      0.97      0.85       518\n",
            "           2       0.41      0.11      0.18        79\n",
            "           3       0.22      0.07      0.11        56\n",
            "\n",
            "    accuracy                           0.73       711\n",
            "   macro avg       0.45      0.30      0.30       711\n",
            "weighted avg       0.65      0.73      0.65       711\n",
            "\n",
            "Validation Confusion Matrix for SVM (SMOTE):\n",
            "[[  2  49   3   4]\n",
            " [  2 505   5   6]\n",
            " [  1  65   9   4]\n",
            " [  0  47   5   4]]\n",
            "SGD (SMOTE) Best Parameters: {'alpha': 0.0001, 'class_weight': 'balanced', 'loss': 'modified_huber', 'penalty': 'l2'}\n",
            "SGD (SMOTE) Validation Accuracy Score -> 67.23%\n",
            "Validation Classification Report for SGD (SMOTE):\n",
            "              precision    recall  f1-score   support\n",
            "\n",
            "           0       0.14      0.12      0.13        58\n",
            "           1       0.80      0.84      0.82       518\n",
            "           2       0.32      0.25      0.28        79\n",
            "           3       0.30      0.29      0.29        56\n",
            "\n",
            "    accuracy                           0.67       711\n",
            "   macro avg       0.39      0.37      0.38       711\n",
            "weighted avg       0.65      0.67      0.66       711\n",
            "\n",
            "Validation Confusion Matrix for SGD (SMOTE):\n",
            "[[  7  38   7   6]\n",
            " [ 25 435  34  24]\n",
            " [  8  44  20   7]\n",
            " [ 10  28   2  16]]\n",
            "SVM (SMOTE) Test Accuracy Score -> 72.29%\n",
            "Test Classification Report for SVM (SMOTE):\n",
            "              precision    recall  f1-score   support\n",
            "\n",
            "           0       0.33      0.03      0.06        58\n",
            "           1       0.75      0.97      0.85       518\n",
            "           2       0.30      0.09      0.14        79\n",
            "           3       0.25      0.05      0.09        56\n",
            "\n",
            "    accuracy                           0.72       711\n",
            "   macro avg       0.41      0.29      0.28       711\n",
            "weighted avg       0.63      0.72      0.64       711\n",
            "\n",
            "Test Confusion Matrix for SVM (SMOTE):\n",
            "[[  2  48   5   3]\n",
            " [  2 502   8   6]\n",
            " [  1  71   7   0]\n",
            " [  1  49   3   3]]\n",
            "SGD (SMOTE) Test Accuracy Score -> 67.09%\n",
            "Test Classification Report for SGD (SMOTE):\n",
            "              precision    recall  f1-score   support\n",
            "\n",
            "           0       0.20      0.16      0.17        58\n",
            "           1       0.80      0.84      0.82       518\n",
            "           2       0.32      0.30      0.31        79\n",
            "           3       0.22      0.20      0.21        56\n",
            "\n",
            "    accuracy                           0.67       711\n",
            "   macro avg       0.39      0.37      0.38       711\n",
            "weighted avg       0.65      0.67      0.66       711\n",
            "\n",
            "Test Confusion Matrix for SGD (SMOTE):\n",
            "[[  9  31   8  10]\n",
            " [ 27 433  34  24]\n",
            " [  6  45  24   4]\n",
            " [  3  33   9  11]]\n"
          ]
        }
      ]
    },
    {
      "cell_type": "code",
      "source": [],
      "metadata": {
        "id": "8fHUt0XmXauz"
      },
      "execution_count": null,
      "outputs": []
    },
    {
      "cell_type": "markdown",
      "source": [
        "## Data Visualisation"
      ],
      "metadata": {
        "id": "IIiUM_uF2Wuj"
      }
    },
    {
      "cell_type": "code",
      "source": [
        "import matplotlib.pyplot as plt\n",
        "import seaborn as sns\n",
        "from sklearn.metrics import classification_report, confusion_matrix\n",
        "\n",
        "# Function to plot confusion matrix\n",
        "def plot_confusion_matrix(y_true, y_pred, title):\n",
        "    cm = confusion_matrix(y_true, y_pred)\n",
        "    plt.figure(figsize=(10, 7))\n",
        "    sns.heatmap(cm, annot=True, fmt='d', cmap='Blues')\n",
        "    plt.title(title)\n",
        "    plt.xlabel('Predicted')\n",
        "    plt.ylabel('Actual')\n",
        "    plt.show()\n",
        "\n",
        "# Function to display classification report\n",
        "def display_classification_report(y_true, y_pred, title):\n",
        "    print(f\"{title} Classification Report:\")\n",
        "    print(classification_report(y_true, y_pred))\n",
        "\n",
        "# Plot and display classification reports and confusion matrices for SVM and SGD\n",
        "models = {\n",
        "    'SVM (SMOTE)': (test_predictions_svm_smote, \"Test Classification Report for SVM (SMOTE)\"),\n",
        "    'SGD (SMOTE)': (test_predictions_sgd_smote, \"Test Classification Report for SGD (SMOTE)\")\n",
        "}\n",
        "\n",
        "for model_name, (predictions, report_title) in models.items():\n",
        "    display_classification_report(Test_Y, predictions, model_name)\n",
        "    plot_confusion_matrix(Test_Y, predictions, model_name)"
      ],
      "metadata": {
        "colab": {
          "base_uri": "https://localhost:8080/",
          "height": 0
        },
        "id": "vS1Cixb8YA6X",
        "outputId": "75cb97c2-f75d-49f3-b79a-c078d7379aa7"
      },
      "execution_count": 38,
      "outputs": [
        {
          "output_type": "stream",
          "name": "stdout",
          "text": [
            "SVM (SMOTE) Classification Report:\n",
            "              precision    recall  f1-score   support\n",
            "\n",
            "           0       0.33      0.03      0.06        58\n",
            "           1       0.75      0.97      0.85       518\n",
            "           2       0.30      0.09      0.14        79\n",
            "           3       0.25      0.05      0.09        56\n",
            "\n",
            "    accuracy                           0.72       711\n",
            "   macro avg       0.41      0.29      0.28       711\n",
            "weighted avg       0.63      0.72      0.64       711\n",
            "\n"
          ]
        },
        {
          "output_type": "display_data",
          "data": {
            "text/plain": [
              "<Figure size 1000x700 with 2 Axes>"
            ],
            "image/png": "[encoded data removed]"
          },
          "metadata": {}
        },
        {
          "output_type": "stream",
          "name": "stdout",
          "text": [
            "SGD (SMOTE) Classification Report:\n",
            "              precision    recall  f1-score   support\n",
            "\n",
            "           0       0.20      0.16      0.17        58\n",
            "           1       0.80      0.84      0.82       518\n",
            "           2       0.32      0.30      0.31        79\n",
            "           3       0.22      0.20      0.21        56\n",
            "\n",
            "    accuracy                           0.67       711\n",
            "   macro avg       0.39      0.37      0.38       711\n",
            "weighted avg       0.65      0.67      0.66       711\n",
            "\n"
          ]
        },
        {
          "output_type": "display_data",
          "data": {
            "text/plain": [
              "<Figure size 1000x700 with 2 Axes>"
            ],
            "image/png": "[encoded data removed]"
          },
          "metadata": {}
        }
      ]
    },
    {
      "cell_type": "markdown",
      "source": [
        "## Pretrained model vs trained models:"
      ],
      "metadata": {
        "id": "ysBeTjhGxf9H"
      }
    },
    {
      "cell_type": "code",
      "source": [
        "from sentence_transformers import SentenceTransformer\n",
        "import numpy as np\n",
        "\n",
        "# Load pretrained Sentence-BERT model\n",
        "model = SentenceTransformer('paraphrase-MiniLM-L6-v2')\n",
        "\n",
        "# Define representative text for each class label\n",
        "class_labels = {\n",
        "    0: \"text representing class 0\",\n",
        "    1: \"text representing class 1\",\n",
        "    2: \"text representing class 2\",\n",
        "    3: \"text representing class 3\"\n",
        "}\n",
        "\n",
        "# Generate embeddings for each class label\n",
        "class_embeddings = {label: model.encode([text])[0] for label, text in class_labels.items()}\n",
        "\n",
        "# Generate embeddings for test data\n",
        "Test_X_Embeddings = model.encode(Test_X.tolist())\n",
        "\n",
        "# Function to predict class based on cosine similarity\n",
        "def predict_class(embedding, class_embeddings):\n",
        "    similarities = {label: np.dot(embedding, class_embedding) / (np.linalg.norm(embedding) * np.linalg.norm(class_embedding))\n",
        "                    for label, class_embedding in class_embeddings.items()}\n",
        "    return max(similarities, key=similarities.get)\n",
        "\n",
        "# Predict classes for test data\n",
        "test_predictions_zero_shot = [predict_class(embedding, class_embeddings) for embedding in Test_X_Embeddings]\n",
        "\n",
        "# Evaluate the zero-shot predictions\n",
        "print(\"Zero-Shot Classification Test Accuracy Score ->\", accuracy_score(test_predictions_zero_shot, Test_Y) * 100)\n",
        "print(\"Test Classification Report for Zero-Shot Classification:\")\n",
        "print(classification_report(Test_Y, test_predictions_zero_shot))\n",
        "print(\"Test Confusion Matrix for Zero-Shot Classification:\")\n",
        "print(confusion_matrix(Test_Y, test_predictions_zero_shot))\n",
        "\n",
        "# Plot and display zero-shot classification report and confusion matrix\n",
        "display_classification_report(Test_Y, test_predictions_zero_shot, \"Zero-Shot Classification\")\n",
        "plot_confusion_matrix(Test_Y, test_predictions_zero_shot, \"Zero-Shot Classification\")"
      ],
      "metadata": {
        "colab": {
          "base_uri": "https://localhost:8080/",
          "height": 0
        },
        "id": "0LhfGMvrYLmR",
        "outputId": "e2dd2c23-7d54-4bc5-a76b-9f50786fa347"
      },
      "execution_count": 39,
      "outputs": [
        {
          "output_type": "stream",
          "name": "stderr",
          "text": [
            "/usr/local/lib/python3.10/dist-packages/huggingface_hub/file_download.py:1132: FutureWarning: `resume_download` is deprecated and will be removed in version 1.0.0. Downloads always resume when possible. If you want to force a new download, use `force_download=True`.\n",
            "  warnings.warn(\n"
          ]
        },
        {
          "output_type": "stream",
          "name": "stdout",
          "text": [
            "Zero-Shot Classification Test Accuracy Score -> 12.79887482419128\n",
            "Test Classification Report for Zero-Shot Classification:\n",
            "              precision    recall  f1-score   support\n",
            "\n",
            "           0       0.09      0.10      0.09        58\n",
            "           1       0.80      0.07      0.13       518\n",
            "           2       0.11      0.39      0.18        79\n",
            "           3       0.05      0.30      0.09        56\n",
            "\n",
            "    accuracy                           0.13       711\n",
            "   macro avg       0.26      0.22      0.12       711\n",
            "weighted avg       0.61      0.13      0.13       711\n",
            "\n",
            "Test Confusion Matrix for Zero-Shot Classification:\n",
            "[[  6   3  30  19]\n",
            " [ 49  37 181 251]\n",
            " [  6   3  31  39]\n",
            " [  8   3  28  17]]\n",
            "Zero-Shot Classification Classification Report:\n",
            "              precision    recall  f1-score   support\n",
            "\n",
            "           0       0.09      0.10      0.09        58\n",
            "           1       0.80      0.07      0.13       518\n",
            "           2       0.11      0.39      0.18        79\n",
            "           3       0.05      0.30      0.09        56\n",
            "\n",
            "    accuracy                           0.13       711\n",
            "   macro avg       0.26      0.22      0.12       711\n",
            "weighted avg       0.61      0.13      0.13       711\n",
            "\n"
          ]
        },
        {
          "output_type": "display_data",
          "data": {
            "text/plain": [
              "<Figure size 1000x700 with 2 Axes>"
            ],
            "image/png": "[encoded data removed]"
          },
          "metadata": {}
        }
      ]
    },
    {
      "cell_type": "code",
      "source": [
        "!pip install -U sentence-transformers"
      ],
      "metadata": {
        "id": "i138zj4lxk-6"
      },
      "execution_count": null,
      "outputs": []
    },
    {
      "cell_type": "markdown",
      "source": [
        "## Testing Depression Theories:"
      ],
      "metadata": {
        "id": "JwudZKE7H64j"
      }
    },
    {
      "cell_type": "markdown",
      "source": [
        "Theories of depression, features or patterns that have been observed\n",
        "Check if in our data we can find them"
      ],
      "metadata": {
        "id": "-LjB2k-cKypN"
      }
    },
    {
      "cell_type": "code",
      "source": [
        "!pip install shap"
      ],
      "metadata": {
        "colab": {
          "base_uri": "https://localhost:8080/"
        },
        "id": "CB3Sf60EIv2P",
        "outputId": "23ca4c29-0996-49f0-ef94-aec218e61cb4"
      },
      "execution_count": null,
      "outputs": [
        {
          "output_type": "stream",
          "name": "stdout",
          "text": [
            "Requirement already satisfied: shap in /usr/local/lib/python3.10/dist-packages (0.46.0)\n",
            "Requirement already satisfied: numpy in /usr/local/lib/python3.10/dist-packages (from shap) (1.25.2)\n",
            "Requirement already satisfied: scipy in /usr/local/lib/python3.10/dist-packages (from shap) (1.11.4)\n",
            "Requirement already satisfied: scikit-learn in /usr/local/lib/python3.10/dist-packages (from shap) (1.2.2)\n",
            "Requirement already satisfied: pandas in /usr/local/lib/python3.10/dist-packages (from shap) (2.0.3)\n",
            "Requirement already satisfied: tqdm>=4.27.0 in /usr/local/lib/python3.10/dist-packages (from shap) (4.66.4)\n",
            "Requirement already satisfied: packaging>20.9 in /usr/local/lib/python3.10/dist-packages (from shap) (24.1)\n",
            "Requirement already satisfied: slicer==0.0.8 in /usr/local/lib/python3.10/dist-packages (from shap) (0.0.8)\n",
            "Requirement already satisfied: numba in /usr/local/lib/python3.10/dist-packages (from shap) (0.58.1)\n",
            "Requirement already satisfied: cloudpickle in /usr/local/lib/python3.10/dist-packages (from shap) (2.2.1)\n",
            "Requirement already satisfied: llvmlite<0.42,>=0.41.0dev0 in /usr/local/lib/python3.10/dist-packages (from numba->shap) (0.41.1)\n",
            "Requirement already satisfied: python-dateutil>=2.8.2 in /usr/local/lib/python3.10/dist-packages (from pandas->shap) (2.8.2)\n",
            "Requirement already satisfied: pytz>=2020.1 in /usr/local/lib/python3.10/dist-packages (from pandas->shap) (2023.4)\n",
            "Requirement already satisfied: tzdata>=2022.1 in /usr/local/lib/python3.10/dist-packages (from pandas->shap) (2024.1)\n",
            "Requirement already satisfied: joblib>=1.1.1 in /usr/local/lib/python3.10/dist-packages (from scikit-learn->shap) (1.4.2)\n",
            "Requirement already satisfied: threadpoolctl>=2.0.0 in /usr/local/lib/python3.10/dist-packages (from scikit-learn->shap) (3.5.0)\n",
            "Requirement already satisfied: six>=1.5 in /usr/local/lib/python3.10/dist-packages (from python-dateutil>=2.8.2->pandas->shap) (1.16.0)\n"
          ]
        }
      ]
    },
    {
      "cell_type": "code",
      "source": [
        "import shap\n",
        "import numpy as np\n",
        "\n",
        "# Function to explain and visualize the model with SHAP\n",
        "def explain_model_with_shap(model, model_name, X_train, X_test, feature_names):\n",
        "    # Sample a small subset of the training data for the SHAP explainer\n",
        "    sample_size = 50\n",
        "    X_train_sample = shap.sample(X_train, sample_size).toarray()\n",
        "    X_test_sample = shap.sample(X_test, sample_size).toarray()\n",
        "\n",
        "    # Initialize SHAP explainer with the sampled training data\n",
        "    explainer = shap.KernelExplainer(model.predict, X_train_sample)\n",
        "\n",
        "    # Compute SHAP values for the sampled test data\n",
        "    shap_values = explainer.shap_values(X_test_sample)\n",
        "\n",
        "    # Visualize SHAP values\n",
        "    print(f\"SHAP Summary Plot for {model_name}\")\n",
        "    shap.summary_plot(shap_values, X_test_sample, feature_names=feature_names)\n",
        "\n",
        "    # Visualize SHAP values for individual predictions\n",
        "    for i in range(3):  # Visualize for the first three test samples\n",
        "        print(f\"SHAP Force Plot for {model_name} - Test Sample {i+1}\")\n",
        "        shap.force_plot(explainer.expected_value, shap_values[i], X_test_sample[i], feature_names=feature_names)\n",
        "\n",
        "# Explain SVM (SMOTE) model\n",
        "explain_model_with_shap(best_svm_smote, \"SVM (SMOTE)\", Train_X_Tfidf_smote, Test_X_Tfidf, Tfidf_vect.get_feature_names_out())\n",
        "\n",
        "# Explain SGD (SMOTE) model\n",
        "explain_model_with_shap(best_sgd_smote, \"SGD (SMOTE)\", Train_X_Tfidf_smote, Test_X_Tfidf, Tfidf_vect.get_feature_names_out())\n"
      ],
      "metadata": {
        "colab": {
          "base_uri": "https://localhost:8080/",
          "height": 1000,
          "referenced_widgets": [
            "e24597884b3945edaefbfbd45f734202",
            "75a50867658b4c0a9ea900f3474be00b",
            "e443738d2d8c473ab3408dad967b74a2",
            "f0db71d2eccf40d8bae50e3556534976",
            "5b2e406327c745008638b4f03a656228",
            "e78b93e3d5fa44b9a3160b88d4cfb80f",
            "3a2c7a3cb8bc4558b45597be2ece48a3",
            "2a73a8a182924a2a8ebff43e9fe09f4e",
            "2028b4364745480da436dc2e152a0c88",
            "16cec2ce4eb14a18bc98a487d6c29151",
            "125ef110a8434468b7c8750a3dc80e52",
            "8b8728687d984b948c11fbafdc4fde2d",
            "256006915e0c48fa9077a0abc10a920b",
            "399797c754f248bb91171b259f0e9a71",
            "cbb7e960eeb541d3a54be4258e8a602e",
            "a6d578b693b74cf091d1d989c5c60aa0",
            "499b3388664140ebac480efa20567a54",
            "d9348974fb6d44808131949dfe71b2bc",
            "7067f6d7d24e40868c7444b9763f87f7",
            "749bc41f4ba546d295c46f6953324ca8",
            "e23b88aa827c450195e6506ed2b12aa6",
            "3bcf0e86420641779317d6e694963104"
          ]
        },
        "id": "Qd-vW2Ucv2-1",
        "outputId": "622b018a-f4be-47da-8989-235bdc6c8051"
      },
      "execution_count": 41,
      "outputs": [
        {
          "output_type": "display_data",
          "data": {
            "text/plain": [
              "  0%|          | 0/50 [00:00<?, ?it/s]"
            ],
            "application/vnd.jupyter.widget-view+json": {
              "version_major": 2,
              "version_minor": 0,
              "model_id": "e24597884b3945edaefbfbd45f734202"
            }
          },
          "metadata": {}
        },
        {
          "output_type": "stream",
          "name": "stdout",
          "text": [
            "SHAP Summary Plot for SVM (SMOTE)\n"
          ]
        },
        {
          "output_type": "display_data",
          "data": {
            "text/plain": [
              "<Figure size 800x950 with 2 Axes>"
            ],
            "image/png": "[encoded data removed]"
          },
          "metadata": {}
        },
        {
          "output_type": "stream",
          "name": "stdout",
          "text": [
            "SHAP Force Plot for SVM (SMOTE) - Test Sample 1\n",
            "SHAP Force Plot for SVM (SMOTE) - Test Sample 2\n",
            "SHAP Force Plot for SVM (SMOTE) - Test Sample 3\n"
          ]
        },
        {
          "output_type": "display_data",
          "data": {
            "text/plain": [
              "  0%|          | 0/50 [00:00<?, ?it/s]"
            ],
            "application/vnd.jupyter.widget-view+json": {
              "version_major": 2,
              "version_minor": 0,
              "model_id": "8b8728687d984b948c11fbafdc4fde2d"
            }
          },
          "metadata": {}
        },
        {
          "output_type": "stream",
          "name": "stdout",
          "text": [
            "SHAP Summary Plot for SGD (SMOTE)\n"
          ]
        },
        {
          "output_type": "display_data",
          "data": {
            "text/plain": [
              "<Figure size 800x950 with 2 Axes>"
            ],
            "image/png": "[encoded data removed]"
          },
          "metadata": {}
        },
        {
          "output_type": "stream",
          "name": "stdout",
          "text": [
            "SHAP Force Plot for SGD (SMOTE) - Test Sample 1\n",
            "SHAP Force Plot for SGD (SMOTE) - Test Sample 2\n",
            "SHAP Force Plot for SGD (SMOTE) - Test Sample 3\n"
          ]
        }
      ]
    }
  ]
}